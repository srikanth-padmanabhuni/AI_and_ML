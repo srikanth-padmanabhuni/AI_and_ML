{
 "cells": [
  {
   "cell_type": "markdown",
   "id": "082c439f",
   "metadata": {},
   "source": [
    "### Import All required libraries"
   ]
  },
  {
   "cell_type": "code",
   "execution_count": 3,
   "id": "f570a185",
   "metadata": {},
   "outputs": [],
   "source": [
    "import numpy as np\n",
    "import pandas as pd\n",
    "import seaborn as sb\n",
    "import matplotlib.pyplot as plt"
   ]
  },
  {
   "cell_type": "markdown",
   "id": "c3b00274",
   "metadata": {},
   "source": [
    "### Load all the csv files with suitable encoding format"
   ]
  },
  {
   "cell_type": "code",
   "execution_count": 4,
   "id": "5512b3c5",
   "metadata": {},
   "outputs": [],
   "source": [
    "### Using encoding format as ISO-8859-1, since it will remove the all junk characters and load data correctly\n",
    "companies = pd.read_csv('companies.csv', encoding='ISO-8859-1')\n",
    "rounds2 = pd.read_csv('rounds2.csv', encoding='ISO-8859-1')"
   ]
  },
  {
   "cell_type": "markdown",
   "id": "8bf4e598",
   "metadata": {},
   "source": [
    "#### Look for description of each data frame loaded like its count max,min etc..."
   ]
  },
  {
   "cell_type": "code",
   "execution_count": 5,
   "id": "66361f1a",
   "metadata": {},
   "outputs": [
    {
     "data": {
      "text/html": [
       "<div>\n",
       "<style scoped>\n",
       "    .dataframe tbody tr th:only-of-type {\n",
       "        vertical-align: middle;\n",
       "    }\n",
       "\n",
       "    .dataframe tbody tr th {\n",
       "        vertical-align: top;\n",
       "    }\n",
       "\n",
       "    .dataframe thead th {\n",
       "        text-align: right;\n",
       "    }\n",
       "</style>\n",
       "<table border=\"1\" class=\"dataframe\">\n",
       "  <thead>\n",
       "    <tr style=\"text-align: right;\">\n",
       "      <th></th>\n",
       "      <th>permalink</th>\n",
       "      <th>name</th>\n",
       "      <th>homepage_url</th>\n",
       "      <th>category_list</th>\n",
       "      <th>status</th>\n",
       "      <th>country_code</th>\n",
       "      <th>state_code</th>\n",
       "      <th>region</th>\n",
       "      <th>city</th>\n",
       "      <th>founded_at</th>\n",
       "    </tr>\n",
       "  </thead>\n",
       "  <tbody>\n",
       "    <tr>\n",
       "      <th>count</th>\n",
       "      <td>66368</td>\n",
       "      <td>66367</td>\n",
       "      <td>61310</td>\n",
       "      <td>63220</td>\n",
       "      <td>66368</td>\n",
       "      <td>59410</td>\n",
       "      <td>57821</td>\n",
       "      <td>58338</td>\n",
       "      <td>58340</td>\n",
       "      <td>51147</td>\n",
       "    </tr>\n",
       "    <tr>\n",
       "      <th>unique</th>\n",
       "      <td>66368</td>\n",
       "      <td>66099</td>\n",
       "      <td>61191</td>\n",
       "      <td>27296</td>\n",
       "      <td>4</td>\n",
       "      <td>137</td>\n",
       "      <td>311</td>\n",
       "      <td>1092</td>\n",
       "      <td>5111</td>\n",
       "      <td>3978</td>\n",
       "    </tr>\n",
       "    <tr>\n",
       "      <th>top</th>\n",
       "      <td>/Organization/Cbd-Biosciences</td>\n",
       "      <td>Roost</td>\n",
       "      <td>http://www.askforoffer.com</td>\n",
       "      <td>Software</td>\n",
       "      <td>operating</td>\n",
       "      <td>USA</td>\n",
       "      <td>CA</td>\n",
       "      <td>SF Bay Area</td>\n",
       "      <td>San Francisco</td>\n",
       "      <td>01-01-2012</td>\n",
       "    </tr>\n",
       "    <tr>\n",
       "      <th>freq</th>\n",
       "      <td>1</td>\n",
       "      <td>4</td>\n",
       "      <td>5</td>\n",
       "      <td>3995</td>\n",
       "      <td>53034</td>\n",
       "      <td>37601</td>\n",
       "      <td>12900</td>\n",
       "      <td>8804</td>\n",
       "      <td>3526</td>\n",
       "      <td>2730</td>\n",
       "    </tr>\n",
       "  </tbody>\n",
       "</table>\n",
       "</div>"
      ],
      "text/plain": [
       "                            permalink   name                homepage_url  \\\n",
       "count                           66368  66367                       61310   \n",
       "unique                          66368  66099                       61191   \n",
       "top     /Organization/Cbd-Biosciences  Roost  http://www.askforoffer.com   \n",
       "freq                                1      4                           5   \n",
       "\n",
       "       category_list     status country_code state_code       region  \\\n",
       "count          63220      66368        59410      57821        58338   \n",
       "unique         27296          4          137        311         1092   \n",
       "top         Software  operating          USA         CA  SF Bay Area   \n",
       "freq            3995      53034        37601      12900         8804   \n",
       "\n",
       "                 city  founded_at  \n",
       "count           58340       51147  \n",
       "unique           5111        3978  \n",
       "top     San Francisco  01-01-2012  \n",
       "freq             3526        2730  "
      ]
     },
     "execution_count": 5,
     "metadata": {},
     "output_type": "execute_result"
    }
   ],
   "source": [
    "companies.describe()"
   ]
  },
  {
   "cell_type": "code",
   "execution_count": 6,
   "id": "809b653e",
   "metadata": {},
   "outputs": [
    {
     "data": {
      "text/html": [
       "<div>\n",
       "<style scoped>\n",
       "    .dataframe tbody tr th:only-of-type {\n",
       "        vertical-align: middle;\n",
       "    }\n",
       "\n",
       "    .dataframe tbody tr th {\n",
       "        vertical-align: top;\n",
       "    }\n",
       "\n",
       "    .dataframe thead th {\n",
       "        text-align: right;\n",
       "    }\n",
       "</style>\n",
       "<table border=\"1\" class=\"dataframe\">\n",
       "  <thead>\n",
       "    <tr style=\"text-align: right;\">\n",
       "      <th></th>\n",
       "      <th>raised_amount_usd</th>\n",
       "    </tr>\n",
       "  </thead>\n",
       "  <tbody>\n",
       "    <tr>\n",
       "      <th>count</th>\n",
       "      <td>9.495900e+04</td>\n",
       "    </tr>\n",
       "    <tr>\n",
       "      <th>mean</th>\n",
       "      <td>1.042687e+07</td>\n",
       "    </tr>\n",
       "    <tr>\n",
       "      <th>std</th>\n",
       "      <td>1.148212e+08</td>\n",
       "    </tr>\n",
       "    <tr>\n",
       "      <th>min</th>\n",
       "      <td>0.000000e+00</td>\n",
       "    </tr>\n",
       "    <tr>\n",
       "      <th>25%</th>\n",
       "      <td>3.225000e+05</td>\n",
       "    </tr>\n",
       "    <tr>\n",
       "      <th>50%</th>\n",
       "      <td>1.680511e+06</td>\n",
       "    </tr>\n",
       "    <tr>\n",
       "      <th>75%</th>\n",
       "      <td>7.000000e+06</td>\n",
       "    </tr>\n",
       "    <tr>\n",
       "      <th>max</th>\n",
       "      <td>2.127194e+10</td>\n",
       "    </tr>\n",
       "  </tbody>\n",
       "</table>\n",
       "</div>"
      ],
      "text/plain": [
       "       raised_amount_usd\n",
       "count       9.495900e+04\n",
       "mean        1.042687e+07\n",
       "std         1.148212e+08\n",
       "min         0.000000e+00\n",
       "25%         3.225000e+05\n",
       "50%         1.680511e+06\n",
       "75%         7.000000e+06\n",
       "max         2.127194e+10"
      ]
     },
     "execution_count": 6,
     "metadata": {},
     "output_type": "execute_result"
    }
   ],
   "source": [
    "rounds2.describe()"
   ]
  },
  {
   "cell_type": "markdown",
   "id": "8f37e387",
   "metadata": {},
   "source": [
    "#### Look for information of each column for each data frame loaded"
   ]
  },
  {
   "cell_type": "code",
   "execution_count": 7,
   "id": "6574217c",
   "metadata": {},
   "outputs": [
    {
     "name": "stdout",
     "output_type": "stream",
     "text": [
      "<class 'pandas.core.frame.DataFrame'>\n",
      "RangeIndex: 66368 entries, 0 to 66367\n",
      "Data columns (total 10 columns):\n",
      " #   Column         Non-Null Count  Dtype \n",
      "---  ------         --------------  ----- \n",
      " 0   permalink      66368 non-null  object\n",
      " 1   name           66367 non-null  object\n",
      " 2   homepage_url   61310 non-null  object\n",
      " 3   category_list  63220 non-null  object\n",
      " 4   status         66368 non-null  object\n",
      " 5   country_code   59410 non-null  object\n",
      " 6   state_code     57821 non-null  object\n",
      " 7   region         58338 non-null  object\n",
      " 8   city           58340 non-null  object\n",
      " 9   founded_at     51147 non-null  object\n",
      "dtypes: object(10)\n",
      "memory usage: 5.1+ MB\n"
     ]
    }
   ],
   "source": [
    "companies.info()"
   ]
  },
  {
   "cell_type": "code",
   "execution_count": 8,
   "id": "0b6ad823",
   "metadata": {},
   "outputs": [
    {
     "name": "stdout",
     "output_type": "stream",
     "text": [
      "<class 'pandas.core.frame.DataFrame'>\n",
      "RangeIndex: 114949 entries, 0 to 114948\n",
      "Data columns (total 6 columns):\n",
      " #   Column                   Non-Null Count   Dtype  \n",
      "---  ------                   --------------   -----  \n",
      " 0   company_permalink        114949 non-null  object \n",
      " 1   funding_round_permalink  114949 non-null  object \n",
      " 2   funding_round_type       114949 non-null  object \n",
      " 3   funding_round_code       31140 non-null   object \n",
      " 4   funded_at                114949 non-null  object \n",
      " 5   raised_amount_usd        94959 non-null   float64\n",
      "dtypes: float64(1), object(5)\n",
      "memory usage: 5.3+ MB\n"
     ]
    }
   ],
   "source": [
    "rounds2.info()"
   ]
  },
  {
   "cell_type": "markdown",
   "id": "8f7e291b",
   "metadata": {},
   "source": [
    "#### Finding Shape & Null count of each data frame loaded"
   ]
  },
  {
   "cell_type": "markdown",
   "id": "1607f89a",
   "metadata": {},
   "source": [
    "#### For companies data set"
   ]
  },
  {
   "cell_type": "code",
   "execution_count": 9,
   "id": "b23a8be6",
   "metadata": {},
   "outputs": [
    {
     "data": {
      "text/plain": [
       "(66368, 10)"
      ]
     },
     "execution_count": 9,
     "metadata": {},
     "output_type": "execute_result"
    }
   ],
   "source": [
    "companies.shape"
   ]
  },
  {
   "cell_type": "code",
   "execution_count": 10,
   "id": "121d7451",
   "metadata": {},
   "outputs": [
    {
     "data": {
      "text/plain": [
       "permalink            0\n",
       "name                 1\n",
       "homepage_url      5058\n",
       "category_list     3148\n",
       "status               0\n",
       "country_code      6958\n",
       "state_code        8547\n",
       "region            8030\n",
       "city              8028\n",
       "founded_at       15221\n",
       "dtype: int64"
      ]
     },
     "execution_count": 10,
     "metadata": {},
     "output_type": "execute_result"
    }
   ],
   "source": [
    "companies.isnull().sum()\n",
    "\n",
    "### We have found that there are lot of null values around the columns \n",
    "### founded_at, state_code, region, city, country_code, homepage_url"
   ]
  },
  {
   "cell_type": "markdown",
   "id": "51f0e4a6",
   "metadata": {},
   "source": [
    "#### For rounds data set"
   ]
  },
  {
   "cell_type": "code",
   "execution_count": 11,
   "id": "68cd884e",
   "metadata": {},
   "outputs": [
    {
     "data": {
      "text/plain": [
       "(114949, 6)"
      ]
     },
     "execution_count": 11,
     "metadata": {},
     "output_type": "execute_result"
    }
   ],
   "source": [
    "rounds2.shape"
   ]
  },
  {
   "cell_type": "code",
   "execution_count": 12,
   "id": "755f33ce",
   "metadata": {},
   "outputs": [
    {
     "data": {
      "text/plain": [
       "company_permalink              0\n",
       "funding_round_permalink        0\n",
       "funding_round_type             0\n",
       "funding_round_code         83809\n",
       "funded_at                      0\n",
       "raised_amount_usd          19990\n",
       "dtype: int64"
      ]
     },
     "execution_count": 12,
     "metadata": {},
     "output_type": "execute_result"
    }
   ],
   "source": [
    "rounds2.isnull().sum()\n",
    "\n",
    "### We have found lots of null values found around the columns \n",
    "### funding_round_code, raised_amount_usd"
   ]
  },
  {
   "cell_type": "markdown",
   "id": "66494ad1",
   "metadata": {},
   "source": [
    "# For Results Expected: Table 1.1"
   ]
  },
  {
   "cell_type": "markdown",
   "id": "fa654a58",
   "metadata": {},
   "source": [
    "#### How many unique companies are present in rounds2?"
   ]
  },
  {
   "cell_type": "code",
   "execution_count": 13,
   "id": "b2f2f8c3",
   "metadata": {},
   "outputs": [
    {
     "data": {
      "text/plain": [
       "/ORGANIZATION/SOLARFLARE                  10\n",
       "/ORGANIZATION/SEMPRIUS                     9\n",
       "/ORGANIZATION/QUELLAN                      9\n",
       "/organization/semprius                     9\n",
       "/organization/exagen-diagnostics           9\n",
       "                                          ..\n",
       "/organization/healthcaresource             1\n",
       "/organization/primaeva-medical             1\n",
       "/ORGANIZATION/VISURE                       1\n",
       "/ORGANIZATION/CARIBE-SPECTRUM-HOLDINGS     1\n",
       "/organization/menias                       1\n",
       "Name: company_permalink, Length: 90247, dtype: int64"
      ]
     },
     "execution_count": 13,
     "metadata": {},
     "output_type": "execute_result"
    }
   ],
   "source": [
    "rounds2.company_permalink.value_counts()"
   ]
  },
  {
   "cell_type": "markdown",
   "id": "a1c9b60f",
   "metadata": {},
   "source": [
    "#### On running the above command we will get the unique column value and its count\n",
    "#### But we have found that company_permalink '/organization/quellan' and '/ORGANIZATION/QUELLAN' are actually same but \n",
    "#### differ in  the case sensitive. So, to get rid of such errors in counting the unique countries lets make them all same by converting #### them to lower case"
   ]
  },
  {
   "cell_type": "code",
   "execution_count": 14,
   "id": "073d046c",
   "metadata": {},
   "outputs": [
    {
     "data": {
      "text/plain": [
       "/organization/solarflare            19\n",
       "/organization/quellan               18\n",
       "/organization/exagen-diagnostics    18\n",
       "/organization/semprius              18\n",
       "/organization/vocalocity            17\n",
       "                                    ..\n",
       "/organization/asset-insights         1\n",
       "/organization/k2                     1\n",
       "/organization/kiwigrid               1\n",
       "/organization/shake-2                1\n",
       "/organization/menias                 1\n",
       "Name: company_permalink, Length: 66370, dtype: int64"
      ]
     },
     "execution_count": 14,
     "metadata": {},
     "output_type": "execute_result"
    }
   ],
   "source": [
    "### Converting the company permalink to lower case\n",
    "\n",
    "### We can do this by applying the lambda function or by defining the function and calling it by applying on it\n",
    "\n",
    "rounds2['company_permalink'] = rounds2['company_permalink'].apply(lambda permalink : permalink.lower())\n",
    "rounds2['company_permalink'].value_counts()"
   ]
  },
  {
   "cell_type": "markdown",
   "id": "66ea929f",
   "metadata": {},
   "source": [
    "#### Now, we can observe all of the permalinks are in lowercase and giving us the correct count of each individual company permalink"
   ]
  },
  {
   "cell_type": "code",
   "execution_count": 15,
   "id": "8cca9a63",
   "metadata": {},
   "outputs": [
    {
     "data": {
      "text/plain": [
       "array(['/organization/-fame', '/organization/-qounter',\n",
       "       '/organization/-the-one-of-them-inc-', ...,\n",
       "       '/organization/ã\\x81eron', '/organization/ã\\x94asys-2',\n",
       "       '/organization/ä°novatiff-reklam-ve-tanä±tä±m-hizmetleri-tic'],\n",
       "      dtype=object)"
      ]
     },
     "execution_count": 15,
     "metadata": {},
     "output_type": "execute_result"
    }
   ],
   "source": [
    "rounds2['company_permalink'].unique()"
   ]
  },
  {
   "cell_type": "markdown",
   "id": "9f81d1ca",
   "metadata": {},
   "source": [
    "#### Get the count of unique companies using company_permalink\n",
    "#### And also lets correct data in permalink using decoding formatter of ANSI "
   ]
  },
  {
   "cell_type": "code",
   "execution_count": 16,
   "id": "57b4856d",
   "metadata": {},
   "outputs": [
    {
     "data": {
      "text/plain": [
       "array(['/organization/-fame', '/organization/-qounter',\n",
       "       '/organization/-the-one-of-them-inc-', ..., '/organization/eron',\n",
       "       '/organization/asys-2',\n",
       "       '/organization/novatiff-reklam-ve-tantm-hizmetleri-tic'],\n",
       "      dtype=object)"
      ]
     },
     "execution_count": 16,
     "metadata": {},
     "output_type": "execute_result"
    }
   ],
   "source": [
    "### Decoding using ASCII\n",
    "rounds2.company_permalink = rounds2.company_permalink.str.encode('ISO-8859-1').str.decode('ascii', 'ignore')\n",
    "rounds2.company_permalink.unique()"
   ]
  },
  {
   "cell_type": "markdown",
   "id": "eb57d02d",
   "metadata": {},
   "source": [
    "#### Now we can see that no junk characters found in comapny permalinks"
   ]
  },
  {
   "cell_type": "code",
   "execution_count": 17,
   "id": "6d64f5e7",
   "metadata": {},
   "outputs": [
    {
     "data": {
      "text/plain": [
       "66368"
      ]
     },
     "execution_count": 17,
     "metadata": {},
     "output_type": "execute_result"
    }
   ],
   "source": [
    "### Total unique comapnies\n",
    "len(rounds2['company_permalink'].unique())"
   ]
  },
  {
   "cell_type": "markdown",
   "id": "b5013210",
   "metadata": {},
   "source": [
    "## Therefore total unique companies in rounds2 is `66368`"
   ]
  },
  {
   "cell_type": "code",
   "execution_count": null,
   "id": "a1bed88a",
   "metadata": {},
   "outputs": [],
   "source": []
  },
  {
   "cell_type": "markdown",
   "id": "7ab6b37b",
   "metadata": {},
   "source": [
    "#### How many unique companies are present in companies?"
   ]
  },
  {
   "cell_type": "code",
   "execution_count": 18,
   "id": "c7376487",
   "metadata": {},
   "outputs": [
    {
     "data": {
      "text/plain": [
       "/Organization/Cbd-Biosciences               1\n",
       "/Organization/Yoyo                          1\n",
       "/Organization/Turbulenz                     1\n",
       "/Organization/Kiwi-Wearable-Technologies    1\n",
       "/Organization/Sport-Street                  1\n",
       "                                           ..\n",
       "/Organization/Respondent-Records            1\n",
       "/Organization/Policyx                       1\n",
       "/Organization/Medicalodges                  1\n",
       "/Organization/Robotics-Inventions           1\n",
       "/Organization/Capsule-Tech                  1\n",
       "Name: permalink, Length: 66368, dtype: int64"
      ]
     },
     "execution_count": 18,
     "metadata": {},
     "output_type": "execute_result"
    }
   ],
   "source": [
    "### We follow the same methodology that was followed in rounds2 dataset\n",
    "companies.permalink.value_counts()"
   ]
  },
  {
   "cell_type": "markdown",
   "id": "6ba7f20e",
   "metadata": {},
   "source": [
    "#### Just for a safe side let us make all the permalink as lowercase and decode using ANSI so that it will be completely in sink with rounds2 data set"
   ]
  },
  {
   "cell_type": "code",
   "execution_count": 19,
   "id": "acd886f3",
   "metadata": {},
   "outputs": [],
   "source": [
    "companies.permalink = companies.permalink.apply(lambda permalink : permalink.lower())\n",
    "companies.permalink = companies.permalink.str.encode('ISO-8859-1').str.decode('ascii', 'ignore')"
   ]
  },
  {
   "cell_type": "code",
   "execution_count": 20,
   "id": "16b1c807",
   "metadata": {},
   "outputs": [
    {
     "data": {
      "text/plain": [
       "array(['/organization/-fame', '/organization/-qounter',\n",
       "       '/organization/-the-one-of-them-inc-', ..., '/organization/eron',\n",
       "       '/organization/asys-2',\n",
       "       '/organization/novatiff-reklam-ve-tantm-hizmetleri-tic'],\n",
       "      dtype=object)"
      ]
     },
     "execution_count": 20,
     "metadata": {},
     "output_type": "execute_result"
    }
   ],
   "source": [
    "companies.permalink.unique()"
   ]
  },
  {
   "cell_type": "code",
   "execution_count": 21,
   "id": "be02d05f",
   "metadata": {},
   "outputs": [
    {
     "data": {
      "text/plain": [
       "66368"
      ]
     },
     "execution_count": 21,
     "metadata": {},
     "output_type": "execute_result"
    }
   ],
   "source": [
    "len(companies.permalink.unique())"
   ]
  },
  {
   "cell_type": "markdown",
   "id": "0f46da7b",
   "metadata": {},
   "source": [
    "# Therefore total unique companies in companies data set is `66368`"
   ]
  },
  {
   "cell_type": "code",
   "execution_count": null,
   "id": "1d5a5752",
   "metadata": {},
   "outputs": [],
   "source": []
  },
  {
   "cell_type": "markdown",
   "id": "1e4a1839",
   "metadata": {},
   "source": [
    "### In the companies data frame, which column can be used as the unique key for each company?"
   ]
  },
  {
   "cell_type": "code",
   "execution_count": 22,
   "id": "7424cbbc",
   "metadata": {},
   "outputs": [
    {
     "data": {
      "text/plain": [
       "(66368, 10)"
      ]
     },
     "execution_count": 22,
     "metadata": {},
     "output_type": "execute_result"
    }
   ],
   "source": [
    "companies.shape"
   ]
  },
  {
   "cell_type": "code",
   "execution_count": 23,
   "id": "2d3fd5a5",
   "metadata": {},
   "outputs": [
    {
     "data": {
      "text/plain": [
       "66368"
      ]
     },
     "execution_count": 23,
     "metadata": {},
     "output_type": "execute_result"
    }
   ],
   "source": [
    "total_rows_in_companies = (companies.shape)[0]\n",
    "total_rows_in_companies"
   ]
  },
  {
   "cell_type": "markdown",
   "id": "0d8891de",
   "metadata": {},
   "source": [
    "#### If any column having the unique count as the number of rows in the dataset can be considered as unique in the data.\n",
    "#### To find that let us use the following method to find the unique column"
   ]
  },
  {
   "cell_type": "code",
   "execution_count": 24,
   "id": "81a1423b",
   "metadata": {},
   "outputs": [
    {
     "name": "stdout",
     "output_type": "stream",
     "text": [
      "permalink : 66368\n"
     ]
    }
   ],
   "source": [
    "for column in companies.columns:\n",
    "    unique_data_count_in_col = len(companies[column].unique())\n",
    "    if unique_data_count_in_col == total_rows_in_companies:\n",
    "        print(column, \":\", unique_data_count_in_col);"
   ]
  },
  {
   "cell_type": "code",
   "execution_count": 25,
   "id": "2091a85b",
   "metadata": {},
   "outputs": [
    {
     "data": {
      "text/plain": [
       "66368"
      ]
     },
     "execution_count": 25,
     "metadata": {},
     "output_type": "execute_result"
    }
   ],
   "source": [
    "### Reconfirmation of column(permalink) unique count \n",
    "len(companies.permalink.unique())\n",
    "\n",
    "### 66368 is same as count of total rows in dataset"
   ]
  },
  {
   "cell_type": "markdown",
   "id": "3ca59059",
   "metadata": {},
   "source": [
    "# On the analysis we found that column `permalink` as unique and can be considered as the unique column in the companies dataset"
   ]
  },
  {
   "cell_type": "code",
   "execution_count": null,
   "id": "7051a924",
   "metadata": {},
   "outputs": [],
   "source": []
  },
  {
   "cell_type": "markdown",
   "id": "0ebe9b3e",
   "metadata": {},
   "source": [
    "### Are there any companies in the rounds2 file which are not present in companies?"
   ]
  },
  {
   "cell_type": "code",
   "execution_count": 26,
   "id": "b8f08271",
   "metadata": {},
   "outputs": [
    {
     "data": {
      "text/plain": [
       "0                                      /organization/-fame\n",
       "1                                   /organization/-qounter\n",
       "2                      /organization/-the-one-of-them-inc-\n",
       "3                                    /organization/0-6-com\n",
       "4                           /organization/004-technologies\n",
       "                               ...                        \n",
       "66363    /organization/zznode-science-and-technology-co...\n",
       "66364                            /organization/zzzzapp-com\n",
       "66365                                   /organization/eron\n",
       "66366                                 /organization/asys-2\n",
       "66367    /organization/novatiff-reklam-ve-tantm-hizmetl...\n",
       "Name: permalink, Length: 66368, dtype: object"
      ]
     },
     "execution_count": 26,
     "metadata": {},
     "output_type": "execute_result"
    }
   ],
   "source": [
    "# Since in rounds2 and companies dataset can be compared with  comapny_permalink and permalink respectively \n",
    "# to find the comapnies that are available in one data set and not in another data set\n",
    "\n",
    "### To perform that task lets use two temporary datasets of companies permalink column and rounds2 company_peramlink\n",
    "companies_permalink_data = companies.permalink\n",
    "companies_permalink_data"
   ]
  },
  {
   "cell_type": "code",
   "execution_count": 27,
   "id": "24da7b25",
   "metadata": {},
   "outputs": [
    {
     "data": {
      "text/plain": [
       "0                                       /organization/-fame\n",
       "1                                    /organization/-qounter\n",
       "2                                    /organization/-qounter\n",
       "3                       /organization/-the-one-of-them-inc-\n",
       "4                                     /organization/0-6-com\n",
       "                                ...                        \n",
       "114944                            /organization/zzzzapp-com\n",
       "114945                            /organization/zzzzapp-com\n",
       "114946                                   /organization/eron\n",
       "114947                                 /organization/asys-2\n",
       "114948    /organization/novatiff-reklam-ve-tantm-hizmetl...\n",
       "Name: company_permalink, Length: 114949, dtype: object"
      ]
     },
     "execution_count": 27,
     "metadata": {},
     "output_type": "execute_result"
    }
   ],
   "source": [
    "### Similarly get the permalink data of companies from rounds2 dataset\n",
    "rounds2_permalink_data = rounds2.company_permalink\n",
    "rounds2_permalink_data"
   ]
  },
  {
   "cell_type": "code",
   "execution_count": 28,
   "id": "642a56e5",
   "metadata": {},
   "outputs": [
    {
     "data": {
      "text/plain": [
       "set()"
      ]
     },
     "execution_count": 28,
     "metadata": {},
     "output_type": "execute_result"
    }
   ],
   "source": [
    "difference_permalinks_data = set(rounds2_permalink_data) - set(companies_permalink_data)\n",
    "difference_permalinks_data"
   ]
  },
  {
   "cell_type": "markdown",
   "id": "fa747a52",
   "metadata": {},
   "source": [
    "# Therefore it was proved that there are no companies available that are available in round2 and not in companies. \n",
    "# Hence the answer is NO(N)"
   ]
  },
  {
   "cell_type": "code",
   "execution_count": null,
   "id": "5f2cade4",
   "metadata": {},
   "outputs": [],
   "source": []
  },
  {
   "cell_type": "markdown",
   "id": "c8bcef2b",
   "metadata": {},
   "source": [
    "### Merge the two data frames so that all  variables (columns)  in the companies frame are added to the rounds2 data frame. Name the merged frame master_frame. How many observations are present in master_frame ?"
   ]
  },
  {
   "cell_type": "code",
   "execution_count": 29,
   "id": "d4ad2cb4",
   "metadata": {},
   "outputs": [
    {
     "data": {
      "text/plain": [
       "(114949, 16)"
      ]
     },
     "execution_count": 29,
     "metadata": {},
     "output_type": "execute_result"
    }
   ],
   "source": [
    "### Merging two data sets\n",
    "\n",
    "### Merge can be done using common column on both the datasets by left/right/outer join.\n",
    "### In this we use left join on columns company_permalink and permalink of datasets since, they are the common columns\n",
    "\n",
    "master_frame = pd.merge(rounds2, companies, left_on='company_permalink', right_on='permalink', how = 'left')\n",
    "master_frame.shape"
   ]
  },
  {
   "cell_type": "code",
   "execution_count": 30,
   "id": "7dcc9135",
   "metadata": {},
   "outputs": [
    {
     "data": {
      "text/plain": [
       "114949"
      ]
     },
     "execution_count": 30,
     "metadata": {},
     "output_type": "execute_result"
    }
   ],
   "source": [
    "masterFrame_total_observations = (master_frame.shape)[0]\n",
    "masterFrame_total_observations"
   ]
  },
  {
   "cell_type": "markdown",
   "id": "489c62ea",
   "metadata": {},
   "source": [
    "# Total observations in master_frame are `114949`"
   ]
  },
  {
   "cell_type": "code",
   "execution_count": null,
   "id": "b3f1b68f",
   "metadata": {},
   "outputs": [],
   "source": []
  },
  {
   "cell_type": "markdown",
   "id": "6677b58f",
   "metadata": {},
   "source": [
    "#### Lets clean data before going to the further analysis"
   ]
  },
  {
   "cell_type": "code",
   "execution_count": 31,
   "id": "7bb38c16",
   "metadata": {},
   "outputs": [
    {
     "name": "stdout",
     "output_type": "stream",
     "text": [
      "<class 'pandas.core.frame.DataFrame'>\n",
      "Int64Index: 114949 entries, 0 to 114948\n",
      "Data columns (total 16 columns):\n",
      " #   Column                   Non-Null Count   Dtype  \n",
      "---  ------                   --------------   -----  \n",
      " 0   company_permalink        114949 non-null  object \n",
      " 1   funding_round_permalink  114949 non-null  object \n",
      " 2   funding_round_type       114949 non-null  object \n",
      " 3   funding_round_code       31140 non-null   object \n",
      " 4   funded_at                114949 non-null  object \n",
      " 5   raised_amount_usd        94959 non-null   float64\n",
      " 6   permalink                114949 non-null  object \n",
      " 7   name                     114948 non-null  object \n",
      " 8   homepage_url             108815 non-null  object \n",
      " 9   category_list            111539 non-null  object \n",
      " 10  status                   114949 non-null  object \n",
      " 11  country_code             106271 non-null  object \n",
      " 12  state_code               104003 non-null  object \n",
      " 13  region                   104782 non-null  object \n",
      " 14  city                     104785 non-null  object \n",
      " 15  founded_at               94428 non-null   object \n",
      "dtypes: float64(1), object(15)\n",
      "memory usage: 14.9+ MB\n"
     ]
    }
   ],
   "source": [
    "master_frame.info()"
   ]
  },
  {
   "cell_type": "markdown",
   "id": "e46b57ff",
   "metadata": {},
   "source": [
    "#### Above we can see columns required for analysis are `company_permalink, raised_amount_usd, category_list, country_code, name, funding_round_type` so we can drop other un necessary columns. \n",
    "#### So, that we can analyze on remaining data"
   ]
  },
  {
   "cell_type": "code",
   "execution_count": 32,
   "id": "bd0fcdc6",
   "metadata": {},
   "outputs": [
    {
     "name": "stdout",
     "output_type": "stream",
     "text": [
      "<class 'pandas.core.frame.DataFrame'>\n",
      "Int64Index: 114949 entries, 0 to 114948\n",
      "Data columns (total 6 columns):\n",
      " #   Column              Non-Null Count   Dtype  \n",
      "---  ------              --------------   -----  \n",
      " 0   company_permalink   114949 non-null  object \n",
      " 1   funding_round_type  114949 non-null  object \n",
      " 2   raised_amount_usd   94959 non-null   float64\n",
      " 3   name                114948 non-null  object \n",
      " 4   category_list       111539 non-null  object \n",
      " 5   country_code        106271 non-null  object \n",
      "dtypes: float64(1), object(5)\n",
      "memory usage: 6.1+ MB\n"
     ]
    }
   ],
   "source": [
    "columns_not_required = ['funding_round_code', 'funding_round_permalink', 'funded_at','permalink', 'homepage_url', 'state_code', 'region', 'city', 'founded_at','status']\n",
    "master_frame = master_frame.drop(columns_not_required, axis=1) ### Dropping columns that are not required \n",
    "master_frame.info()"
   ]
  },
  {
   "cell_type": "markdown",
   "id": "f2cc858e",
   "metadata": {},
   "source": [
    "#### Now, let us observe the columns having percentage of null data"
   ]
  },
  {
   "cell_type": "code",
   "execution_count": 33,
   "id": "8a1e49dd",
   "metadata": {},
   "outputs": [
    {
     "data": {
      "text/plain": [
       "company_permalink      0.00\n",
       "funding_round_type     0.00\n",
       "raised_amount_usd     17.39\n",
       "name                   0.00\n",
       "category_list          2.97\n",
       "country_code           7.55\n",
       "dtype: float64"
      ]
     },
     "execution_count": 33,
     "metadata": {},
     "output_type": "execute_result"
    }
   ],
   "source": [
    "round((master_frame.isnull().sum()/masterFrame_total_observations)*100,2)"
   ]
  },
  {
   "cell_type": "markdown",
   "id": "34a9eb73",
   "metadata": {},
   "source": [
    "#### Since, columns category_list & country_code are having less percentage of null values and we can't impute them just by guessing or using mode so, let us drop those records whose category_list or country_code is null and lets check again"
   ]
  },
  {
   "cell_type": "code",
   "execution_count": 34,
   "id": "e18016a4",
   "metadata": {},
   "outputs": [
    {
     "name": "stdout",
     "output_type": "stream",
     "text": [
      "<class 'pandas.core.frame.DataFrame'>\n",
      "Int64Index: 104532 entries, 0 to 114947\n",
      "Data columns (total 6 columns):\n",
      " #   Column              Non-Null Count   Dtype  \n",
      "---  ------              --------------   -----  \n",
      " 0   company_permalink   104532 non-null  object \n",
      " 1   funding_round_type  104532 non-null  object \n",
      " 2   raised_amount_usd   88529 non-null   float64\n",
      " 3   name                104531 non-null  object \n",
      " 4   category_list       104532 non-null  object \n",
      " 5   country_code        104532 non-null  object \n",
      "dtypes: float64(1), object(5)\n",
      "memory usage: 5.6+ MB\n"
     ]
    }
   ],
   "source": [
    "master_frame = master_frame[~(master_frame['country_code'].isnull() |master_frame['category_list'].isnull())]\n",
    "master_frame.info()"
   ]
  },
  {
   "cell_type": "code",
   "execution_count": 35,
   "id": "cf8c27f0",
   "metadata": {},
   "outputs": [
    {
     "data": {
      "text/plain": [
       "company_permalink      0.00\n",
       "funding_round_type     0.00\n",
       "raised_amount_usd     13.92\n",
       "name                   0.00\n",
       "category_list          0.00\n",
       "country_code           0.00\n",
       "dtype: float64"
      ]
     },
     "execution_count": 35,
     "metadata": {},
     "output_type": "execute_result"
    }
   ],
   "source": [
    "round((master_frame.isnull().sum()/masterFrame_total_observations)*100,2)"
   ]
  },
  {
   "cell_type": "markdown",
   "id": "78407dfe",
   "metadata": {},
   "source": [
    "#### Before imputing/removing NULL data for raised_amount_usd, lets seggregate data & keep data only for four required funding  types they are `venture, seed, angel, private_equity`"
   ]
  },
  {
   "cell_type": "code",
   "execution_count": 36,
   "id": "cf9f9187",
   "metadata": {},
   "outputs": [
    {
     "data": {
      "text/plain": [
       "venture                  52024\n",
       "seed                     26438\n",
       "debt_financing            6701\n",
       "angel                     5417\n",
       "undisclosed               3960\n",
       "equity_crowdfunding       2970\n",
       "private_equity            2055\n",
       "grant                     2001\n",
       "convertible_note          1633\n",
       "post_ipo_equity            608\n",
       "product_crowdfunding       351\n",
       "post_ipo_debt              151\n",
       "non_equity_assistance      136\n",
       "secondary_market            87\n",
       "Name: funding_round_type, dtype: int64"
      ]
     },
     "execution_count": 36,
     "metadata": {},
     "output_type": "execute_result"
    }
   ],
   "source": [
    "master_frame.funding_round_type.value_counts()"
   ]
  },
  {
   "cell_type": "code",
   "execution_count": 37,
   "id": "5fee906b",
   "metadata": {},
   "outputs": [
    {
     "data": {
      "image/png": "[encoded data removed]",
      "text/plain": [
       "<Figure size 432x288 with 1 Axes>"
      ]
     },
     "metadata": {},
     "output_type": "display_data"
    },
    {
     "name": "stdout",
     "output_type": "stream",
     "text": [
      "venture                  52024\n",
      "seed                     26438\n",
      "debt_financing            6701\n",
      "angel                     5417\n",
      "undisclosed               3960\n",
      "equity_crowdfunding       2970\n",
      "private_equity            2055\n",
      "grant                     2001\n",
      "convertible_note          1633\n",
      "post_ipo_equity            608\n",
      "product_crowdfunding       351\n",
      "post_ipo_debt              151\n",
      "non_equity_assistance      136\n",
      "secondary_market            87\n",
      "Name: funding_round_type, dtype: int64\n"
     ]
    }
   ],
   "source": [
    "#### Pie chart for all funding types\n",
    "all_round_types = master_frame.funding_round_type.value_counts()\n",
    "\n",
    "# Create a pieplot\n",
    "plt.pie(all_round_types.values, labels=all_round_types.index, radius=1.5, wedgeprops = { 'linewidth' : 6, 'edgecolor' : 'white' })\n",
    "\n",
    "# add a circle at the center\n",
    "hallow_circle=plt.Circle( (0,0), 1, color='white')\n",
    "pie_plot_all_funding_types=plt.gcf()\n",
    "pie_plot_all_funding_types.gca().add_artist(hallow_circle)\n",
    "\n",
    "plt.show()\n",
    "print(all_round_types)"
   ]
  },
  {
   "cell_type": "code",
   "execution_count": 38,
   "id": "191d8edc",
   "metadata": {},
   "outputs": [
    {
     "name": "stdout",
     "output_type": "stream",
     "text": [
      "<class 'pandas.core.frame.DataFrame'>\n",
      "Int64Index: 85934 entries, 0 to 114947\n",
      "Data columns (total 6 columns):\n",
      " #   Column              Non-Null Count  Dtype  \n",
      "---  ------              --------------  -----  \n",
      " 0   company_permalink   85934 non-null  object \n",
      " 1   funding_round_type  85934 non-null  object \n",
      " 2   raised_amount_usd   75124 non-null  float64\n",
      " 3   name                85933 non-null  object \n",
      " 4   category_list       85934 non-null  object \n",
      " 5   country_code        85934 non-null  object \n",
      "dtypes: float64(1), object(5)\n",
      "memory usage: 4.6+ MB\n"
     ]
    }
   ],
   "source": [
    "required_funding_round_types = ['venture', 'seed', 'angel', 'private_equity']\n",
    "master_frame = master_frame[master_frame.funding_round_type.isin(required_funding_round_types)]\n",
    "master_frame.info()"
   ]
  },
  {
   "cell_type": "code",
   "execution_count": 39,
   "id": "5c409dde",
   "metadata": {},
   "outputs": [
    {
     "data": {
      "image/png": "[encoded data removed]",
      "text/plain": [
       "<Figure size 432x288 with 1 Axes>"
      ]
     },
     "metadata": {},
     "output_type": "display_data"
    },
    {
     "name": "stdout",
     "output_type": "stream",
     "text": [
      "venture           52024\n",
      "seed              26438\n",
      "angel              5417\n",
      "private_equity     2055\n",
      "Name: funding_round_type, dtype: int64\n"
     ]
    }
   ],
   "source": [
    "#### Pie chart for required funding types\n",
    "req_round_types = master_frame.funding_round_type.value_counts()\n",
    "\n",
    "# Create a pieplot\n",
    "plt.pie(req_round_types.values, labels=req_round_types.index, radius=1.5, wedgeprops = { 'linewidth' : 6, 'edgecolor' : 'white' })\n",
    "\n",
    "# add a circle at the center\n",
    "hallow_circle=plt.Circle( (0,0), 1, color='white')\n",
    "pie_plot_req_funding_types=plt.gcf()\n",
    "pie_plot_req_funding_types.gca().add_artist(hallow_circle)\n",
    "\n",
    "plt.show()\n",
    "print(req_round_types)"
   ]
  },
  {
   "cell_type": "code",
   "execution_count": 40,
   "id": "d461b903",
   "metadata": {},
   "outputs": [
    {
     "data": {
      "text/plain": [
       "company_permalink     0.0\n",
       "funding_round_type    0.0\n",
       "raised_amount_usd     9.4\n",
       "name                  0.0\n",
       "category_list         0.0\n",
       "country_code          0.0\n",
       "dtype: float64"
      ]
     },
     "execution_count": 40,
     "metadata": {},
     "output_type": "execute_result"
    }
   ],
   "source": [
    "round((master_frame.isnull().sum()/masterFrame_total_observations)*100,2)"
   ]
  },
  {
   "cell_type": "code",
   "execution_count": 41,
   "id": "2d986ce1",
   "metadata": {},
   "outputs": [
    {
     "data": {
      "text/plain": [
       "51              NaN\n",
       "69         100000.0\n",
       "93         500000.0\n",
       "98              NaN\n",
       "106        619494.0\n",
       "            ...    \n",
       "114913          NaN\n",
       "114919    2325000.0\n",
       "114929    2007363.0\n",
       "114935     875000.0\n",
       "114939     400000.0\n",
       "Name: raised_amount_usd, Length: 5417, dtype: float64"
      ]
     },
     "execution_count": 41,
     "metadata": {},
     "output_type": "execute_result"
    }
   ],
   "source": [
    "master_frame[master_frame['funding_round_type'] == 'angel']['raised_amount_usd']"
   ]
  },
  {
   "cell_type": "code",
   "execution_count": 42,
   "id": "6ea91329",
   "metadata": {},
   "outputs": [
    {
     "data": {
      "text/plain": [
       "0         10000000.0\n",
       "1                NaN\n",
       "4          2000000.0\n",
       "5                NaN\n",
       "8           719491.0\n",
       "             ...    \n",
       "114931     7991547.0\n",
       "114934      140500.0\n",
       "114936     8500000.0\n",
       "114937     2686600.0\n",
       "114941     1587301.0\n",
       "Name: raised_amount_usd, Length: 52024, dtype: float64"
      ]
     },
     "execution_count": 42,
     "metadata": {},
     "output_type": "execute_result"
    }
   ],
   "source": [
    "master_frame[master_frame['funding_round_type'] == 'venture']['raised_amount_usd']"
   ]
  },
  {
   "cell_type": "code",
   "execution_count": 43,
   "id": "6298c1cf",
   "metadata": {},
   "outputs": [
    {
     "data": {
      "text/plain": [
       "2          700000.0\n",
       "7           43360.0\n",
       "9         3000000.0\n",
       "13         150000.0\n",
       "15        1000050.0\n",
       "            ...    \n",
       "114940     320000.0\n",
       "114942       7000.0\n",
       "114943      33149.0\n",
       "114945      32842.0\n",
       "114947      18192.0\n",
       "Name: raised_amount_usd, Length: 26438, dtype: float64"
      ]
     },
     "execution_count": 43,
     "metadata": {},
     "output_type": "execute_result"
    }
   ],
   "source": [
    "master_frame[master_frame['funding_round_type'] == 'seed']['raised_amount_usd']"
   ]
  },
  {
   "cell_type": "code",
   "execution_count": 44,
   "id": "43b85ac5",
   "metadata": {},
   "outputs": [
    {
     "data": {
      "text/plain": [
       "21          6000000.0\n",
       "153       200000000.0\n",
       "178               NaN\n",
       "231       325000000.0\n",
       "312          200708.0\n",
       "             ...     \n",
       "114406      4319243.0\n",
       "114460            NaN\n",
       "114878            NaN\n",
       "114882      5000000.0\n",
       "114928        20967.0\n",
       "Name: raised_amount_usd, Length: 2055, dtype: float64"
      ]
     },
     "execution_count": 44,
     "metadata": {},
     "output_type": "execute_result"
    }
   ],
   "source": [
    "master_frame[master_frame['funding_round_type'] == 'private_equity']['raised_amount_usd']"
   ]
  },
  {
   "cell_type": "code",
   "execution_count": 45,
   "id": "007d5243",
   "metadata": {},
   "outputs": [
    {
     "data": {
      "text/plain": [
       "0         10000000.0\n",
       "1                NaN\n",
       "2           700000.0\n",
       "4          2000000.0\n",
       "5                NaN\n",
       "             ...    \n",
       "114941     1587301.0\n",
       "114942        7000.0\n",
       "114943       33149.0\n",
       "114945       32842.0\n",
       "114947       18192.0\n",
       "Name: raised_amount_usd, Length: 85934, dtype: float64"
      ]
     },
     "execution_count": 45,
     "metadata": {},
     "output_type": "execute_result"
    }
   ],
   "source": [
    "master_frame['raised_amount_usd']"
   ]
  },
  {
   "cell_type": "markdown",
   "id": "8bdfc9c3",
   "metadata": {},
   "source": [
    "#### After seggregating the data for required ventures amount of NULL data percentage for column `raised_amount_usd` got reduced to 9.4.\n",
    "\n",
    "#### Lets impute those null values with median of those respective `funding_round_type` median values"
   ]
  },
  {
   "cell_type": "code",
   "execution_count": 46,
   "id": "0f75632d",
   "metadata": {},
   "outputs": [],
   "source": [
    "master_frame['raised_amount_usd'] = master_frame.groupby(['funding_round_type']).raised_amount_usd.apply(lambda x : x.fillna(x.median()))"
   ]
  },
  {
   "cell_type": "markdown",
   "id": "34c7825c",
   "metadata": {},
   "source": [
    "##### Cross checking wether data is imputed correctly or not"
   ]
  },
  {
   "cell_type": "code",
   "execution_count": 47,
   "id": "19133aab",
   "metadata": {},
   "outputs": [
    {
     "data": {
      "text/plain": [
       "51         414906.0\n",
       "69         100000.0\n",
       "93         500000.0\n",
       "98         414906.0\n",
       "106        619494.0\n",
       "            ...    \n",
       "114913     414906.0\n",
       "114919    2325000.0\n",
       "114929    2007363.0\n",
       "114935     875000.0\n",
       "114939     400000.0\n",
       "Name: raised_amount_usd, Length: 5417, dtype: float64"
      ]
     },
     "execution_count": 47,
     "metadata": {},
     "output_type": "execute_result"
    }
   ],
   "source": [
    "master_frame[master_frame['funding_round_type'] == 'angel']['raised_amount_usd']"
   ]
  },
  {
   "cell_type": "code",
   "execution_count": 48,
   "id": "749b8426",
   "metadata": {},
   "outputs": [
    {
     "data": {
      "text/plain": [
       "0         10000000.0\n",
       "1          5000000.0\n",
       "4          2000000.0\n",
       "5          5000000.0\n",
       "8           719491.0\n",
       "             ...    \n",
       "114931     7991547.0\n",
       "114934      140500.0\n",
       "114936     8500000.0\n",
       "114937     2686600.0\n",
       "114941     1587301.0\n",
       "Name: raised_amount_usd, Length: 52024, dtype: float64"
      ]
     },
     "execution_count": 48,
     "metadata": {},
     "output_type": "execute_result"
    }
   ],
   "source": [
    "master_frame[master_frame['funding_round_type'] == 'venture']['raised_amount_usd']"
   ]
  },
  {
   "cell_type": "code",
   "execution_count": 49,
   "id": "ebccd567",
   "metadata": {},
   "outputs": [
    {
     "data": {
      "text/plain": [
       "2          700000.0\n",
       "7           43360.0\n",
       "9         3000000.0\n",
       "13         150000.0\n",
       "15        1000050.0\n",
       "            ...    \n",
       "114940     320000.0\n",
       "114942       7000.0\n",
       "114943      33149.0\n",
       "114945      32842.0\n",
       "114947      18192.0\n",
       "Name: raised_amount_usd, Length: 26438, dtype: float64"
      ]
     },
     "execution_count": 49,
     "metadata": {},
     "output_type": "execute_result"
    }
   ],
   "source": [
    "master_frame[master_frame['funding_round_type'] == 'seed']['raised_amount_usd']"
   ]
  },
  {
   "cell_type": "code",
   "execution_count": 50,
   "id": "ea690384",
   "metadata": {},
   "outputs": [
    {
     "data": {
      "text/plain": [
       "21          6000000.0\n",
       "153       200000000.0\n",
       "178        20000000.0\n",
       "231       325000000.0\n",
       "312          200708.0\n",
       "             ...     \n",
       "114406      4319243.0\n",
       "114460     20000000.0\n",
       "114878     20000000.0\n",
       "114882      5000000.0\n",
       "114928        20967.0\n",
       "Name: raised_amount_usd, Length: 2055, dtype: float64"
      ]
     },
     "execution_count": 50,
     "metadata": {},
     "output_type": "execute_result"
    }
   ],
   "source": [
    "master_frame[master_frame['funding_round_type'] == 'private_equity']['raised_amount_usd']"
   ]
  },
  {
   "cell_type": "code",
   "execution_count": 51,
   "id": "85537f5e",
   "metadata": {},
   "outputs": [
    {
     "data": {
      "text/plain": [
       "0"
      ]
     },
     "execution_count": 51,
     "metadata": {},
     "output_type": "execute_result"
    }
   ],
   "source": [
    "master_frame['raised_amount_usd'].isnull().sum()"
   ]
  },
  {
   "cell_type": "code",
   "execution_count": 52,
   "id": "b3cd82af",
   "metadata": {},
   "outputs": [
    {
     "data": {
      "text/plain": [
       "company_permalink     0.0\n",
       "funding_round_type    0.0\n",
       "raised_amount_usd     0.0\n",
       "name                  0.0\n",
       "category_list         0.0\n",
       "country_code          0.0\n",
       "dtype: float64"
      ]
     },
     "execution_count": 52,
     "metadata": {},
     "output_type": "execute_result"
    }
   ],
   "source": [
    "round((master_frame.isnull().sum()/masterFrame_total_observations)*100,2)"
   ]
  },
  {
   "cell_type": "markdown",
   "id": "0496dc64",
   "metadata": {},
   "source": [
    "#### Now all the null values from data set were removed"
   ]
  },
  {
   "cell_type": "code",
   "execution_count": null,
   "id": "a31f9628",
   "metadata": {},
   "outputs": [],
   "source": []
  },
  {
   "cell_type": "markdown",
   "id": "ebe04aef",
   "metadata": {},
   "source": [
    "# Results Expected: Table 2.1"
   ]
  },
  {
   "cell_type": "markdown",
   "id": "6306289b",
   "metadata": {},
   "source": [
    "### Representative funding amount for different types of fundings"
   ]
  },
  {
   "cell_type": "code",
   "execution_count": 53,
   "id": "7e9a5ada",
   "metadata": {},
   "outputs": [
    {
     "data": {
      "text/html": [
       "<div>\n",
       "<style scoped>\n",
       "    .dataframe tbody tr th:only-of-type {\n",
       "        vertical-align: middle;\n",
       "    }\n",
       "\n",
       "    .dataframe tbody tr th {\n",
       "        vertical-align: top;\n",
       "    }\n",
       "\n",
       "    .dataframe thead th {\n",
       "        text-align: right;\n",
       "    }\n",
       "</style>\n",
       "<table border=\"1\" class=\"dataframe\">\n",
       "  <thead>\n",
       "    <tr style=\"text-align: right;\">\n",
       "      <th></th>\n",
       "      <th>raised_amount_usd</th>\n",
       "    </tr>\n",
       "    <tr>\n",
       "      <th>funding_round_type</th>\n",
       "      <th></th>\n",
       "    </tr>\n",
       "  </thead>\n",
       "  <tbody>\n",
       "    <tr>\n",
       "      <th>angel</th>\n",
       "      <td>414906.0</td>\n",
       "    </tr>\n",
       "    <tr>\n",
       "      <th>private_equity</th>\n",
       "      <td>20000000.0</td>\n",
       "    </tr>\n",
       "    <tr>\n",
       "      <th>seed</th>\n",
       "      <td>300000.0</td>\n",
       "    </tr>\n",
       "    <tr>\n",
       "      <th>venture</th>\n",
       "      <td>5000000.0</td>\n",
       "    </tr>\n",
       "  </tbody>\n",
       "</table>\n",
       "</div>"
      ],
      "text/plain": [
       "                    raised_amount_usd\n",
       "funding_round_type                   \n",
       "angel                        414906.0\n",
       "private_equity             20000000.0\n",
       "seed                         300000.0\n",
       "venture                     5000000.0"
      ]
     },
     "execution_count": 53,
     "metadata": {},
     "output_type": "execute_result"
    }
   ],
   "source": [
    "representative_funding_amounts = pd.pivot_table(master_frame, index='funding_round_type', values='raised_amount_usd', aggfunc=np.median)\n",
    "representative_funding_amounts"
   ]
  },
  {
   "cell_type": "markdown",
   "id": "d78460d5",
   "metadata": {},
   "source": [
    "#### Therefore representative funding amounts for different types of funding_types are as follows\n",
    "### `angel` : `414906.0`\n",
    "### `private_equity` : `20000000.0`\n",
    "### `seed` : `300000.0`\n",
    "### `venture` : `5000000.0`"
   ]
  },
  {
   "cell_type": "code",
   "execution_count": null,
   "id": "3e18e87b",
   "metadata": {},
   "outputs": [],
   "source": []
  },
  {
   "cell_type": "markdown",
   "id": "0bd41e5e",
   "metadata": {},
   "source": [
    "### Considering that Spark Funds wants to invest between 5 to 15 million USD per  investment round, which investment type is the most suitable for them?"
   ]
  },
  {
   "cell_type": "code",
   "execution_count": 54,
   "id": "fbbc2181",
   "metadata": {},
   "outputs": [
    {
     "data": {
      "text/html": [
       "<div>\n",
       "<style scoped>\n",
       "    .dataframe tbody tr th:only-of-type {\n",
       "        vertical-align: middle;\n",
       "    }\n",
       "\n",
       "    .dataframe tbody tr th {\n",
       "        vertical-align: top;\n",
       "    }\n",
       "\n",
       "    .dataframe thead th {\n",
       "        text-align: right;\n",
       "    }\n",
       "</style>\n",
       "<table border=\"1\" class=\"dataframe\">\n",
       "  <thead>\n",
       "    <tr style=\"text-align: right;\">\n",
       "      <th></th>\n",
       "      <th>raised_amount_usd</th>\n",
       "    </tr>\n",
       "    <tr>\n",
       "      <th>funding_round_type</th>\n",
       "      <th></th>\n",
       "    </tr>\n",
       "  </thead>\n",
       "  <tbody>\n",
       "    <tr>\n",
       "      <th>angel</th>\n",
       "      <td>0.41</td>\n",
       "    </tr>\n",
       "    <tr>\n",
       "      <th>private_equity</th>\n",
       "      <td>20.00</td>\n",
       "    </tr>\n",
       "    <tr>\n",
       "      <th>seed</th>\n",
       "      <td>0.30</td>\n",
       "    </tr>\n",
       "    <tr>\n",
       "      <th>venture</th>\n",
       "      <td>5.00</td>\n",
       "    </tr>\n",
       "  </tbody>\n",
       "</table>\n",
       "</div>"
      ],
      "text/plain": [
       "                    raised_amount_usd\n",
       "funding_round_type                   \n",
       "angel                            0.41\n",
       "private_equity                  20.00\n",
       "seed                             0.30\n",
       "venture                          5.00"
      ]
     },
     "execution_count": 54,
     "metadata": {},
     "output_type": "execute_result"
    }
   ],
   "source": [
    "#### converting billion dollars into readable format by formatting big number into smaller number by dividing with 10e5\n",
    "#### So that 20000000.0 will become 20.00  which means 20 million USD\n",
    "representative_funding_amounts = round(representative_funding_amounts/10e5, 2)\n",
    "representative_funding_amounts"
   ]
  },
  {
   "cell_type": "code",
   "execution_count": 55,
   "id": "25d6d320",
   "metadata": {},
   "outputs": [
    {
     "data": {
      "text/plain": [
       "<Figure size 1080x1080 with 0 Axes>"
      ]
     },
     "metadata": {},
     "output_type": "display_data"
    },
    {
     "data": {
      "image/png": "[encoded data removed]",
      "text/plain": [
       "<Figure size 432x288 with 1 Axes>"
      ]
     },
     "metadata": {
      "needs_background": "light"
     },
     "output_type": "display_data"
    }
   ],
   "source": [
    "plt.figure(figsize=(15,15))\n",
    "funding_type_amount_plot = representative_funding_amounts.plot.bar(legend=False)\n",
    "plt.title(\"Funding type with amount of investement in USD\")\n",
    "funding_type_amount_plot.set(ylabel='Amount in USD Millions', xlabel='Funding Type')\n",
    "plt.show()"
   ]
  },
  {
   "cell_type": "markdown",
   "id": "f36982b1",
   "metadata": {},
   "source": [
    "# Therefore for Spark Funds `venture` type is more suitable to invest in between 5-15 Million USD s."
   ]
  },
  {
   "cell_type": "code",
   "execution_count": null,
   "id": "2c7111e7",
   "metadata": {},
   "outputs": [],
   "source": []
  },
  {
   "cell_type": "code",
   "execution_count": 56,
   "id": "6bd4e05a",
   "metadata": {},
   "outputs": [],
   "source": [
    "### Since it was clear that spark funds will make investment on 'venture'. So, now retain all rows whose type is not 'venture'\n",
    "master_frame = master_frame[master_frame['funding_round_type'] == 'venture']"
   ]
  },
  {
   "cell_type": "code",
   "execution_count": 57,
   "id": "4052ad29",
   "metadata": {},
   "outputs": [],
   "source": [
    "### drop the column 'funding_round_type' since it will be same for all rows\n",
    "master_frame = master_frame.drop(['funding_round_type'], axis = 1)"
   ]
  },
  {
   "cell_type": "code",
   "execution_count": 58,
   "id": "951b9e67",
   "metadata": {},
   "outputs": [
    {
     "data": {
      "text/html": [
       "<div>\n",
       "<style scoped>\n",
       "    .dataframe tbody tr th:only-of-type {\n",
       "        vertical-align: middle;\n",
       "    }\n",
       "\n",
       "    .dataframe tbody tr th {\n",
       "        vertical-align: top;\n",
       "    }\n",
       "\n",
       "    .dataframe thead th {\n",
       "        text-align: right;\n",
       "    }\n",
       "</style>\n",
       "<table border=\"1\" class=\"dataframe\">\n",
       "  <thead>\n",
       "    <tr style=\"text-align: right;\">\n",
       "      <th></th>\n",
       "      <th>company_permalink</th>\n",
       "      <th>raised_amount_usd</th>\n",
       "      <th>name</th>\n",
       "      <th>category_list</th>\n",
       "      <th>country_code</th>\n",
       "    </tr>\n",
       "  </thead>\n",
       "  <tbody>\n",
       "    <tr>\n",
       "      <th>0</th>\n",
       "      <td>/organization/-fame</td>\n",
       "      <td>10000000.0</td>\n",
       "      <td>#fame</td>\n",
       "      <td>Media</td>\n",
       "      <td>IND</td>\n",
       "    </tr>\n",
       "    <tr>\n",
       "      <th>1</th>\n",
       "      <td>/organization/-qounter</td>\n",
       "      <td>5000000.0</td>\n",
       "      <td>:Qounter</td>\n",
       "      <td>Application Platforms|Real Time|Social Network...</td>\n",
       "      <td>USA</td>\n",
       "    </tr>\n",
       "    <tr>\n",
       "      <th>4</th>\n",
       "      <td>/organization/0-6-com</td>\n",
       "      <td>2000000.0</td>\n",
       "      <td>0-6.com</td>\n",
       "      <td>Curated Web</td>\n",
       "      <td>CHN</td>\n",
       "    </tr>\n",
       "    <tr>\n",
       "      <th>5</th>\n",
       "      <td>/organization/004-technologies</td>\n",
       "      <td>5000000.0</td>\n",
       "      <td>004 Technologies</td>\n",
       "      <td>Software</td>\n",
       "      <td>USA</td>\n",
       "    </tr>\n",
       "    <tr>\n",
       "      <th>8</th>\n",
       "      <td>/organization/0ndine-biomedical-inc</td>\n",
       "      <td>719491.0</td>\n",
       "      <td>Ondine Biomedical Inc.</td>\n",
       "      <td>Biotechnology</td>\n",
       "      <td>CAN</td>\n",
       "    </tr>\n",
       "    <tr>\n",
       "      <th>...</th>\n",
       "      <td>...</td>\n",
       "      <td>...</td>\n",
       "      <td>...</td>\n",
       "      <td>...</td>\n",
       "      <td>...</td>\n",
       "    </tr>\n",
       "    <tr>\n",
       "      <th>114931</th>\n",
       "      <td>/organization/zyraz-technology</td>\n",
       "      <td>7991547.0</td>\n",
       "      <td>Zyraz Technology</td>\n",
       "      <td>Biotechnology</td>\n",
       "      <td>MYS</td>\n",
       "    </tr>\n",
       "    <tr>\n",
       "      <th>114934</th>\n",
       "      <td>/organization/zyrra</td>\n",
       "      <td>140500.0</td>\n",
       "      <td>Zyrra</td>\n",
       "      <td>E-Commerce</td>\n",
       "      <td>USA</td>\n",
       "    </tr>\n",
       "    <tr>\n",
       "      <th>114936</th>\n",
       "      <td>/organization/zystor</td>\n",
       "      <td>8500000.0</td>\n",
       "      <td>Zystor</td>\n",
       "      <td>Biotechnology</td>\n",
       "      <td>USA</td>\n",
       "    </tr>\n",
       "    <tr>\n",
       "      <th>114937</th>\n",
       "      <td>/organization/zytoprotec</td>\n",
       "      <td>2686600.0</td>\n",
       "      <td>Zytoprotec</td>\n",
       "      <td>Biotechnology</td>\n",
       "      <td>AUT</td>\n",
       "    </tr>\n",
       "    <tr>\n",
       "      <th>114941</th>\n",
       "      <td>/organization/zznode-science-and-technology-co...</td>\n",
       "      <td>1587301.0</td>\n",
       "      <td>ZZNode Science and Technology</td>\n",
       "      <td>Enterprise Software</td>\n",
       "      <td>CHN</td>\n",
       "    </tr>\n",
       "  </tbody>\n",
       "</table>\n",
       "<p>52024 rows × 5 columns</p>\n",
       "</div>"
      ],
      "text/plain": [
       "                                        company_permalink  raised_amount_usd  \\\n",
       "0                                     /organization/-fame         10000000.0   \n",
       "1                                  /organization/-qounter          5000000.0   \n",
       "4                                   /organization/0-6-com          2000000.0   \n",
       "5                          /organization/004-technologies          5000000.0   \n",
       "8                     /organization/0ndine-biomedical-inc           719491.0   \n",
       "...                                                   ...                ...   \n",
       "114931                     /organization/zyraz-technology          7991547.0   \n",
       "114934                                /organization/zyrra           140500.0   \n",
       "114936                               /organization/zystor          8500000.0   \n",
       "114937                           /organization/zytoprotec          2686600.0   \n",
       "114941  /organization/zznode-science-and-technology-co...          1587301.0   \n",
       "\n",
       "                                 name  \\\n",
       "0                               #fame   \n",
       "1                            :Qounter   \n",
       "4                             0-6.com   \n",
       "5                    004 Technologies   \n",
       "8              Ondine Biomedical Inc.   \n",
       "...                               ...   \n",
       "114931               Zyraz Technology   \n",
       "114934                          Zyrra   \n",
       "114936                         Zystor   \n",
       "114937                     Zytoprotec   \n",
       "114941  ZZNode Science and Technology   \n",
       "\n",
       "                                            category_list country_code  \n",
       "0                                                   Media          IND  \n",
       "1       Application Platforms|Real Time|Social Network...          USA  \n",
       "4                                             Curated Web          CHN  \n",
       "5                                                Software          USA  \n",
       "8                                           Biotechnology          CAN  \n",
       "...                                                   ...          ...  \n",
       "114931                                      Biotechnology          MYS  \n",
       "114934                                         E-Commerce          USA  \n",
       "114936                                      Biotechnology          USA  \n",
       "114937                                      Biotechnology          AUT  \n",
       "114941                                Enterprise Software          CHN  \n",
       "\n",
       "[52024 rows x 5 columns]"
      ]
     },
     "execution_count": 58,
     "metadata": {},
     "output_type": "execute_result"
    }
   ],
   "source": [
    "master_frame"
   ]
  },
  {
   "cell_type": "markdown",
   "id": "096de0da",
   "metadata": {},
   "source": [
    "# Results Expected: Table 3.1"
   ]
  },
  {
   "cell_type": "code",
   "execution_count": 59,
   "id": "83e14ecc",
   "metadata": {},
   "outputs": [
    {
     "data": {
      "text/html": [
       "<div>\n",
       "<style scoped>\n",
       "    .dataframe tbody tr th:only-of-type {\n",
       "        vertical-align: middle;\n",
       "    }\n",
       "\n",
       "    .dataframe tbody tr th {\n",
       "        vertical-align: top;\n",
       "    }\n",
       "\n",
       "    .dataframe thead th {\n",
       "        text-align: right;\n",
       "    }\n",
       "</style>\n",
       "<table border=\"1\" class=\"dataframe\">\n",
       "  <thead>\n",
       "    <tr style=\"text-align: right;\">\n",
       "      <th></th>\n",
       "      <th>raised_amount_usd</th>\n",
       "    </tr>\n",
       "    <tr>\n",
       "      <th>country_code</th>\n",
       "      <th></th>\n",
       "    </tr>\n",
       "  </thead>\n",
       "  <tbody>\n",
       "    <tr>\n",
       "      <th>ARE</th>\n",
       "      <td>3.826175e+08</td>\n",
       "    </tr>\n",
       "    <tr>\n",
       "      <th>ARG</th>\n",
       "      <td>3.643388e+08</td>\n",
       "    </tr>\n",
       "    <tr>\n",
       "      <th>ARM</th>\n",
       "      <td>2.651750e+07</td>\n",
       "    </tr>\n",
       "    <tr>\n",
       "      <th>AUS</th>\n",
       "      <td>1.404029e+09</td>\n",
       "    </tr>\n",
       "    <tr>\n",
       "      <th>AUT</th>\n",
       "      <td>6.383607e+08</td>\n",
       "    </tr>\n",
       "    <tr>\n",
       "      <th>...</th>\n",
       "      <td>...</td>\n",
       "    </tr>\n",
       "    <tr>\n",
       "      <th>UKR</th>\n",
       "      <td>1.779246e+07</td>\n",
       "    </tr>\n",
       "    <tr>\n",
       "      <th>URY</th>\n",
       "      <td>1.983000e+07</td>\n",
       "    </tr>\n",
       "    <tr>\n",
       "      <th>USA</th>\n",
       "      <td>4.305230e+11</td>\n",
       "    </tr>\n",
       "    <tr>\n",
       "      <th>VNM</th>\n",
       "      <td>1.073205e+08</td>\n",
       "    </tr>\n",
       "    <tr>\n",
       "      <th>ZAF</th>\n",
       "      <td>2.937131e+08</td>\n",
       "    </tr>\n",
       "  </tbody>\n",
       "</table>\n",
       "<p>103 rows × 1 columns</p>\n",
       "</div>"
      ],
      "text/plain": [
       "              raised_amount_usd\n",
       "country_code                   \n",
       "ARE                3.826175e+08\n",
       "ARG                3.643388e+08\n",
       "ARM                2.651750e+07\n",
       "AUS                1.404029e+09\n",
       "AUT                6.383607e+08\n",
       "...                         ...\n",
       "UKR                1.779246e+07\n",
       "URY                1.983000e+07\n",
       "USA                4.305230e+11\n",
       "VNM                1.073205e+08\n",
       "ZAF                2.937131e+08\n",
       "\n",
       "[103 rows x 1 columns]"
      ]
     },
     "execution_count": 59,
     "metadata": {},
     "output_type": "execute_result"
    }
   ],
   "source": [
    "### make a data frame named top9 with the top nine countries (based on the total investment amount each country has received)\n",
    "top9 = pd.pivot_table(master_frame, values = 'raised_amount_usd', index = 'country_code', aggfunc = 'sum')\n",
    "top9"
   ]
  },
  {
   "cell_type": "code",
   "execution_count": 60,
   "id": "80ad1fd6",
   "metadata": {},
   "outputs": [
    {
     "data": {
      "text/html": [
       "<div>\n",
       "<style scoped>\n",
       "    .dataframe tbody tr th:only-of-type {\n",
       "        vertical-align: middle;\n",
       "    }\n",
       "\n",
       "    .dataframe tbody tr th {\n",
       "        vertical-align: top;\n",
       "    }\n",
       "\n",
       "    .dataframe thead th {\n",
       "        text-align: right;\n",
       "    }\n",
       "</style>\n",
       "<table border=\"1\" class=\"dataframe\">\n",
       "  <thead>\n",
       "    <tr style=\"text-align: right;\">\n",
       "      <th></th>\n",
       "      <th>raised_amount_usd</th>\n",
       "    </tr>\n",
       "    <tr>\n",
       "      <th>country_code</th>\n",
       "      <th></th>\n",
       "    </tr>\n",
       "  </thead>\n",
       "  <tbody>\n",
       "    <tr>\n",
       "      <th>USA</th>\n",
       "      <td>4.305230e+11</td>\n",
       "    </tr>\n",
       "    <tr>\n",
       "      <th>CHN</th>\n",
       "      <td>4.185392e+10</td>\n",
       "    </tr>\n",
       "    <tr>\n",
       "      <th>GBR</th>\n",
       "      <td>2.119281e+10</td>\n",
       "    </tr>\n",
       "    <tr>\n",
       "      <th>IND</th>\n",
       "      <td>1.508651e+10</td>\n",
       "    </tr>\n",
       "    <tr>\n",
       "      <th>CAN</th>\n",
       "      <td>9.907218e+09</td>\n",
       "    </tr>\n",
       "    <tr>\n",
       "      <th>...</th>\n",
       "      <td>...</td>\n",
       "    </tr>\n",
       "    <tr>\n",
       "      <th>ECU</th>\n",
       "      <td>9.658500e+05</td>\n",
       "    </tr>\n",
       "    <tr>\n",
       "      <th>MCO</th>\n",
       "      <td>6.570000e+05</td>\n",
       "    </tr>\n",
       "    <tr>\n",
       "      <th>SAU</th>\n",
       "      <td>5.000000e+05</td>\n",
       "    </tr>\n",
       "    <tr>\n",
       "      <th>GTM</th>\n",
       "      <td>3.000000e+05</td>\n",
       "    </tr>\n",
       "    <tr>\n",
       "      <th>MMR</th>\n",
       "      <td>2.000000e+05</td>\n",
       "    </tr>\n",
       "  </tbody>\n",
       "</table>\n",
       "<p>103 rows × 1 columns</p>\n",
       "</div>"
      ],
      "text/plain": [
       "              raised_amount_usd\n",
       "country_code                   \n",
       "USA                4.305230e+11\n",
       "CHN                4.185392e+10\n",
       "GBR                2.119281e+10\n",
       "IND                1.508651e+10\n",
       "CAN                9.907218e+09\n",
       "...                         ...\n",
       "ECU                9.658500e+05\n",
       "MCO                6.570000e+05\n",
       "SAU                5.000000e+05\n",
       "GTM                3.000000e+05\n",
       "MMR                2.000000e+05\n",
       "\n",
       "[103 rows x 1 columns]"
      ]
     },
     "execution_count": 60,
     "metadata": {},
     "output_type": "execute_result"
    }
   ],
   "source": [
    "# Sort data based on amount\n",
    "top9 = top9.sort_values(by = 'raised_amount_usd', ascending = False)\n",
    "top9"
   ]
  },
  {
   "cell_type": "code",
   "execution_count": 61,
   "id": "c4c29e59",
   "metadata": {},
   "outputs": [
    {
     "data": {
      "text/html": [
       "<div>\n",
       "<style scoped>\n",
       "    .dataframe tbody tr th:only-of-type {\n",
       "        vertical-align: middle;\n",
       "    }\n",
       "\n",
       "    .dataframe tbody tr th {\n",
       "        vertical-align: top;\n",
       "    }\n",
       "\n",
       "    .dataframe thead th {\n",
       "        text-align: right;\n",
       "    }\n",
       "</style>\n",
       "<table border=\"1\" class=\"dataframe\">\n",
       "  <thead>\n",
       "    <tr style=\"text-align: right;\">\n",
       "      <th></th>\n",
       "      <th>raised_amount_usd</th>\n",
       "    </tr>\n",
       "    <tr>\n",
       "      <th>country_code</th>\n",
       "      <th></th>\n",
       "    </tr>\n",
       "  </thead>\n",
       "  <tbody>\n",
       "    <tr>\n",
       "      <th>USA</th>\n",
       "      <td>4.305230e+11</td>\n",
       "    </tr>\n",
       "    <tr>\n",
       "      <th>CHN</th>\n",
       "      <td>4.185392e+10</td>\n",
       "    </tr>\n",
       "    <tr>\n",
       "      <th>GBR</th>\n",
       "      <td>2.119281e+10</td>\n",
       "    </tr>\n",
       "    <tr>\n",
       "      <th>IND</th>\n",
       "      <td>1.508651e+10</td>\n",
       "    </tr>\n",
       "    <tr>\n",
       "      <th>CAN</th>\n",
       "      <td>9.907218e+09</td>\n",
       "    </tr>\n",
       "    <tr>\n",
       "      <th>FRA</th>\n",
       "      <td>7.521851e+09</td>\n",
       "    </tr>\n",
       "    <tr>\n",
       "      <th>ISR</th>\n",
       "      <td>7.409350e+09</td>\n",
       "    </tr>\n",
       "    <tr>\n",
       "      <th>DEU</th>\n",
       "      <td>7.401922e+09</td>\n",
       "    </tr>\n",
       "    <tr>\n",
       "      <th>JPN</th>\n",
       "      <td>3.362647e+09</td>\n",
       "    </tr>\n",
       "  </tbody>\n",
       "</table>\n",
       "</div>"
      ],
      "text/plain": [
       "              raised_amount_usd\n",
       "country_code                   \n",
       "USA                4.305230e+11\n",
       "CHN                4.185392e+10\n",
       "GBR                2.119281e+10\n",
       "IND                1.508651e+10\n",
       "CAN                9.907218e+09\n",
       "FRA                7.521851e+09\n",
       "ISR                7.409350e+09\n",
       "DEU                7.401922e+09\n",
       "JPN                3.362647e+09"
      ]
     },
     "execution_count": 61,
     "metadata": {},
     "output_type": "execute_result"
    }
   ],
   "source": [
    "# Get top9 data from sorted data\n",
    "top9 = top9.iloc[:9, ]\n",
    "top9"
   ]
  },
  {
   "cell_type": "code",
   "execution_count": 62,
   "id": "c60c32d3",
   "metadata": {},
   "outputs": [
    {
     "data": {
      "text/plain": [
       "{'CAN', 'CHN', 'DEU', 'FRA', 'GBR', 'IND', 'ISR', 'JPN', 'USA'}"
      ]
     },
     "execution_count": 62,
     "metadata": {},
     "output_type": "execute_result"
    }
   ],
   "source": [
    "top9_countries = set(['USA', 'CHN', 'GBR', 'IND', 'CAN', 'FRA', 'ISR', 'DEU', 'JPN'])\n",
    "top9_countries"
   ]
  },
  {
   "cell_type": "code",
   "execution_count": 63,
   "id": "1b909544",
   "metadata": {},
   "outputs": [],
   "source": [
    "english_speaking_countries = set(['ATG', 'BHS', 'BRB', 'BLZ', 'BWA', 'BDI', 'CMR', 'CAN', 'DMA', 'SWZ', 'FJI', 'GMB', 'GHA', 'GRD', 'GUY', 'IND', 'IRL', 'JAM', 'KEN', 'KIR', 'LSO', 'LBR', 'MWI', 'MLT', 'MHL', 'FSM', 'NAM', 'NRU', 'NGA', 'PAK', 'PLW', 'PNG', 'PHL', 'KNA', 'LCA', 'VCT', 'WSM', 'SYC', 'SLE', 'SGP', 'SLB', 'ZAF', 'SSD', 'SDN', 'TZA', 'TON', 'TUV', 'VUT', 'ZMB', 'ZWE', 'AUS', 'NZL', 'GBR', 'USA'])"
   ]
  },
  {
   "cell_type": "code",
   "execution_count": 64,
   "id": "51be3b83",
   "metadata": {},
   "outputs": [
    {
     "data": {
      "text/plain": [
       "{'CAN', 'GBR', 'IND', 'USA'}"
      ]
     },
     "execution_count": 64,
     "metadata": {},
     "output_type": "execute_result"
    }
   ],
   "source": [
    "### Finding english speaking countries from top9 highest funded countries\n",
    "top9_eng_speaking_countries = top9_countries.intersection(english_speaking_countries)\n",
    "top9_eng_speaking_countries"
   ]
  },
  {
   "cell_type": "code",
   "execution_count": 65,
   "id": "0a0e8a07",
   "metadata": {},
   "outputs": [
    {
     "data": {
      "text/html": [
       "<div>\n",
       "<style scoped>\n",
       "    .dataframe tbody tr th:only-of-type {\n",
       "        vertical-align: middle;\n",
       "    }\n",
       "\n",
       "    .dataframe tbody tr th {\n",
       "        vertical-align: top;\n",
       "    }\n",
       "\n",
       "    .dataframe thead th {\n",
       "        text-align: right;\n",
       "    }\n",
       "</style>\n",
       "<table border=\"1\" class=\"dataframe\">\n",
       "  <thead>\n",
       "    <tr style=\"text-align: right;\">\n",
       "      <th></th>\n",
       "      <th>raised_amount_usd</th>\n",
       "    </tr>\n",
       "    <tr>\n",
       "      <th>country_code</th>\n",
       "      <th></th>\n",
       "    </tr>\n",
       "  </thead>\n",
       "  <tbody>\n",
       "    <tr>\n",
       "      <th>USA</th>\n",
       "      <td>4.305230e+11</td>\n",
       "    </tr>\n",
       "    <tr>\n",
       "      <th>CHN</th>\n",
       "      <td>4.185392e+10</td>\n",
       "    </tr>\n",
       "    <tr>\n",
       "      <th>GBR</th>\n",
       "      <td>2.119281e+10</td>\n",
       "    </tr>\n",
       "    <tr>\n",
       "      <th>IND</th>\n",
       "      <td>1.508651e+10</td>\n",
       "    </tr>\n",
       "    <tr>\n",
       "      <th>CAN</th>\n",
       "      <td>9.907218e+09</td>\n",
       "    </tr>\n",
       "    <tr>\n",
       "      <th>FRA</th>\n",
       "      <td>7.521851e+09</td>\n",
       "    </tr>\n",
       "    <tr>\n",
       "      <th>ISR</th>\n",
       "      <td>7.409350e+09</td>\n",
       "    </tr>\n",
       "    <tr>\n",
       "      <th>DEU</th>\n",
       "      <td>7.401922e+09</td>\n",
       "    </tr>\n",
       "    <tr>\n",
       "      <th>JPN</th>\n",
       "      <td>3.362647e+09</td>\n",
       "    </tr>\n",
       "  </tbody>\n",
       "</table>\n",
       "</div>"
      ],
      "text/plain": [
       "              raised_amount_usd\n",
       "country_code                   \n",
       "USA                4.305230e+11\n",
       "CHN                4.185392e+10\n",
       "GBR                2.119281e+10\n",
       "IND                1.508651e+10\n",
       "CAN                9.907218e+09\n",
       "FRA                7.521851e+09\n",
       "ISR                7.409350e+09\n",
       "DEU                7.401922e+09\n",
       "JPN                3.362647e+09"
      ]
     },
     "execution_count": 65,
     "metadata": {},
     "output_type": "execute_result"
    }
   ],
   "source": [
    "top9"
   ]
  },
  {
   "cell_type": "markdown",
   "id": "72852c71",
   "metadata": {},
   "source": [
    "### From table and the list of english speaking countries we can find the top 3 english speaking countries who raised highest funds are `USA, GBR, IND`  respectively"
   ]
  },
  {
   "cell_type": "code",
   "execution_count": null,
   "id": "c032e830",
   "metadata": {},
   "outputs": [],
   "source": []
  },
  {
   "cell_type": "markdown",
   "id": "d1024556",
   "metadata": {},
   "source": [
    "### Plot graph for top9 countries"
   ]
  },
  {
   "cell_type": "code",
   "execution_count": 66,
   "id": "c470e98a",
   "metadata": {},
   "outputs": [
    {
     "data": {
      "text/plain": [
       "country_code\n",
       "ARE    3.826175e+08\n",
       "ARG    3.643388e+08\n",
       "ARM    2.651750e+07\n",
       "AUS    1.404029e+09\n",
       "AUT    6.383607e+08\n",
       "           ...     \n",
       "UKR    1.779246e+07\n",
       "URY    1.983000e+07\n",
       "USA    4.305230e+11\n",
       "VNM    1.073205e+08\n",
       "ZAF    2.937131e+08\n",
       "Name: raised_amount_usd, Length: 103, dtype: float64"
      ]
     },
     "execution_count": 66,
     "metadata": {},
     "output_type": "execute_result"
    }
   ],
   "source": [
    "top_countries = master_frame.groupby(['country_code']).raised_amount_usd.apply(lambda x : x.sum())\n",
    "top_countries"
   ]
  },
  {
   "cell_type": "code",
   "execution_count": 67,
   "id": "c4fe03e3",
   "metadata": {},
   "outputs": [
    {
     "data": {
      "text/html": [
       "<div>\n",
       "<style scoped>\n",
       "    .dataframe tbody tr th:only-of-type {\n",
       "        vertical-align: middle;\n",
       "    }\n",
       "\n",
       "    .dataframe tbody tr th {\n",
       "        vertical-align: top;\n",
       "    }\n",
       "\n",
       "    .dataframe thead th {\n",
       "        text-align: right;\n",
       "    }\n",
       "</style>\n",
       "<table border=\"1\" class=\"dataframe\">\n",
       "  <thead>\n",
       "    <tr style=\"text-align: right;\">\n",
       "      <th></th>\n",
       "      <th>country_code</th>\n",
       "      <th>raised_amount_usd</th>\n",
       "    </tr>\n",
       "  </thead>\n",
       "  <tbody>\n",
       "    <tr>\n",
       "      <th>100</th>\n",
       "      <td>USA</td>\n",
       "      <td>4.305230e+11</td>\n",
       "    </tr>\n",
       "    <tr>\n",
       "      <th>16</th>\n",
       "      <td>CHN</td>\n",
       "      <td>4.185392e+10</td>\n",
       "    </tr>\n",
       "    <tr>\n",
       "      <th>31</th>\n",
       "      <td>GBR</td>\n",
       "      <td>2.119281e+10</td>\n",
       "    </tr>\n",
       "    <tr>\n",
       "      <th>41</th>\n",
       "      <td>IND</td>\n",
       "      <td>1.508651e+10</td>\n",
       "    </tr>\n",
       "    <tr>\n",
       "      <th>13</th>\n",
       "      <td>CAN</td>\n",
       "      <td>9.907218e+09</td>\n",
       "    </tr>\n",
       "    <tr>\n",
       "      <th>...</th>\n",
       "      <td>...</td>\n",
       "      <td>...</td>\n",
       "    </tr>\n",
       "    <tr>\n",
       "      <th>25</th>\n",
       "      <td>ECU</td>\n",
       "      <td>9.658500e+05</td>\n",
       "    </tr>\n",
       "    <tr>\n",
       "      <th>61</th>\n",
       "      <td>MCO</td>\n",
       "      <td>6.570000e+05</td>\n",
       "    </tr>\n",
       "    <tr>\n",
       "      <th>85</th>\n",
       "      <td>SAU</td>\n",
       "      <td>5.000000e+05</td>\n",
       "    </tr>\n",
       "    <tr>\n",
       "      <th>36</th>\n",
       "      <td>GTM</td>\n",
       "      <td>3.000000e+05</td>\n",
       "    </tr>\n",
       "    <tr>\n",
       "      <th>65</th>\n",
       "      <td>MMR</td>\n",
       "      <td>2.000000e+05</td>\n",
       "    </tr>\n",
       "  </tbody>\n",
       "</table>\n",
       "<p>103 rows × 2 columns</p>\n",
       "</div>"
      ],
      "text/plain": [
       "    country_code  raised_amount_usd\n",
       "100          USA       4.305230e+11\n",
       "16           CHN       4.185392e+10\n",
       "31           GBR       2.119281e+10\n",
       "41           IND       1.508651e+10\n",
       "13           CAN       9.907218e+09\n",
       "..           ...                ...\n",
       "25           ECU       9.658500e+05\n",
       "61           MCO       6.570000e+05\n",
       "85           SAU       5.000000e+05\n",
       "36           GTM       3.000000e+05\n",
       "65           MMR       2.000000e+05\n",
       "\n",
       "[103 rows x 2 columns]"
      ]
     },
     "execution_count": 67,
     "metadata": {},
     "output_type": "execute_result"
    }
   ],
   "source": [
    "top_countries = top_countries.reset_index().sort_values(by='raised_amount_usd', ascending=False)\n",
    "top_countries"
   ]
  },
  {
   "cell_type": "code",
   "execution_count": 68,
   "id": "e069571d",
   "metadata": {},
   "outputs": [
    {
     "data": {
      "text/html": [
       "<div>\n",
       "<style scoped>\n",
       "    .dataframe tbody tr th:only-of-type {\n",
       "        vertical-align: middle;\n",
       "    }\n",
       "\n",
       "    .dataframe tbody tr th {\n",
       "        vertical-align: top;\n",
       "    }\n",
       "\n",
       "    .dataframe thead th {\n",
       "        text-align: right;\n",
       "    }\n",
       "</style>\n",
       "<table border=\"1\" class=\"dataframe\">\n",
       "  <thead>\n",
       "    <tr style=\"text-align: right;\">\n",
       "      <th></th>\n",
       "      <th>country_code</th>\n",
       "      <th>raised_amount_usd</th>\n",
       "    </tr>\n",
       "  </thead>\n",
       "  <tbody>\n",
       "    <tr>\n",
       "      <th>100</th>\n",
       "      <td>USA</td>\n",
       "      <td>4.305230e+11</td>\n",
       "    </tr>\n",
       "    <tr>\n",
       "      <th>16</th>\n",
       "      <td>CHN</td>\n",
       "      <td>4.185392e+10</td>\n",
       "    </tr>\n",
       "    <tr>\n",
       "      <th>31</th>\n",
       "      <td>GBR</td>\n",
       "      <td>2.119281e+10</td>\n",
       "    </tr>\n",
       "    <tr>\n",
       "      <th>41</th>\n",
       "      <td>IND</td>\n",
       "      <td>1.508651e+10</td>\n",
       "    </tr>\n",
       "    <tr>\n",
       "      <th>13</th>\n",
       "      <td>CAN</td>\n",
       "      <td>9.907218e+09</td>\n",
       "    </tr>\n",
       "    <tr>\n",
       "      <th>30</th>\n",
       "      <td>FRA</td>\n",
       "      <td>7.521851e+09</td>\n",
       "    </tr>\n",
       "    <tr>\n",
       "      <th>44</th>\n",
       "      <td>ISR</td>\n",
       "      <td>7.409350e+09</td>\n",
       "    </tr>\n",
       "    <tr>\n",
       "      <th>23</th>\n",
       "      <td>DEU</td>\n",
       "      <td>7.401922e+09</td>\n",
       "    </tr>\n",
       "    <tr>\n",
       "      <th>47</th>\n",
       "      <td>JPN</td>\n",
       "      <td>3.362647e+09</td>\n",
       "    </tr>\n",
       "  </tbody>\n",
       "</table>\n",
       "</div>"
      ],
      "text/plain": [
       "    country_code  raised_amount_usd\n",
       "100          USA       4.305230e+11\n",
       "16           CHN       4.185392e+10\n",
       "31           GBR       2.119281e+10\n",
       "41           IND       1.508651e+10\n",
       "13           CAN       9.907218e+09\n",
       "30           FRA       7.521851e+09\n",
       "44           ISR       7.409350e+09\n",
       "23           DEU       7.401922e+09\n",
       "47           JPN       3.362647e+09"
      ]
     },
     "execution_count": 68,
     "metadata": {},
     "output_type": "execute_result"
    }
   ],
   "source": [
    "top9_countries = top_countries.iloc[:9, ]\n",
    "top9_countries"
   ]
  },
  {
   "cell_type": "code",
   "execution_count": 69,
   "id": "f9cd87db",
   "metadata": {},
   "outputs": [],
   "source": [
    "def isEnglishSpeakingCountry(country_code):\n",
    "    if country_code in english_speaking_countries:\n",
    "        return 'Y';\n",
    "    else:\n",
    "        return 'N';"
   ]
  },
  {
   "cell_type": "code",
   "execution_count": 70,
   "id": "8fdedc39",
   "metadata": {},
   "outputs": [
    {
     "name": "stderr",
     "output_type": "stream",
     "text": [
      "<ipython-input-70-32fd66d36644>:1: SettingWithCopyWarning: \n",
      "A value is trying to be set on a copy of a slice from a DataFrame.\n",
      "Try using .loc[row_indexer,col_indexer] = value instead\n",
      "\n",
      "See the caveats in the documentation: https://pandas.pydata.org/pandas-docs/stable/user_guide/indexing.html#returning-a-view-versus-a-copy\n",
      "  top9_countries['isEnglishSpeaking'] = top9_countries['country_code'].apply(isEnglishSpeakingCountry);\n"
     ]
    },
    {
     "data": {
      "text/html": [
       "<div>\n",
       "<style scoped>\n",
       "    .dataframe tbody tr th:only-of-type {\n",
       "        vertical-align: middle;\n",
       "    }\n",
       "\n",
       "    .dataframe tbody tr th {\n",
       "        vertical-align: top;\n",
       "    }\n",
       "\n",
       "    .dataframe thead th {\n",
       "        text-align: right;\n",
       "    }\n",
       "</style>\n",
       "<table border=\"1\" class=\"dataframe\">\n",
       "  <thead>\n",
       "    <tr style=\"text-align: right;\">\n",
       "      <th></th>\n",
       "      <th>country_code</th>\n",
       "      <th>raised_amount_usd</th>\n",
       "      <th>isEnglishSpeaking</th>\n",
       "    </tr>\n",
       "  </thead>\n",
       "  <tbody>\n",
       "    <tr>\n",
       "      <th>100</th>\n",
       "      <td>USA</td>\n",
       "      <td>4.305230e+11</td>\n",
       "      <td>Y</td>\n",
       "    </tr>\n",
       "    <tr>\n",
       "      <th>16</th>\n",
       "      <td>CHN</td>\n",
       "      <td>4.185392e+10</td>\n",
       "      <td>N</td>\n",
       "    </tr>\n",
       "    <tr>\n",
       "      <th>31</th>\n",
       "      <td>GBR</td>\n",
       "      <td>2.119281e+10</td>\n",
       "      <td>Y</td>\n",
       "    </tr>\n",
       "    <tr>\n",
       "      <th>41</th>\n",
       "      <td>IND</td>\n",
       "      <td>1.508651e+10</td>\n",
       "      <td>Y</td>\n",
       "    </tr>\n",
       "    <tr>\n",
       "      <th>13</th>\n",
       "      <td>CAN</td>\n",
       "      <td>9.907218e+09</td>\n",
       "      <td>Y</td>\n",
       "    </tr>\n",
       "    <tr>\n",
       "      <th>30</th>\n",
       "      <td>FRA</td>\n",
       "      <td>7.521851e+09</td>\n",
       "      <td>N</td>\n",
       "    </tr>\n",
       "    <tr>\n",
       "      <th>44</th>\n",
       "      <td>ISR</td>\n",
       "      <td>7.409350e+09</td>\n",
       "      <td>N</td>\n",
       "    </tr>\n",
       "    <tr>\n",
       "      <th>23</th>\n",
       "      <td>DEU</td>\n",
       "      <td>7.401922e+09</td>\n",
       "      <td>N</td>\n",
       "    </tr>\n",
       "    <tr>\n",
       "      <th>47</th>\n",
       "      <td>JPN</td>\n",
       "      <td>3.362647e+09</td>\n",
       "      <td>N</td>\n",
       "    </tr>\n",
       "  </tbody>\n",
       "</table>\n",
       "</div>"
      ],
      "text/plain": [
       "    country_code  raised_amount_usd isEnglishSpeaking\n",
       "100          USA       4.305230e+11                 Y\n",
       "16           CHN       4.185392e+10                 N\n",
       "31           GBR       2.119281e+10                 Y\n",
       "41           IND       1.508651e+10                 Y\n",
       "13           CAN       9.907218e+09                 Y\n",
       "30           FRA       7.521851e+09                 N\n",
       "44           ISR       7.409350e+09                 N\n",
       "23           DEU       7.401922e+09                 N\n",
       "47           JPN       3.362647e+09                 N"
      ]
     },
     "execution_count": 70,
     "metadata": {},
     "output_type": "execute_result"
    }
   ],
   "source": [
    "top9_countries['isEnglishSpeaking'] = top9_countries['country_code'].apply(isEnglishSpeakingCountry);\n",
    "top9_countries"
   ]
  },
  {
   "cell_type": "code",
   "execution_count": 71,
   "id": "445d8324",
   "metadata": {},
   "outputs": [
    {
     "data": {
      "image/png": "[encoded data removed]",
      "text/plain": [
       "<Figure size 720x720 with 1 Axes>"
      ]
     },
     "metadata": {
      "needs_background": "light"
     },
     "output_type": "display_data"
    }
   ],
   "source": [
    "plt.figure(figsize=(10,10))\n",
    "bar_plot = sb.barplot(data=top9_countries, x='country_code', y='raised_amount_usd', hue='isEnglishSpeaking')\n",
    "bar_plot.set(xlabel=\"Country Code\", ylabel = \"Amount in USD\")\n",
    "plt.title(\"Total Investement in USD for top-9 english speaking countries\")\n",
    "plt.show()"
   ]
  },
  {
   "cell_type": "code",
   "execution_count": null,
   "id": "10e1af3e",
   "metadata": {},
   "outputs": [],
   "source": []
  },
  {
   "cell_type": "markdown",
   "id": "d0054a32",
   "metadata": {},
   "source": [
    "### Now retaining the other rows whose country is different from the top 3 english speaking countries. Since spark funds wants to invest only on top 3 english speaking countries"
   ]
  },
  {
   "cell_type": "code",
   "execution_count": 72,
   "id": "b15b4531",
   "metadata": {},
   "outputs": [],
   "source": [
    "top3_english_speaking_countries = ['USA', 'GBR', 'IND']"
   ]
  },
  {
   "cell_type": "code",
   "execution_count": 73,
   "id": "238b3d85",
   "metadata": {},
   "outputs": [
    {
     "data": {
      "text/plain": [
       "(52024, 5)"
      ]
     },
     "execution_count": 73,
     "metadata": {},
     "output_type": "execute_result"
    }
   ],
   "source": [
    "master_frame.shape"
   ]
  },
  {
   "cell_type": "code",
   "execution_count": 74,
   "id": "707d0ace",
   "metadata": {},
   "outputs": [
    {
     "data": {
      "text/plain": [
       "USA    38034\n",
       "GBR     2265\n",
       "IND      984\n",
       "Name: country_code, dtype: int64"
      ]
     },
     "execution_count": 74,
     "metadata": {},
     "output_type": "execute_result"
    }
   ],
   "source": [
    "master_frame = master_frame[master_frame.country_code.isin(top3_english_speaking_countries)]\n",
    "master_frame['country_code'].value_counts()"
   ]
  },
  {
   "cell_type": "code",
   "execution_count": 75,
   "id": "fba8af32",
   "metadata": {},
   "outputs": [
    {
     "data": {
      "text/plain": [
       "(41283, 5)"
      ]
     },
     "execution_count": 75,
     "metadata": {},
     "output_type": "execute_result"
    }
   ],
   "source": [
    "master_frame.shape"
   ]
  },
  {
   "cell_type": "code",
   "execution_count": null,
   "id": "e2c85741",
   "metadata": {},
   "outputs": [],
   "source": []
  },
  {
   "cell_type": "markdown",
   "id": "b995de7b",
   "metadata": {},
   "source": [
    "# Results Expected: Table 5.1"
   ]
  },
  {
   "cell_type": "code",
   "execution_count": 76,
   "id": "c3fa0cc6",
   "metadata": {},
   "outputs": [
    {
     "data": {
      "text/plain": [
       "category_list                              1\n",
       "Automotive & Sports                        0\n",
       "Blanks                                     0\n",
       "Cleantech / Semiconductors                 0\n",
       "Entertainment                              0\n",
       "Health                                     0\n",
       "Manufacturing                              0\n",
       "News, Search and Messaging                 0\n",
       "Others                                     0\n",
       "Social, Finance, Analytics, Advertising    0\n",
       "dtype: int64"
      ]
     },
     "execution_count": 76,
     "metadata": {},
     "output_type": "execute_result"
    }
   ],
   "source": [
    "### find null data in mapping data set\n",
    "mapping = pd.read_csv('mapping.csv', encoding='ISO-8859-1')\n",
    "mapping.isnull().sum()"
   ]
  },
  {
   "cell_type": "code",
   "execution_count": 77,
   "id": "cb8acd43",
   "metadata": {},
   "outputs": [
    {
     "data": {
      "text/plain": [
       "(688, 10)"
      ]
     },
     "execution_count": 77,
     "metadata": {},
     "output_type": "execute_result"
    }
   ],
   "source": [
    "mapping.shape"
   ]
  },
  {
   "cell_type": "code",
   "execution_count": 78,
   "id": "6088f67a",
   "metadata": {},
   "outputs": [
    {
     "data": {
      "text/plain": [
       "(687, 10)"
      ]
     },
     "execution_count": 78,
     "metadata": {},
     "output_type": "execute_result"
    }
   ],
   "source": [
    "# Since only one row having category_list as null and it is the primary key for mapping data set \n",
    "# we can't assume and impute it so, better to drop that row\n",
    "\n",
    "mapping = mapping[~(mapping.category_list.isnull() == True)]\n",
    "mapping.shape"
   ]
  },
  {
   "cell_type": "code",
   "execution_count": 79,
   "id": "a2d95440",
   "metadata": {},
   "outputs": [
    {
     "data": {
      "text/html": [
       "<div>\n",
       "<style scoped>\n",
       "    .dataframe tbody tr th:only-of-type {\n",
       "        vertical-align: middle;\n",
       "    }\n",
       "\n",
       "    .dataframe tbody tr th {\n",
       "        vertical-align: top;\n",
       "    }\n",
       "\n",
       "    .dataframe thead th {\n",
       "        text-align: right;\n",
       "    }\n",
       "</style>\n",
       "<table border=\"1\" class=\"dataframe\">\n",
       "  <thead>\n",
       "    <tr style=\"text-align: right;\">\n",
       "      <th></th>\n",
       "      <th>category_list</th>\n",
       "      <th>Automotive &amp; Sports</th>\n",
       "      <th>Blanks</th>\n",
       "      <th>Cleantech / Semiconductors</th>\n",
       "      <th>Entertainment</th>\n",
       "      <th>Health</th>\n",
       "      <th>Manufacturing</th>\n",
       "      <th>News, Search and Messaging</th>\n",
       "      <th>Others</th>\n",
       "      <th>Social, Finance, Analytics, Advertising</th>\n",
       "    </tr>\n",
       "  </thead>\n",
       "  <tbody>\n",
       "    <tr>\n",
       "      <th>1</th>\n",
       "      <td>3D</td>\n",
       "      <td>0</td>\n",
       "      <td>0</td>\n",
       "      <td>0</td>\n",
       "      <td>0</td>\n",
       "      <td>0</td>\n",
       "      <td>1</td>\n",
       "      <td>0</td>\n",
       "      <td>0</td>\n",
       "      <td>0</td>\n",
       "    </tr>\n",
       "    <tr>\n",
       "      <th>2</th>\n",
       "      <td>3D Printing</td>\n",
       "      <td>0</td>\n",
       "      <td>0</td>\n",
       "      <td>0</td>\n",
       "      <td>0</td>\n",
       "      <td>0</td>\n",
       "      <td>1</td>\n",
       "      <td>0</td>\n",
       "      <td>0</td>\n",
       "      <td>0</td>\n",
       "    </tr>\n",
       "    <tr>\n",
       "      <th>3</th>\n",
       "      <td>3D Technology</td>\n",
       "      <td>0</td>\n",
       "      <td>0</td>\n",
       "      <td>0</td>\n",
       "      <td>0</td>\n",
       "      <td>0</td>\n",
       "      <td>1</td>\n",
       "      <td>0</td>\n",
       "      <td>0</td>\n",
       "      <td>0</td>\n",
       "    </tr>\n",
       "    <tr>\n",
       "      <th>4</th>\n",
       "      <td>Accounting</td>\n",
       "      <td>0</td>\n",
       "      <td>0</td>\n",
       "      <td>0</td>\n",
       "      <td>0</td>\n",
       "      <td>0</td>\n",
       "      <td>0</td>\n",
       "      <td>0</td>\n",
       "      <td>0</td>\n",
       "      <td>1</td>\n",
       "    </tr>\n",
       "    <tr>\n",
       "      <th>5</th>\n",
       "      <td>Active Lifestyle</td>\n",
       "      <td>0</td>\n",
       "      <td>0</td>\n",
       "      <td>0</td>\n",
       "      <td>0</td>\n",
       "      <td>1</td>\n",
       "      <td>0</td>\n",
       "      <td>0</td>\n",
       "      <td>0</td>\n",
       "      <td>0</td>\n",
       "    </tr>\n",
       "    <tr>\n",
       "      <th>...</th>\n",
       "      <td>...</td>\n",
       "      <td>...</td>\n",
       "      <td>...</td>\n",
       "      <td>...</td>\n",
       "      <td>...</td>\n",
       "      <td>...</td>\n",
       "      <td>...</td>\n",
       "      <td>...</td>\n",
       "      <td>...</td>\n",
       "      <td>...</td>\n",
       "    </tr>\n",
       "    <tr>\n",
       "      <th>683</th>\n",
       "      <td>Wholesale</td>\n",
       "      <td>0</td>\n",
       "      <td>0</td>\n",
       "      <td>0</td>\n",
       "      <td>0</td>\n",
       "      <td>0</td>\n",
       "      <td>0</td>\n",
       "      <td>0</td>\n",
       "      <td>1</td>\n",
       "      <td>0</td>\n",
       "    </tr>\n",
       "    <tr>\n",
       "      <th>684</th>\n",
       "      <td>Wine And Spirits</td>\n",
       "      <td>0</td>\n",
       "      <td>0</td>\n",
       "      <td>0</td>\n",
       "      <td>1</td>\n",
       "      <td>0</td>\n",
       "      <td>0</td>\n",
       "      <td>0</td>\n",
       "      <td>0</td>\n",
       "      <td>0</td>\n",
       "    </tr>\n",
       "    <tr>\n",
       "      <th>685</th>\n",
       "      <td>Wireless</td>\n",
       "      <td>0</td>\n",
       "      <td>0</td>\n",
       "      <td>0</td>\n",
       "      <td>1</td>\n",
       "      <td>0</td>\n",
       "      <td>0</td>\n",
       "      <td>0</td>\n",
       "      <td>0</td>\n",
       "      <td>0</td>\n",
       "    </tr>\n",
       "    <tr>\n",
       "      <th>686</th>\n",
       "      <td>Women</td>\n",
       "      <td>0</td>\n",
       "      <td>0</td>\n",
       "      <td>0</td>\n",
       "      <td>0</td>\n",
       "      <td>0</td>\n",
       "      <td>0</td>\n",
       "      <td>0</td>\n",
       "      <td>1</td>\n",
       "      <td>0</td>\n",
       "    </tr>\n",
       "    <tr>\n",
       "      <th>687</th>\n",
       "      <td>Young Adults</td>\n",
       "      <td>0</td>\n",
       "      <td>0</td>\n",
       "      <td>0</td>\n",
       "      <td>0</td>\n",
       "      <td>0</td>\n",
       "      <td>0</td>\n",
       "      <td>0</td>\n",
       "      <td>1</td>\n",
       "      <td>0</td>\n",
       "    </tr>\n",
       "  </tbody>\n",
       "</table>\n",
       "<p>687 rows × 10 columns</p>\n",
       "</div>"
      ],
      "text/plain": [
       "        category_list  Automotive & Sports  Blanks  \\\n",
       "1                  3D                    0       0   \n",
       "2         3D Printing                    0       0   \n",
       "3       3D Technology                    0       0   \n",
       "4          Accounting                    0       0   \n",
       "5    Active Lifestyle                    0       0   \n",
       "..                ...                  ...     ...   \n",
       "683         Wholesale                    0       0   \n",
       "684  Wine And Spirits                    0       0   \n",
       "685          Wireless                    0       0   \n",
       "686             Women                    0       0   \n",
       "687      Young Adults                    0       0   \n",
       "\n",
       "     Cleantech / Semiconductors  Entertainment  Health  Manufacturing  \\\n",
       "1                             0              0       0              1   \n",
       "2                             0              0       0              1   \n",
       "3                             0              0       0              1   \n",
       "4                             0              0       0              0   \n",
       "5                             0              0       1              0   \n",
       "..                          ...            ...     ...            ...   \n",
       "683                           0              0       0              0   \n",
       "684                           0              1       0              0   \n",
       "685                           0              1       0              0   \n",
       "686                           0              0       0              0   \n",
       "687                           0              0       0              0   \n",
       "\n",
       "     News, Search and Messaging  Others  \\\n",
       "1                             0       0   \n",
       "2                             0       0   \n",
       "3                             0       0   \n",
       "4                             0       0   \n",
       "5                             0       0   \n",
       "..                          ...     ...   \n",
       "683                           0       1   \n",
       "684                           0       0   \n",
       "685                           0       0   \n",
       "686                           0       1   \n",
       "687                           0       1   \n",
       "\n",
       "     Social, Finance, Analytics, Advertising  \n",
       "1                                          0  \n",
       "2                                          0  \n",
       "3                                          0  \n",
       "4                                          1  \n",
       "5                                          0  \n",
       "..                                       ...  \n",
       "683                                        0  \n",
       "684                                        0  \n",
       "685                                        0  \n",
       "686                                        0  \n",
       "687                                        0  \n",
       "\n",
       "[687 rows x 10 columns]"
      ]
     },
     "execution_count": 79,
     "metadata": {},
     "output_type": "execute_result"
    }
   ],
   "source": [
    "mapping"
   ]
  },
  {
   "cell_type": "markdown",
   "id": "5f8255a8",
   "metadata": {},
   "source": [
    "#### Now let us clean data for `category_list` in master_frame dataset"
   ]
  },
  {
   "cell_type": "code",
   "execution_count": 80,
   "id": "d1eeb8d8",
   "metadata": {},
   "outputs": [
    {
     "data": {
      "text/plain": [
       "Biotechnology                                                           4728\n",
       "Software                                                                3391\n",
       "Health Care                                                             1258\n",
       "Clean Technology                                                        1090\n",
       "Enterprise Software                                                     1053\n",
       "                                                                        ... \n",
       "Advertising|Publishing|Social Media Marketing|User Experience Design       1\n",
       "Nonprofits|SaaS|Social Fundraising                                         1\n",
       "Career Planning|Personal Data|Video                                        1\n",
       "Computers|Finance Technology|Financial Services|Software                   1\n",
       "Chat|Identity|Messaging                                                    1\n",
       "Name: category_list, Length: 8377, dtype: int64"
      ]
     },
     "execution_count": 80,
     "metadata": {},
     "output_type": "execute_result"
    }
   ],
   "source": [
    "master_frame['category_list'].value_counts()"
   ]
  },
  {
   "cell_type": "code",
   "execution_count": 81,
   "id": "26f46213",
   "metadata": {},
   "outputs": [
    {
     "name": "stderr",
     "output_type": "stream",
     "text": [
      "<ipython-input-81-0d2fc1011d48>:4: SettingWithCopyWarning: \n",
      "A value is trying to be set on a copy of a slice from a DataFrame.\n",
      "Try using .loc[row_indexer,col_indexer] = value instead\n",
      "\n",
      "See the caveats in the documentation: https://pandas.pydata.org/pandas-docs/stable/user_guide/indexing.html#returning-a-view-versus-a-copy\n",
      "  master_frame['primary_sector'] = master_frame['category_list'].apply(lambda category: category.split('|')[0])\n"
     ]
    },
    {
     "data": {
      "text/plain": [
       "Biotechnology          6012\n",
       "Software               3505\n",
       "Advertising            1943\n",
       "Health Care            1639\n",
       "Enterprise Software    1631\n",
       "                       ... \n",
       "Outdoors                  1\n",
       "Tea                       1\n",
       "GreenTech                 1\n",
       "Online Identity           1\n",
       "Financial Exchanges       1\n",
       "Name: primary_sector, Length: 577, dtype: int64"
      ]
     },
     "execution_count": 81,
     "metadata": {},
     "output_type": "execute_result"
    }
   ],
   "source": [
    "### As per the business rule let us consider the first category among the list of categories sperated by '|' \n",
    "### and place it in a seperate column with name 'primary_sector'\n",
    "\n",
    "master_frame['primary_sector'] = master_frame['category_list'].apply(lambda category: category.split('|')[0])\n",
    "master_frame['primary_sector'].value_counts()"
   ]
  },
  {
   "cell_type": "code",
   "execution_count": 82,
   "id": "cf18d4fd",
   "metadata": {},
   "outputs": [
    {
     "data": {
      "text/html": [
       "<div>\n",
       "<style scoped>\n",
       "    .dataframe tbody tr th:only-of-type {\n",
       "        vertical-align: middle;\n",
       "    }\n",
       "\n",
       "    .dataframe tbody tr th {\n",
       "        vertical-align: top;\n",
       "    }\n",
       "\n",
       "    .dataframe thead th {\n",
       "        text-align: right;\n",
       "    }\n",
       "</style>\n",
       "<table border=\"1\" class=\"dataframe\">\n",
       "  <thead>\n",
       "    <tr style=\"text-align: right;\">\n",
       "      <th></th>\n",
       "      <th>category_list</th>\n",
       "      <th>variable</th>\n",
       "      <th>value</th>\n",
       "    </tr>\n",
       "  </thead>\n",
       "  <tbody>\n",
       "    <tr>\n",
       "      <th>0</th>\n",
       "      <td>3D</td>\n",
       "      <td>Manufacturing</td>\n",
       "      <td>1</td>\n",
       "    </tr>\n",
       "    <tr>\n",
       "      <th>1</th>\n",
       "      <td>3D Printing</td>\n",
       "      <td>Manufacturing</td>\n",
       "      <td>1</td>\n",
       "    </tr>\n",
       "    <tr>\n",
       "      <th>2</th>\n",
       "      <td>3D Technology</td>\n",
       "      <td>Manufacturing</td>\n",
       "      <td>1</td>\n",
       "    </tr>\n",
       "    <tr>\n",
       "      <th>3</th>\n",
       "      <td>Accounting</td>\n",
       "      <td>Manufacturing</td>\n",
       "      <td>0</td>\n",
       "    </tr>\n",
       "    <tr>\n",
       "      <th>4</th>\n",
       "      <td>Active Lifestyle</td>\n",
       "      <td>Manufacturing</td>\n",
       "      <td>0</td>\n",
       "    </tr>\n",
       "    <tr>\n",
       "      <th>...</th>\n",
       "      <td>...</td>\n",
       "      <td>...</td>\n",
       "      <td>...</td>\n",
       "    </tr>\n",
       "    <tr>\n",
       "      <th>5491</th>\n",
       "      <td>Wholesale</td>\n",
       "      <td>Social, Finance, Analytics, Advertising</td>\n",
       "      <td>0</td>\n",
       "    </tr>\n",
       "    <tr>\n",
       "      <th>5492</th>\n",
       "      <td>Wine And Spirits</td>\n",
       "      <td>Social, Finance, Analytics, Advertising</td>\n",
       "      <td>0</td>\n",
       "    </tr>\n",
       "    <tr>\n",
       "      <th>5493</th>\n",
       "      <td>Wireless</td>\n",
       "      <td>Social, Finance, Analytics, Advertising</td>\n",
       "      <td>0</td>\n",
       "    </tr>\n",
       "    <tr>\n",
       "      <th>5494</th>\n",
       "      <td>Women</td>\n",
       "      <td>Social, Finance, Analytics, Advertising</td>\n",
       "      <td>0</td>\n",
       "    </tr>\n",
       "    <tr>\n",
       "      <th>5495</th>\n",
       "      <td>Young Adults</td>\n",
       "      <td>Social, Finance, Analytics, Advertising</td>\n",
       "      <td>0</td>\n",
       "    </tr>\n",
       "  </tbody>\n",
       "</table>\n",
       "<p>5496 rows × 3 columns</p>\n",
       "</div>"
      ],
      "text/plain": [
       "         category_list                                 variable  value\n",
       "0                   3D                            Manufacturing      1\n",
       "1          3D Printing                            Manufacturing      1\n",
       "2        3D Technology                            Manufacturing      1\n",
       "3           Accounting                            Manufacturing      0\n",
       "4     Active Lifestyle                            Manufacturing      0\n",
       "...                ...                                      ...    ...\n",
       "5491         Wholesale  Social, Finance, Analytics, Advertising      0\n",
       "5492  Wine And Spirits  Social, Finance, Analytics, Advertising      0\n",
       "5493          Wireless  Social, Finance, Analytics, Advertising      0\n",
       "5494             Women  Social, Finance, Analytics, Advertising      0\n",
       "5495      Young Adults  Social, Finance, Analytics, Advertising      0\n",
       "\n",
       "[5496 rows x 3 columns]"
      ]
     },
     "execution_count": 82,
     "metadata": {},
     "output_type": "execute_result"
    }
   ],
   "source": [
    "### Create a column named main_sector in mapping table based on the data given for each category_list\n",
    "mapping = pd.melt(mapping, id_vars =['category_list'], value_vars =['Manufacturing','Automotive & Sports',\n",
    "                                                              'Cleantech / Semiconductors','Entertainment',\n",
    "                                                             'Health','News, Search and Messaging','Others',\n",
    "                                                             'Social, Finance, Analytics, Advertising']) \n",
    "mapping"
   ]
  },
  {
   "cell_type": "code",
   "execution_count": 83,
   "id": "b31b89f0",
   "metadata": {},
   "outputs": [
    {
     "data": {
      "text/html": [
       "<div>\n",
       "<style scoped>\n",
       "    .dataframe tbody tr th:only-of-type {\n",
       "        vertical-align: middle;\n",
       "    }\n",
       "\n",
       "    .dataframe tbody tr th {\n",
       "        vertical-align: top;\n",
       "    }\n",
       "\n",
       "    .dataframe thead th {\n",
       "        text-align: right;\n",
       "    }\n",
       "</style>\n",
       "<table border=\"1\" class=\"dataframe\">\n",
       "  <thead>\n",
       "    <tr style=\"text-align: right;\">\n",
       "      <th></th>\n",
       "      <th>category_list</th>\n",
       "      <th>variable</th>\n",
       "      <th>value</th>\n",
       "    </tr>\n",
       "  </thead>\n",
       "  <tbody>\n",
       "    <tr>\n",
       "      <th>0</th>\n",
       "      <td>3D</td>\n",
       "      <td>Manufacturing</td>\n",
       "      <td>1</td>\n",
       "    </tr>\n",
       "    <tr>\n",
       "      <th>1</th>\n",
       "      <td>3D Printing</td>\n",
       "      <td>Manufacturing</td>\n",
       "      <td>1</td>\n",
       "    </tr>\n",
       "    <tr>\n",
       "      <th>2</th>\n",
       "      <td>3D Technology</td>\n",
       "      <td>Manufacturing</td>\n",
       "      <td>1</td>\n",
       "    </tr>\n",
       "    <tr>\n",
       "      <th>6</th>\n",
       "      <td>Advanced Materials</td>\n",
       "      <td>Manufacturing</td>\n",
       "      <td>1</td>\n",
       "    </tr>\n",
       "    <tr>\n",
       "      <th>14</th>\n",
       "      <td>Agriculture</td>\n",
       "      <td>Manufacturing</td>\n",
       "      <td>1</td>\n",
       "    </tr>\n",
       "    <tr>\n",
       "      <th>...</th>\n",
       "      <td>...</td>\n",
       "      <td>...</td>\n",
       "      <td>...</td>\n",
       "    </tr>\n",
       "    <tr>\n",
       "      <th>5425</th>\n",
       "      <td>Social Recruiting</td>\n",
       "      <td>Social, Finance, Analytics, Advertising</td>\n",
       "      <td>1</td>\n",
       "    </tr>\n",
       "    <tr>\n",
       "      <th>5426</th>\n",
       "      <td>Social Television</td>\n",
       "      <td>Social, Finance, Analytics, Advertising</td>\n",
       "      <td>1</td>\n",
       "    </tr>\n",
       "    <tr>\n",
       "      <th>5427</th>\n",
       "      <td>Social Travel</td>\n",
       "      <td>Social, Finance, Analytics, Advertising</td>\n",
       "      <td>1</td>\n",
       "    </tr>\n",
       "    <tr>\n",
       "      <th>5438</th>\n",
       "      <td>Stock Exchanges</td>\n",
       "      <td>Social, Finance, Analytics, Advertising</td>\n",
       "      <td>1</td>\n",
       "    </tr>\n",
       "    <tr>\n",
       "      <th>5471</th>\n",
       "      <td>Venture Capital</td>\n",
       "      <td>Social, Finance, Analytics, Advertising</td>\n",
       "      <td>1</td>\n",
       "    </tr>\n",
       "  </tbody>\n",
       "</table>\n",
       "<p>687 rows × 3 columns</p>\n",
       "</div>"
      ],
      "text/plain": [
       "           category_list                                 variable  value\n",
       "0                     3D                            Manufacturing      1\n",
       "1            3D Printing                            Manufacturing      1\n",
       "2          3D Technology                            Manufacturing      1\n",
       "6     Advanced Materials                            Manufacturing      1\n",
       "14           Agriculture                            Manufacturing      1\n",
       "...                  ...                                      ...    ...\n",
       "5425   Social Recruiting  Social, Finance, Analytics, Advertising      1\n",
       "5426   Social Television  Social, Finance, Analytics, Advertising      1\n",
       "5427       Social Travel  Social, Finance, Analytics, Advertising      1\n",
       "5438     Stock Exchanges  Social, Finance, Analytics, Advertising      1\n",
       "5471     Venture Capital  Social, Finance, Analytics, Advertising      1\n",
       "\n",
       "[687 rows x 3 columns]"
      ]
     },
     "execution_count": 83,
     "metadata": {},
     "output_type": "execute_result"
    }
   ],
   "source": [
    "### Here value 1 means having there is a mapping between that category_list and the sector. 0 means no mapping \n",
    "### So, drop values whose value is 0\n",
    "mapping = mapping[~(mapping.value == 0)]\n",
    "mapping"
   ]
  },
  {
   "cell_type": "code",
   "execution_count": 84,
   "id": "4bf1f519",
   "metadata": {},
   "outputs": [
    {
     "data": {
      "text/html": [
       "<div>\n",
       "<style scoped>\n",
       "    .dataframe tbody tr th:only-of-type {\n",
       "        vertical-align: middle;\n",
       "    }\n",
       "\n",
       "    .dataframe tbody tr th {\n",
       "        vertical-align: top;\n",
       "    }\n",
       "\n",
       "    .dataframe thead th {\n",
       "        text-align: right;\n",
       "    }\n",
       "</style>\n",
       "<table border=\"1\" class=\"dataframe\">\n",
       "  <thead>\n",
       "    <tr style=\"text-align: right;\">\n",
       "      <th></th>\n",
       "      <th>category_list</th>\n",
       "      <th>variable</th>\n",
       "    </tr>\n",
       "  </thead>\n",
       "  <tbody>\n",
       "    <tr>\n",
       "      <th>0</th>\n",
       "      <td>3D</td>\n",
       "      <td>Manufacturing</td>\n",
       "    </tr>\n",
       "    <tr>\n",
       "      <th>1</th>\n",
       "      <td>3D Printing</td>\n",
       "      <td>Manufacturing</td>\n",
       "    </tr>\n",
       "    <tr>\n",
       "      <th>2</th>\n",
       "      <td>3D Technology</td>\n",
       "      <td>Manufacturing</td>\n",
       "    </tr>\n",
       "    <tr>\n",
       "      <th>6</th>\n",
       "      <td>Advanced Materials</td>\n",
       "      <td>Manufacturing</td>\n",
       "    </tr>\n",
       "    <tr>\n",
       "      <th>14</th>\n",
       "      <td>Agriculture</td>\n",
       "      <td>Manufacturing</td>\n",
       "    </tr>\n",
       "    <tr>\n",
       "      <th>...</th>\n",
       "      <td>...</td>\n",
       "      <td>...</td>\n",
       "    </tr>\n",
       "    <tr>\n",
       "      <th>5425</th>\n",
       "      <td>Social Recruiting</td>\n",
       "      <td>Social, Finance, Analytics, Advertising</td>\n",
       "    </tr>\n",
       "    <tr>\n",
       "      <th>5426</th>\n",
       "      <td>Social Television</td>\n",
       "      <td>Social, Finance, Analytics, Advertising</td>\n",
       "    </tr>\n",
       "    <tr>\n",
       "      <th>5427</th>\n",
       "      <td>Social Travel</td>\n",
       "      <td>Social, Finance, Analytics, Advertising</td>\n",
       "    </tr>\n",
       "    <tr>\n",
       "      <th>5438</th>\n",
       "      <td>Stock Exchanges</td>\n",
       "      <td>Social, Finance, Analytics, Advertising</td>\n",
       "    </tr>\n",
       "    <tr>\n",
       "      <th>5471</th>\n",
       "      <td>Venture Capital</td>\n",
       "      <td>Social, Finance, Analytics, Advertising</td>\n",
       "    </tr>\n",
       "  </tbody>\n",
       "</table>\n",
       "<p>687 rows × 2 columns</p>\n",
       "</div>"
      ],
      "text/plain": [
       "           category_list                                 variable\n",
       "0                     3D                            Manufacturing\n",
       "1            3D Printing                            Manufacturing\n",
       "2          3D Technology                            Manufacturing\n",
       "6     Advanced Materials                            Manufacturing\n",
       "14           Agriculture                            Manufacturing\n",
       "...                  ...                                      ...\n",
       "5425   Social Recruiting  Social, Finance, Analytics, Advertising\n",
       "5426   Social Television  Social, Finance, Analytics, Advertising\n",
       "5427       Social Travel  Social, Finance, Analytics, Advertising\n",
       "5438     Stock Exchanges  Social, Finance, Analytics, Advertising\n",
       "5471     Venture Capital  Social, Finance, Analytics, Advertising\n",
       "\n",
       "[687 rows x 2 columns]"
      ]
     },
     "execution_count": 84,
     "metadata": {},
     "output_type": "execute_result"
    }
   ],
   "source": [
    "### Now, there is no use of column value so, lets drop it\n",
    "mapping = mapping.drop('value', axis = 1)\n",
    "mapping"
   ]
  },
  {
   "cell_type": "code",
   "execution_count": 85,
   "id": "1fea5bed",
   "metadata": {},
   "outputs": [
    {
     "data": {
      "text/html": [
       "<div>\n",
       "<style scoped>\n",
       "    .dataframe tbody tr th:only-of-type {\n",
       "        vertical-align: middle;\n",
       "    }\n",
       "\n",
       "    .dataframe tbody tr th {\n",
       "        vertical-align: top;\n",
       "    }\n",
       "\n",
       "    .dataframe thead th {\n",
       "        text-align: right;\n",
       "    }\n",
       "</style>\n",
       "<table border=\"1\" class=\"dataframe\">\n",
       "  <thead>\n",
       "    <tr style=\"text-align: right;\">\n",
       "      <th></th>\n",
       "      <th>category_list</th>\n",
       "      <th>main_sector</th>\n",
       "    </tr>\n",
       "  </thead>\n",
       "  <tbody>\n",
       "    <tr>\n",
       "      <th>0</th>\n",
       "      <td>3D</td>\n",
       "      <td>Manufacturing</td>\n",
       "    </tr>\n",
       "    <tr>\n",
       "      <th>1</th>\n",
       "      <td>3D Printing</td>\n",
       "      <td>Manufacturing</td>\n",
       "    </tr>\n",
       "    <tr>\n",
       "      <th>2</th>\n",
       "      <td>3D Technology</td>\n",
       "      <td>Manufacturing</td>\n",
       "    </tr>\n",
       "    <tr>\n",
       "      <th>6</th>\n",
       "      <td>Advanced Materials</td>\n",
       "      <td>Manufacturing</td>\n",
       "    </tr>\n",
       "    <tr>\n",
       "      <th>14</th>\n",
       "      <td>Agriculture</td>\n",
       "      <td>Manufacturing</td>\n",
       "    </tr>\n",
       "    <tr>\n",
       "      <th>...</th>\n",
       "      <td>...</td>\n",
       "      <td>...</td>\n",
       "    </tr>\n",
       "    <tr>\n",
       "      <th>5425</th>\n",
       "      <td>Social Recruiting</td>\n",
       "      <td>Social, Finance, Analytics, Advertising</td>\n",
       "    </tr>\n",
       "    <tr>\n",
       "      <th>5426</th>\n",
       "      <td>Social Television</td>\n",
       "      <td>Social, Finance, Analytics, Advertising</td>\n",
       "    </tr>\n",
       "    <tr>\n",
       "      <th>5427</th>\n",
       "      <td>Social Travel</td>\n",
       "      <td>Social, Finance, Analytics, Advertising</td>\n",
       "    </tr>\n",
       "    <tr>\n",
       "      <th>5438</th>\n",
       "      <td>Stock Exchanges</td>\n",
       "      <td>Social, Finance, Analytics, Advertising</td>\n",
       "    </tr>\n",
       "    <tr>\n",
       "      <th>5471</th>\n",
       "      <td>Venture Capital</td>\n",
       "      <td>Social, Finance, Analytics, Advertising</td>\n",
       "    </tr>\n",
       "  </tbody>\n",
       "</table>\n",
       "<p>687 rows × 2 columns</p>\n",
       "</div>"
      ],
      "text/plain": [
       "           category_list                              main_sector\n",
       "0                     3D                            Manufacturing\n",
       "1            3D Printing                            Manufacturing\n",
       "2          3D Technology                            Manufacturing\n",
       "6     Advanced Materials                            Manufacturing\n",
       "14           Agriculture                            Manufacturing\n",
       "...                  ...                                      ...\n",
       "5425   Social Recruiting  Social, Finance, Analytics, Advertising\n",
       "5426   Social Television  Social, Finance, Analytics, Advertising\n",
       "5427       Social Travel  Social, Finance, Analytics, Advertising\n",
       "5438     Stock Exchanges  Social, Finance, Analytics, Advertising\n",
       "5471     Venture Capital  Social, Finance, Analytics, Advertising\n",
       "\n",
       "[687 rows x 2 columns]"
      ]
     },
     "execution_count": 85,
     "metadata": {},
     "output_type": "execute_result"
    }
   ],
   "source": [
    "### rename column variable with 'main_sector'\n",
    "mapping = mapping.rename(columns = {\"variable\":\"main_sector\"})\n",
    "mapping"
   ]
  },
  {
   "cell_type": "code",
   "execution_count": 86,
   "id": "b72fb2aa",
   "metadata": {},
   "outputs": [
    {
     "name": "stderr",
     "output_type": "stream",
     "text": [
      "<ipython-input-86-e7d6c2fee56e>:2: SettingWithCopyWarning: \n",
      "A value is trying to be set on a copy of a slice from a DataFrame.\n",
      "Try using .loc[row_indexer,col_indexer] = value instead\n",
      "\n",
      "See the caveats in the documentation: https://pandas.pydata.org/pandas-docs/stable/user_guide/indexing.html#returning-a-view-versus-a-copy\n",
      "  master_frame['primary_sector'] = master_frame['primary_sector'].str.lower()\n"
     ]
    }
   ],
   "source": [
    "mapping['category_list'] = mapping['category_list'].str.lower()\n",
    "master_frame['primary_sector'] = master_frame['primary_sector'].str.lower()"
   ]
  },
  {
   "cell_type": "code",
   "execution_count": 87,
   "id": "5283f96c",
   "metadata": {},
   "outputs": [],
   "source": [
    "### Replacing 0 and 2.na since 'na' is mis-splet as 0\n",
    "mapping.category_list = mapping.category_list.replace({'0':'na', '2.na' :'2.0'}, regex=True)"
   ]
  },
  {
   "cell_type": "code",
   "execution_count": 88,
   "id": "187d7ee5",
   "metadata": {},
   "outputs": [
    {
     "data": {
      "text/plain": [
       "(41268, 8)"
      ]
     },
     "execution_count": 88,
     "metadata": {},
     "output_type": "execute_result"
    }
   ],
   "source": [
    "### Now lets combine the master_frame and the mapping datasets for the further analysis\n",
    "\n",
    "master_frame = master_frame.merge(mapping, how='inner', left_on='primary_sector', right_on='category_list')\n",
    "master_frame.shape"
   ]
  },
  {
   "cell_type": "code",
   "execution_count": 89,
   "id": "6f62e5c1",
   "metadata": {},
   "outputs": [
    {
     "data": {
      "text/plain": [
       "company_permalink    0\n",
       "raised_amount_usd    0\n",
       "name                 0\n",
       "category_list_x      0\n",
       "country_code         0\n",
       "primary_sector       0\n",
       "category_list_y      0\n",
       "main_sector          0\n",
       "dtype: int64"
      ]
     },
     "execution_count": 89,
     "metadata": {},
     "output_type": "execute_result"
    }
   ],
   "source": [
    "master_frame.isnull().sum()"
   ]
  },
  {
   "cell_type": "code",
   "execution_count": 90,
   "id": "4f313fab",
   "metadata": {},
   "outputs": [
    {
     "data": {
      "image/png": "[encoded data removed]",
      "text/plain": [
       "<Figure size 576x432 with 1 Axes>"
      ]
     },
     "metadata": {
      "needs_background": "light"
     },
     "output_type": "display_data"
    },
    {
     "name": "stdout",
     "output_type": "stream",
     "text": [
      "Others                                     9675\n",
      "Cleantech / Semiconductors                 8797\n",
      "Social, Finance, Analytics, Advertising    8496\n",
      "News, Search and Messaging                 5037\n",
      "Health                                     3595\n",
      "Manufacturing                              2839\n",
      "Entertainment                              2177\n",
      "Automotive & Sports                         652\n",
      "Name: main_sector, dtype: int64\n"
     ]
    }
   ],
   "source": [
    "sectors = master_frame.main_sector.value_counts()\n",
    "\n",
    "plt.figure(figsize=(8, 6))\n",
    "b = sb.barplot(x=sectors.values, y=sectors.index)\n",
    "b.set(xlabel=\"Sector Count\", ylabel = \"Sector\")\n",
    "plt.title(\"Sectors & its respective counts\")\n",
    "plt.show()\n",
    "\n",
    "print(sectors)"
   ]
  },
  {
   "cell_type": "code",
   "execution_count": 91,
   "id": "c62ee3fb",
   "metadata": {},
   "outputs": [],
   "source": [
    "lower_bound_usd = 5000000;\n",
    "upper_bound_usd = 15000000;"
   ]
  },
  {
   "cell_type": "code",
   "execution_count": 92,
   "id": "57db8630",
   "metadata": {},
   "outputs": [
    {
     "data": {
      "text/html": [
       "<div>\n",
       "<style scoped>\n",
       "    .dataframe tbody tr th:only-of-type {\n",
       "        vertical-align: middle;\n",
       "    }\n",
       "\n",
       "    .dataframe tbody tr th {\n",
       "        vertical-align: top;\n",
       "    }\n",
       "\n",
       "    .dataframe thead th {\n",
       "        text-align: right;\n",
       "    }\n",
       "</style>\n",
       "<table border=\"1\" class=\"dataframe\">\n",
       "  <thead>\n",
       "    <tr style=\"text-align: right;\">\n",
       "      <th></th>\n",
       "      <th>company_permalink</th>\n",
       "      <th>raised_amount_usd</th>\n",
       "      <th>name</th>\n",
       "      <th>category_list_x</th>\n",
       "      <th>country_code</th>\n",
       "      <th>primary_sector</th>\n",
       "      <th>category_list_y</th>\n",
       "      <th>main_sector</th>\n",
       "    </tr>\n",
       "  </thead>\n",
       "  <tbody>\n",
       "    <tr>\n",
       "      <th>0</th>\n",
       "      <td>/organization/-fame</td>\n",
       "      <td>10000000.0</td>\n",
       "      <td>#fame</td>\n",
       "      <td>Media</td>\n",
       "      <td>IND</td>\n",
       "      <td>media</td>\n",
       "      <td>media</td>\n",
       "      <td>Entertainment</td>\n",
       "    </tr>\n",
       "    <tr>\n",
       "      <th>1</th>\n",
       "      <td>/organization/90min</td>\n",
       "      <td>15000000.0</td>\n",
       "      <td>90min</td>\n",
       "      <td>Media|News|Publishing|Soccer|Sports</td>\n",
       "      <td>GBR</td>\n",
       "      <td>media</td>\n",
       "      <td>media</td>\n",
       "      <td>Entertainment</td>\n",
       "    </tr>\n",
       "    <tr>\n",
       "      <th>2</th>\n",
       "      <td>/organization/90min</td>\n",
       "      <td>5800000.0</td>\n",
       "      <td>90min</td>\n",
       "      <td>Media|News|Publishing|Soccer|Sports</td>\n",
       "      <td>GBR</td>\n",
       "      <td>media</td>\n",
       "      <td>media</td>\n",
       "      <td>Entertainment</td>\n",
       "    </tr>\n",
       "    <tr>\n",
       "      <th>4</th>\n",
       "      <td>/organization/all-def-digital</td>\n",
       "      <td>5000000.0</td>\n",
       "      <td>All Def Digital</td>\n",
       "      <td>Media</td>\n",
       "      <td>USA</td>\n",
       "      <td>media</td>\n",
       "      <td>media</td>\n",
       "      <td>Entertainment</td>\n",
       "    </tr>\n",
       "    <tr>\n",
       "      <th>14</th>\n",
       "      <td>/organization/chefs-feed</td>\n",
       "      <td>5000000.0</td>\n",
       "      <td>ChefsFeed</td>\n",
       "      <td>Media|Mobile|Restaurants|Technology</td>\n",
       "      <td>USA</td>\n",
       "      <td>media</td>\n",
       "      <td>media</td>\n",
       "      <td>Entertainment</td>\n",
       "    </tr>\n",
       "    <tr>\n",
       "      <th>...</th>\n",
       "      <td>...</td>\n",
       "      <td>...</td>\n",
       "      <td>...</td>\n",
       "      <td>...</td>\n",
       "      <td>...</td>\n",
       "      <td>...</td>\n",
       "      <td>...</td>\n",
       "      <td>...</td>\n",
       "    </tr>\n",
       "    <tr>\n",
       "      <th>41254</th>\n",
       "      <td>/organization/vector-watch</td>\n",
       "      <td>5000000.0</td>\n",
       "      <td>Vector Watch</td>\n",
       "      <td>Watch|Wearables</td>\n",
       "      <td>GBR</td>\n",
       "      <td>watch</td>\n",
       "      <td>watch</td>\n",
       "      <td>Others</td>\n",
       "    </tr>\n",
       "    <tr>\n",
       "      <th>41255</th>\n",
       "      <td>/organization/vision-internet</td>\n",
       "      <td>5000000.0</td>\n",
       "      <td>Vision Internet</td>\n",
       "      <td>Government Innovation|Internet</td>\n",
       "      <td>USA</td>\n",
       "      <td>government innovation</td>\n",
       "      <td>government innovation</td>\n",
       "      <td>Others</td>\n",
       "    </tr>\n",
       "    <tr>\n",
       "      <th>41256</th>\n",
       "      <td>/organization/washio</td>\n",
       "      <td>10500000.0</td>\n",
       "      <td>Washio</td>\n",
       "      <td>Service Industries</td>\n",
       "      <td>USA</td>\n",
       "      <td>service industries</td>\n",
       "      <td>service industries</td>\n",
       "      <td>Others</td>\n",
       "    </tr>\n",
       "    <tr>\n",
       "      <th>41257</th>\n",
       "      <td>/organization/windshield</td>\n",
       "      <td>5000000.0</td>\n",
       "      <td>Windshield</td>\n",
       "      <td>Virtual Workforces</td>\n",
       "      <td>USA</td>\n",
       "      <td>virtual workforces</td>\n",
       "      <td>virtual workforces</td>\n",
       "      <td>Entertainment</td>\n",
       "    </tr>\n",
       "    <tr>\n",
       "      <th>41261</th>\n",
       "      <td>/organization/yapta</td>\n",
       "      <td>5000000.0</td>\n",
       "      <td>Yapta</td>\n",
       "      <td>Tracking|Transportation|Travel</td>\n",
       "      <td>USA</td>\n",
       "      <td>tracking</td>\n",
       "      <td>tracking</td>\n",
       "      <td>Others</td>\n",
       "    </tr>\n",
       "  </tbody>\n",
       "</table>\n",
       "<p>15492 rows × 8 columns</p>\n",
       "</div>"
      ],
      "text/plain": [
       "                   company_permalink  raised_amount_usd             name  \\\n",
       "0                /organization/-fame         10000000.0            #fame   \n",
       "1                /organization/90min         15000000.0            90min   \n",
       "2                /organization/90min          5800000.0            90min   \n",
       "4      /organization/all-def-digital          5000000.0  All Def Digital   \n",
       "14          /organization/chefs-feed          5000000.0        ChefsFeed   \n",
       "...                              ...                ...              ...   \n",
       "41254     /organization/vector-watch          5000000.0     Vector Watch   \n",
       "41255  /organization/vision-internet          5000000.0  Vision Internet   \n",
       "41256           /organization/washio         10500000.0           Washio   \n",
       "41257       /organization/windshield          5000000.0       Windshield   \n",
       "41261            /organization/yapta          5000000.0            Yapta   \n",
       "\n",
       "                           category_list_x country_code  \\\n",
       "0                                    Media          IND   \n",
       "1      Media|News|Publishing|Soccer|Sports          GBR   \n",
       "2      Media|News|Publishing|Soccer|Sports          GBR   \n",
       "4                                    Media          USA   \n",
       "14     Media|Mobile|Restaurants|Technology          USA   \n",
       "...                                    ...          ...   \n",
       "41254                      Watch|Wearables          GBR   \n",
       "41255       Government Innovation|Internet          USA   \n",
       "41256                   Service Industries          USA   \n",
       "41257                   Virtual Workforces          USA   \n",
       "41261       Tracking|Transportation|Travel          USA   \n",
       "\n",
       "              primary_sector        category_list_y    main_sector  \n",
       "0                      media                  media  Entertainment  \n",
       "1                      media                  media  Entertainment  \n",
       "2                      media                  media  Entertainment  \n",
       "4                      media                  media  Entertainment  \n",
       "14                     media                  media  Entertainment  \n",
       "...                      ...                    ...            ...  \n",
       "41254                  watch                  watch         Others  \n",
       "41255  government innovation  government innovation         Others  \n",
       "41256     service industries     service industries         Others  \n",
       "41257     virtual workforces     virtual workforces  Entertainment  \n",
       "41261               tracking               tracking         Others  \n",
       "\n",
       "[15492 rows x 8 columns]"
      ]
     },
     "execution_count": 92,
     "metadata": {},
     "output_type": "execute_result"
    }
   ],
   "source": [
    "#### since spark funds wants to invest around 5 to 15 million dollars lests seggregate data for that particular amount only\n",
    "\n",
    "master_frame = master_frame[ (master_frame.raised_amount_usd >= lower_bound_usd) & (master_frame.raised_amount_usd <= upper_bound_usd) ]\n",
    "master_frame"
   ]
  },
  {
   "cell_type": "code",
   "execution_count": 93,
   "id": "e2d5b3d3",
   "metadata": {},
   "outputs": [
    {
     "data": {
      "text/plain": [
       "country_code\n",
       "GBR      845\n",
       "IND      493\n",
       "USA    14154\n",
       "Name: main_sector, dtype: int64"
      ]
     },
     "execution_count": 93,
     "metadata": {},
     "output_type": "execute_result"
    }
   ],
   "source": [
    "### Per country count of sectors they are investing on\n",
    "master_frame.groupby(['country_code'])['main_sector'].count()"
   ]
  },
  {
   "cell_type": "code",
   "execution_count": 94,
   "id": "5763c9e8",
   "metadata": {},
   "outputs": [
    {
     "data": {
      "text/plain": [
       "country_code\n",
       "GBR    6.499079e+09\n",
       "IND    3.774544e+09\n",
       "USA    1.182121e+11\n",
       "Name: raised_amount_usd, dtype: float64"
      ]
     },
     "execution_count": 94,
     "metadata": {},
     "output_type": "execute_result"
    }
   ],
   "source": [
    "### Per country sum of amount invested on all sectors \n",
    "master_frame.groupby(['country_code'])['raised_amount_usd'].sum()"
   ]
  },
  {
   "cell_type": "code",
   "execution_count": 95,
   "id": "b48709a6",
   "metadata": {},
   "outputs": [
    {
     "data": {
      "text/html": [
       "<div>\n",
       "<style scoped>\n",
       "    .dataframe tbody tr th:only-of-type {\n",
       "        vertical-align: middle;\n",
       "    }\n",
       "\n",
       "    .dataframe tbody tr th {\n",
       "        vertical-align: top;\n",
       "    }\n",
       "\n",
       "    .dataframe thead th {\n",
       "        text-align: right;\n",
       "    }\n",
       "</style>\n",
       "<table border=\"1\" class=\"dataframe\">\n",
       "  <thead>\n",
       "    <tr style=\"text-align: right;\">\n",
       "      <th></th>\n",
       "      <th></th>\n",
       "      <th>count</th>\n",
       "      <th>sum</th>\n",
       "    </tr>\n",
       "    <tr>\n",
       "      <th>country_code</th>\n",
       "      <th>main_sector</th>\n",
       "      <th></th>\n",
       "      <th></th>\n",
       "    </tr>\n",
       "  </thead>\n",
       "  <tbody>\n",
       "    <tr>\n",
       "      <th rowspan=\"8\" valign=\"top\">GBR</th>\n",
       "      <th>Automotive &amp; Sports</th>\n",
       "      <td>26</td>\n",
       "      <td>2.170516e+08</td>\n",
       "    </tr>\n",
       "    <tr>\n",
       "      <th>Cleantech / Semiconductors</th>\n",
       "      <td>154</td>\n",
       "      <td>1.283990e+09</td>\n",
       "    </tr>\n",
       "    <tr>\n",
       "      <th>Entertainment</th>\n",
       "      <td>80</td>\n",
       "      <td>6.027847e+08</td>\n",
       "    </tr>\n",
       "    <tr>\n",
       "      <th>Health</th>\n",
       "      <td>32</td>\n",
       "      <td>2.545375e+08</td>\n",
       "    </tr>\n",
       "    <tr>\n",
       "      <th>Manufacturing</th>\n",
       "      <td>52</td>\n",
       "      <td>4.119403e+08</td>\n",
       "    </tr>\n",
       "    <tr>\n",
       "      <th>News, Search and Messaging</th>\n",
       "      <td>97</td>\n",
       "      <td>7.357462e+08</td>\n",
       "    </tr>\n",
       "    <tr>\n",
       "      <th>Others</th>\n",
       "      <td>211</td>\n",
       "      <td>1.603624e+09</td>\n",
       "    </tr>\n",
       "    <tr>\n",
       "      <th>Social, Finance, Analytics, Advertising</th>\n",
       "      <td>193</td>\n",
       "      <td>1.389404e+09</td>\n",
       "    </tr>\n",
       "    <tr>\n",
       "      <th rowspan=\"8\" valign=\"top\">IND</th>\n",
       "      <th>Automotive &amp; Sports</th>\n",
       "      <td>14</td>\n",
       "      <td>1.419000e+08</td>\n",
       "    </tr>\n",
       "    <tr>\n",
       "      <th>Cleantech / Semiconductors</th>\n",
       "      <td>29</td>\n",
       "      <td>2.103800e+08</td>\n",
       "    </tr>\n",
       "    <tr>\n",
       "      <th>Entertainment</th>\n",
       "      <td>47</td>\n",
       "      <td>3.508300e+08</td>\n",
       "    </tr>\n",
       "    <tr>\n",
       "      <th>Health</th>\n",
       "      <td>33</td>\n",
       "      <td>2.377400e+08</td>\n",
       "    </tr>\n",
       "    <tr>\n",
       "      <th>Manufacturing</th>\n",
       "      <td>30</td>\n",
       "      <td>2.459000e+08</td>\n",
       "    </tr>\n",
       "    <tr>\n",
       "      <th>News, Search and Messaging</th>\n",
       "      <td>76</td>\n",
       "      <td>5.538345e+08</td>\n",
       "    </tr>\n",
       "    <tr>\n",
       "      <th>Others</th>\n",
       "      <td>158</td>\n",
       "      <td>1.253410e+09</td>\n",
       "    </tr>\n",
       "    <tr>\n",
       "      <th>Social, Finance, Analytics, Advertising</th>\n",
       "      <td>106</td>\n",
       "      <td>7.805496e+08</td>\n",
       "    </tr>\n",
       "    <tr>\n",
       "      <th rowspan=\"8\" valign=\"top\">USA</th>\n",
       "      <th>Automotive &amp; Sports</th>\n",
       "      <td>228</td>\n",
       "      <td>1.759104e+09</td>\n",
       "    </tr>\n",
       "    <tr>\n",
       "      <th>Cleantech / Semiconductors</th>\n",
       "      <td>2622</td>\n",
       "      <td>2.299343e+10</td>\n",
       "    </tr>\n",
       "    <tr>\n",
       "      <th>Entertainment</th>\n",
       "      <td>724</td>\n",
       "      <td>5.764198e+09</td>\n",
       "    </tr>\n",
       "    <tr>\n",
       "      <th>Health</th>\n",
       "      <td>1053</td>\n",
       "      <td>8.931859e+09</td>\n",
       "    </tr>\n",
       "    <tr>\n",
       "      <th>Manufacturing</th>\n",
       "      <td>989</td>\n",
       "      <td>8.208553e+09</td>\n",
       "    </tr>\n",
       "    <tr>\n",
       "      <th>News, Search and Messaging</th>\n",
       "      <td>1845</td>\n",
       "      <td>1.528157e+10</td>\n",
       "    </tr>\n",
       "    <tr>\n",
       "      <th>Others</th>\n",
       "      <td>3403</td>\n",
       "      <td>2.858601e+10</td>\n",
       "    </tr>\n",
       "    <tr>\n",
       "      <th>Social, Finance, Analytics, Advertising</th>\n",
       "      <td>3290</td>\n",
       "      <td>2.668738e+10</td>\n",
       "    </tr>\n",
       "  </tbody>\n",
       "</table>\n",
       "</div>"
      ],
      "text/plain": [
       "                                                      count           sum\n",
       "country_code main_sector                                                 \n",
       "GBR          Automotive & Sports                         26  2.170516e+08\n",
       "             Cleantech / Semiconductors                 154  1.283990e+09\n",
       "             Entertainment                               80  6.027847e+08\n",
       "             Health                                      32  2.545375e+08\n",
       "             Manufacturing                               52  4.119403e+08\n",
       "             News, Search and Messaging                  97  7.357462e+08\n",
       "             Others                                     211  1.603624e+09\n",
       "             Social, Finance, Analytics, Advertising    193  1.389404e+09\n",
       "IND          Automotive & Sports                         14  1.419000e+08\n",
       "             Cleantech / Semiconductors                  29  2.103800e+08\n",
       "             Entertainment                               47  3.508300e+08\n",
       "             Health                                      33  2.377400e+08\n",
       "             Manufacturing                               30  2.459000e+08\n",
       "             News, Search and Messaging                  76  5.538345e+08\n",
       "             Others                                     158  1.253410e+09\n",
       "             Social, Finance, Analytics, Advertising    106  7.805496e+08\n",
       "USA          Automotive & Sports                        228  1.759104e+09\n",
       "             Cleantech / Semiconductors                2622  2.299343e+10\n",
       "             Entertainment                              724  5.764198e+09\n",
       "             Health                                    1053  8.931859e+09\n",
       "             Manufacturing                              989  8.208553e+09\n",
       "             News, Search and Messaging                1845  1.528157e+10\n",
       "             Others                                    3403  2.858601e+10\n",
       "             Social, Finance, Analytics, Advertising   3290  2.668738e+10"
      ]
     },
     "execution_count": 95,
     "metadata": {},
     "output_type": "execute_result"
    }
   ],
   "source": [
    "### Table to show each country and each sector investements count and the total sum invested on that sector\n",
    "master_frame.groupby(['country_code','main_sector']).raised_amount_usd.agg(['count','sum'])"
   ]
  },
  {
   "cell_type": "code",
   "execution_count": null,
   "id": "8f08fad8",
   "metadata": {},
   "outputs": [],
   "source": []
  },
  {
   "cell_type": "markdown",
   "id": "6e9fd86c",
   "metadata": {},
   "source": [
    "### Create three data frames D1, D2, D3 for further analysis"
   ]
  },
  {
   "cell_type": "code",
   "execution_count": 96,
   "id": "ffb4c3c2",
   "metadata": {},
   "outputs": [
    {
     "name": "stderr",
     "output_type": "stream",
     "text": [
      "/Users/srikanthpadmanabhuni/opt/anaconda3/lib/python3.8/site-packages/pandas/core/reshape/merge.py:648: UserWarning: merging between different levels can give an unintended result (1 levels on the left,2 on the right)\n",
      "  warnings.warn(msg, UserWarning)\n"
     ]
    },
    {
     "data": {
      "text/html": [
       "<div>\n",
       "<style scoped>\n",
       "    .dataframe tbody tr th:only-of-type {\n",
       "        vertical-align: middle;\n",
       "    }\n",
       "\n",
       "    .dataframe tbody tr th {\n",
       "        vertical-align: top;\n",
       "    }\n",
       "\n",
       "    .dataframe thead th {\n",
       "        text-align: right;\n",
       "    }\n",
       "</style>\n",
       "<table border=\"1\" class=\"dataframe\">\n",
       "  <thead>\n",
       "    <tr style=\"text-align: right;\">\n",
       "      <th></th>\n",
       "      <th>company_permalink</th>\n",
       "      <th>raised_amount_usd</th>\n",
       "      <th>name</th>\n",
       "      <th>category_list_x</th>\n",
       "      <th>country_code</th>\n",
       "      <th>primary_sector</th>\n",
       "      <th>category_list_y</th>\n",
       "      <th>main_sector</th>\n",
       "      <th>(raised_amount_usd, Total_amount)</th>\n",
       "      <th>(raised_amount_usd, Total_count)</th>\n",
       "    </tr>\n",
       "  </thead>\n",
       "  <tbody>\n",
       "    <tr>\n",
       "      <th>0</th>\n",
       "      <td>/organization/all-def-digital</td>\n",
       "      <td>5000000.0</td>\n",
       "      <td>All Def Digital</td>\n",
       "      <td>Media</td>\n",
       "      <td>USA</td>\n",
       "      <td>media</td>\n",
       "      <td>media</td>\n",
       "      <td>Entertainment</td>\n",
       "      <td>5.764198e+09</td>\n",
       "      <td>724</td>\n",
       "    </tr>\n",
       "    <tr>\n",
       "      <th>1</th>\n",
       "      <td>/organization/chefs-feed</td>\n",
       "      <td>5000000.0</td>\n",
       "      <td>ChefsFeed</td>\n",
       "      <td>Media|Mobile|Restaurants|Technology</td>\n",
       "      <td>USA</td>\n",
       "      <td>media</td>\n",
       "      <td>media</td>\n",
       "      <td>Entertainment</td>\n",
       "      <td>5.764198e+09</td>\n",
       "      <td>724</td>\n",
       "    </tr>\n",
       "    <tr>\n",
       "      <th>2</th>\n",
       "      <td>/organization/huffingtonpost</td>\n",
       "      <td>5000000.0</td>\n",
       "      <td>The Huffington Post</td>\n",
       "      <td>Media|News|Publishing</td>\n",
       "      <td>USA</td>\n",
       "      <td>media</td>\n",
       "      <td>media</td>\n",
       "      <td>Entertainment</td>\n",
       "      <td>5.764198e+09</td>\n",
       "      <td>724</td>\n",
       "    </tr>\n",
       "    <tr>\n",
       "      <th>3</th>\n",
       "      <td>/organization/huffingtonpost</td>\n",
       "      <td>5000000.0</td>\n",
       "      <td>The Huffington Post</td>\n",
       "      <td>Media|News|Publishing</td>\n",
       "      <td>USA</td>\n",
       "      <td>media</td>\n",
       "      <td>media</td>\n",
       "      <td>Entertainment</td>\n",
       "      <td>5.764198e+09</td>\n",
       "      <td>724</td>\n",
       "    </tr>\n",
       "    <tr>\n",
       "      <th>4</th>\n",
       "      <td>/organization/matchmine</td>\n",
       "      <td>10000000.0</td>\n",
       "      <td>MatchMine</td>\n",
       "      <td>Media|News|Reviews and Recommendations</td>\n",
       "      <td>USA</td>\n",
       "      <td>media</td>\n",
       "      <td>media</td>\n",
       "      <td>Entertainment</td>\n",
       "      <td>5.764198e+09</td>\n",
       "      <td>724</td>\n",
       "    </tr>\n",
       "    <tr>\n",
       "      <th>...</th>\n",
       "      <td>...</td>\n",
       "      <td>...</td>\n",
       "      <td>...</td>\n",
       "      <td>...</td>\n",
       "      <td>...</td>\n",
       "      <td>...</td>\n",
       "      <td>...</td>\n",
       "      <td>...</td>\n",
       "      <td>...</td>\n",
       "      <td>...</td>\n",
       "    </tr>\n",
       "    <tr>\n",
       "      <th>14149</th>\n",
       "      <td>/organization/user-interface</td>\n",
       "      <td>8250000.0</td>\n",
       "      <td>User Interface</td>\n",
       "      <td>User Interface</td>\n",
       "      <td>USA</td>\n",
       "      <td>user interface</td>\n",
       "      <td>user interface</td>\n",
       "      <td>Others</td>\n",
       "      <td>2.858601e+10</td>\n",
       "      <td>3403</td>\n",
       "    </tr>\n",
       "    <tr>\n",
       "      <th>14150</th>\n",
       "      <td>/organization/vision-internet</td>\n",
       "      <td>5000000.0</td>\n",
       "      <td>Vision Internet</td>\n",
       "      <td>Government Innovation|Internet</td>\n",
       "      <td>USA</td>\n",
       "      <td>government innovation</td>\n",
       "      <td>government innovation</td>\n",
       "      <td>Others</td>\n",
       "      <td>2.858601e+10</td>\n",
       "      <td>3403</td>\n",
       "    </tr>\n",
       "    <tr>\n",
       "      <th>14151</th>\n",
       "      <td>/organization/washio</td>\n",
       "      <td>10500000.0</td>\n",
       "      <td>Washio</td>\n",
       "      <td>Service Industries</td>\n",
       "      <td>USA</td>\n",
       "      <td>service industries</td>\n",
       "      <td>service industries</td>\n",
       "      <td>Others</td>\n",
       "      <td>2.858601e+10</td>\n",
       "      <td>3403</td>\n",
       "    </tr>\n",
       "    <tr>\n",
       "      <th>14152</th>\n",
       "      <td>/organization/windshield</td>\n",
       "      <td>5000000.0</td>\n",
       "      <td>Windshield</td>\n",
       "      <td>Virtual Workforces</td>\n",
       "      <td>USA</td>\n",
       "      <td>virtual workforces</td>\n",
       "      <td>virtual workforces</td>\n",
       "      <td>Entertainment</td>\n",
       "      <td>5.764198e+09</td>\n",
       "      <td>724</td>\n",
       "    </tr>\n",
       "    <tr>\n",
       "      <th>14153</th>\n",
       "      <td>/organization/yapta</td>\n",
       "      <td>5000000.0</td>\n",
       "      <td>Yapta</td>\n",
       "      <td>Tracking|Transportation|Travel</td>\n",
       "      <td>USA</td>\n",
       "      <td>tracking</td>\n",
       "      <td>tracking</td>\n",
       "      <td>Others</td>\n",
       "      <td>2.858601e+10</td>\n",
       "      <td>3403</td>\n",
       "    </tr>\n",
       "  </tbody>\n",
       "</table>\n",
       "<p>14154 rows × 10 columns</p>\n",
       "</div>"
      ],
      "text/plain": [
       "                   company_permalink  raised_amount_usd                 name  \\\n",
       "0      /organization/all-def-digital          5000000.0      All Def Digital   \n",
       "1           /organization/chefs-feed          5000000.0            ChefsFeed   \n",
       "2       /organization/huffingtonpost          5000000.0  The Huffington Post   \n",
       "3       /organization/huffingtonpost          5000000.0  The Huffington Post   \n",
       "4            /organization/matchmine         10000000.0            MatchMine   \n",
       "...                              ...                ...                  ...   \n",
       "14149   /organization/user-interface          8250000.0       User Interface   \n",
       "14150  /organization/vision-internet          5000000.0      Vision Internet   \n",
       "14151           /organization/washio         10500000.0               Washio   \n",
       "14152       /organization/windshield          5000000.0           Windshield   \n",
       "14153            /organization/yapta          5000000.0                Yapta   \n",
       "\n",
       "                              category_list_x country_code  \\\n",
       "0                                       Media          USA   \n",
       "1         Media|Mobile|Restaurants|Technology          USA   \n",
       "2                       Media|News|Publishing          USA   \n",
       "3                       Media|News|Publishing          USA   \n",
       "4      Media|News|Reviews and Recommendations          USA   \n",
       "...                                       ...          ...   \n",
       "14149                          User Interface          USA   \n",
       "14150          Government Innovation|Internet          USA   \n",
       "14151                      Service Industries          USA   \n",
       "14152                      Virtual Workforces          USA   \n",
       "14153          Tracking|Transportation|Travel          USA   \n",
       "\n",
       "              primary_sector        category_list_y    main_sector  \\\n",
       "0                      media                  media  Entertainment   \n",
       "1                      media                  media  Entertainment   \n",
       "2                      media                  media  Entertainment   \n",
       "3                      media                  media  Entertainment   \n",
       "4                      media                  media  Entertainment   \n",
       "...                      ...                    ...            ...   \n",
       "14149         user interface         user interface         Others   \n",
       "14150  government innovation  government innovation         Others   \n",
       "14151     service industries     service industries         Others   \n",
       "14152     virtual workforces     virtual workforces  Entertainment   \n",
       "14153               tracking               tracking         Others   \n",
       "\n",
       "       (raised_amount_usd, Total_amount)  (raised_amount_usd, Total_count)  \n",
       "0                           5.764198e+09                               724  \n",
       "1                           5.764198e+09                               724  \n",
       "2                           5.764198e+09                               724  \n",
       "3                           5.764198e+09                               724  \n",
       "4                           5.764198e+09                               724  \n",
       "...                                  ...                               ...  \n",
       "14149                       2.858601e+10                              3403  \n",
       "14150                       2.858601e+10                              3403  \n",
       "14151                       2.858601e+10                              3403  \n",
       "14152                       5.764198e+09                               724  \n",
       "14153                       2.858601e+10                              3403  \n",
       "\n",
       "[14154 rows x 10 columns]"
      ]
     },
     "execution_count": 96,
     "metadata": {},
     "output_type": "execute_result"
    }
   ],
   "source": [
    "### From the master_frame data frame lets create a dataframe D1 for the sectors and its respective investments for 'USA'\n",
    "D1 = master_frame[(master_frame['country_code'] == 'USA')]\n",
    "D1_grouped_data = D1[['raised_amount_usd','main_sector']].groupby('main_sector').agg(['sum', 'count']).rename(\n",
    "    columns={'sum':'Total_amount','count' : 'Total_count'})\n",
    "D1 = D1.merge(D1_grouped_data, how='left', on ='main_sector')\n",
    "D1"
   ]
  },
  {
   "cell_type": "code",
   "execution_count": null,
   "id": "11dc38bf",
   "metadata": {},
   "outputs": [],
   "source": []
  },
  {
   "cell_type": "code",
   "execution_count": 97,
   "id": "67fdfa6f",
   "metadata": {},
   "outputs": [
    {
     "name": "stderr",
     "output_type": "stream",
     "text": [
      "/Users/srikanthpadmanabhuni/opt/anaconda3/lib/python3.8/site-packages/pandas/core/reshape/merge.py:648: UserWarning: merging between different levels can give an unintended result (1 levels on the left,2 on the right)\n",
      "  warnings.warn(msg, UserWarning)\n"
     ]
    },
    {
     "data": {
      "text/html": [
       "<div>\n",
       "<style scoped>\n",
       "    .dataframe tbody tr th:only-of-type {\n",
       "        vertical-align: middle;\n",
       "    }\n",
       "\n",
       "    .dataframe tbody tr th {\n",
       "        vertical-align: top;\n",
       "    }\n",
       "\n",
       "    .dataframe thead th {\n",
       "        text-align: right;\n",
       "    }\n",
       "</style>\n",
       "<table border=\"1\" class=\"dataframe\">\n",
       "  <thead>\n",
       "    <tr style=\"text-align: right;\">\n",
       "      <th></th>\n",
       "      <th>company_permalink</th>\n",
       "      <th>raised_amount_usd</th>\n",
       "      <th>name</th>\n",
       "      <th>category_list_x</th>\n",
       "      <th>country_code</th>\n",
       "      <th>primary_sector</th>\n",
       "      <th>category_list_y</th>\n",
       "      <th>main_sector</th>\n",
       "      <th>(raised_amount_usd, Total_amount)</th>\n",
       "      <th>(raised_amount_usd, Total_count)</th>\n",
       "    </tr>\n",
       "  </thead>\n",
       "  <tbody>\n",
       "    <tr>\n",
       "      <th>0</th>\n",
       "      <td>/organization/90min</td>\n",
       "      <td>15000000.0</td>\n",
       "      <td>90min</td>\n",
       "      <td>Media|News|Publishing|Soccer|Sports</td>\n",
       "      <td>GBR</td>\n",
       "      <td>media</td>\n",
       "      <td>media</td>\n",
       "      <td>Entertainment</td>\n",
       "      <td>6.027847e+08</td>\n",
       "      <td>80</td>\n",
       "    </tr>\n",
       "    <tr>\n",
       "      <th>1</th>\n",
       "      <td>/organization/90min</td>\n",
       "      <td>5800000.0</td>\n",
       "      <td>90min</td>\n",
       "      <td>Media|News|Publishing|Soccer|Sports</td>\n",
       "      <td>GBR</td>\n",
       "      <td>media</td>\n",
       "      <td>media</td>\n",
       "      <td>Entertainment</td>\n",
       "      <td>6.027847e+08</td>\n",
       "      <td>80</td>\n",
       "    </tr>\n",
       "    <tr>\n",
       "      <th>2</th>\n",
       "      <td>/organization/common-interest-communities</td>\n",
       "      <td>10000000.0</td>\n",
       "      <td>Common Interest Communities</td>\n",
       "      <td>Application Platforms|Internet|Software|Startups</td>\n",
       "      <td>GBR</td>\n",
       "      <td>application platforms</td>\n",
       "      <td>application platforms</td>\n",
       "      <td>News, Search and Messaging</td>\n",
       "      <td>7.357462e+08</td>\n",
       "      <td>97</td>\n",
       "    </tr>\n",
       "    <tr>\n",
       "      <th>3</th>\n",
       "      <td>/organization/geospock-ltd-</td>\n",
       "      <td>5460000.0</td>\n",
       "      <td>GeoSpock Ltd.</td>\n",
       "      <td>Application Platforms|Databases|Real Time</td>\n",
       "      <td>GBR</td>\n",
       "      <td>application platforms</td>\n",
       "      <td>application platforms</td>\n",
       "      <td>News, Search and Messaging</td>\n",
       "      <td>7.357462e+08</td>\n",
       "      <td>97</td>\n",
       "    </tr>\n",
       "    <tr>\n",
       "      <th>4</th>\n",
       "      <td>/organization/geospock-ltd-</td>\n",
       "      <td>5400000.0</td>\n",
       "      <td>GeoSpock Ltd.</td>\n",
       "      <td>Application Platforms|Databases|Real Time</td>\n",
       "      <td>GBR</td>\n",
       "      <td>application platforms</td>\n",
       "      <td>application platforms</td>\n",
       "      <td>News, Search and Messaging</td>\n",
       "      <td>7.357462e+08</td>\n",
       "      <td>97</td>\n",
       "    </tr>\n",
       "    <tr>\n",
       "      <th>...</th>\n",
       "      <td>...</td>\n",
       "      <td>...</td>\n",
       "      <td>...</td>\n",
       "      <td>...</td>\n",
       "      <td>...</td>\n",
       "      <td>...</td>\n",
       "      <td>...</td>\n",
       "      <td>...</td>\n",
       "      <td>...</td>\n",
       "      <td>...</td>\n",
       "    </tr>\n",
       "    <tr>\n",
       "      <th>840</th>\n",
       "      <td>/organization/uk-coal</td>\n",
       "      <td>5000000.0</td>\n",
       "      <td>UK Coal</td>\n",
       "      <td>Mining Technologies</td>\n",
       "      <td>GBR</td>\n",
       "      <td>mining technologies</td>\n",
       "      <td>mining technologies</td>\n",
       "      <td>Cleantech / Semiconductors</td>\n",
       "      <td>1.283990e+09</td>\n",
       "      <td>154</td>\n",
       "    </tr>\n",
       "    <tr>\n",
       "      <th>841</th>\n",
       "      <td>/organization/yoyo</td>\n",
       "      <td>10000000.0</td>\n",
       "      <td>Yoyo Wallet</td>\n",
       "      <td>Loyalty Programs|Mobile|Mobile Payments|Retail</td>\n",
       "      <td>GBR</td>\n",
       "      <td>loyalty programs</td>\n",
       "      <td>loyalty programs</td>\n",
       "      <td>Others</td>\n",
       "      <td>1.603624e+09</td>\n",
       "      <td>211</td>\n",
       "    </tr>\n",
       "    <tr>\n",
       "      <th>842</th>\n",
       "      <td>/organization/sharethe</td>\n",
       "      <td>5000000.0</td>\n",
       "      <td>ShareThe</td>\n",
       "      <td>Soccer|Social Media|Social Network Media|Sports</td>\n",
       "      <td>GBR</td>\n",
       "      <td>soccer</td>\n",
       "      <td>soccer</td>\n",
       "      <td>Automotive &amp; Sports</td>\n",
       "      <td>2.170516e+08</td>\n",
       "      <td>26</td>\n",
       "    </tr>\n",
       "    <tr>\n",
       "      <th>843</th>\n",
       "      <td>/organization/stingray-geophysical</td>\n",
       "      <td>11460000.0</td>\n",
       "      <td>Stingray Geophysical</td>\n",
       "      <td>Gas|Oil|Services</td>\n",
       "      <td>GBR</td>\n",
       "      <td>gas</td>\n",
       "      <td>gas</td>\n",
       "      <td>Cleantech / Semiconductors</td>\n",
       "      <td>1.283990e+09</td>\n",
       "      <td>154</td>\n",
       "    </tr>\n",
       "    <tr>\n",
       "      <th>844</th>\n",
       "      <td>/organization/vector-watch</td>\n",
       "      <td>5000000.0</td>\n",
       "      <td>Vector Watch</td>\n",
       "      <td>Watch|Wearables</td>\n",
       "      <td>GBR</td>\n",
       "      <td>watch</td>\n",
       "      <td>watch</td>\n",
       "      <td>Others</td>\n",
       "      <td>1.603624e+09</td>\n",
       "      <td>211</td>\n",
       "    </tr>\n",
       "  </tbody>\n",
       "</table>\n",
       "<p>845 rows × 10 columns</p>\n",
       "</div>"
      ],
      "text/plain": [
       "                             company_permalink  raised_amount_usd  \\\n",
       "0                          /organization/90min         15000000.0   \n",
       "1                          /organization/90min          5800000.0   \n",
       "2    /organization/common-interest-communities         10000000.0   \n",
       "3                  /organization/geospock-ltd-          5460000.0   \n",
       "4                  /organization/geospock-ltd-          5400000.0   \n",
       "..                                         ...                ...   \n",
       "840                      /organization/uk-coal          5000000.0   \n",
       "841                         /organization/yoyo         10000000.0   \n",
       "842                     /organization/sharethe          5000000.0   \n",
       "843         /organization/stingray-geophysical         11460000.0   \n",
       "844                 /organization/vector-watch          5000000.0   \n",
       "\n",
       "                            name  \\\n",
       "0                          90min   \n",
       "1                          90min   \n",
       "2    Common Interest Communities   \n",
       "3                  GeoSpock Ltd.   \n",
       "4                  GeoSpock Ltd.   \n",
       "..                           ...   \n",
       "840                      UK Coal   \n",
       "841                  Yoyo Wallet   \n",
       "842                     ShareThe   \n",
       "843         Stingray Geophysical   \n",
       "844                 Vector Watch   \n",
       "\n",
       "                                      category_list_x country_code  \\\n",
       "0                 Media|News|Publishing|Soccer|Sports          GBR   \n",
       "1                 Media|News|Publishing|Soccer|Sports          GBR   \n",
       "2    Application Platforms|Internet|Software|Startups          GBR   \n",
       "3           Application Platforms|Databases|Real Time          GBR   \n",
       "4           Application Platforms|Databases|Real Time          GBR   \n",
       "..                                                ...          ...   \n",
       "840                               Mining Technologies          GBR   \n",
       "841    Loyalty Programs|Mobile|Mobile Payments|Retail          GBR   \n",
       "842   Soccer|Social Media|Social Network Media|Sports          GBR   \n",
       "843                                  Gas|Oil|Services          GBR   \n",
       "844                                   Watch|Wearables          GBR   \n",
       "\n",
       "            primary_sector        category_list_y                 main_sector  \\\n",
       "0                    media                  media               Entertainment   \n",
       "1                    media                  media               Entertainment   \n",
       "2    application platforms  application platforms  News, Search and Messaging   \n",
       "3    application platforms  application platforms  News, Search and Messaging   \n",
       "4    application platforms  application platforms  News, Search and Messaging   \n",
       "..                     ...                    ...                         ...   \n",
       "840    mining technologies    mining technologies  Cleantech / Semiconductors   \n",
       "841       loyalty programs       loyalty programs                      Others   \n",
       "842                 soccer                 soccer         Automotive & Sports   \n",
       "843                    gas                    gas  Cleantech / Semiconductors   \n",
       "844                  watch                  watch                      Others   \n",
       "\n",
       "     (raised_amount_usd, Total_amount)  (raised_amount_usd, Total_count)  \n",
       "0                         6.027847e+08                                80  \n",
       "1                         6.027847e+08                                80  \n",
       "2                         7.357462e+08                                97  \n",
       "3                         7.357462e+08                                97  \n",
       "4                         7.357462e+08                                97  \n",
       "..                                 ...                               ...  \n",
       "840                       1.283990e+09                               154  \n",
       "841                       1.603624e+09                               211  \n",
       "842                       2.170516e+08                                26  \n",
       "843                       1.283990e+09                               154  \n",
       "844                       1.603624e+09                               211  \n",
       "\n",
       "[845 rows x 10 columns]"
      ]
     },
     "execution_count": 97,
     "metadata": {},
     "output_type": "execute_result"
    }
   ],
   "source": [
    "### From the master_frame data frame lets create a dataframe D1 for the sectors and its respective investments for 'GBR'\n",
    "D2 = master_frame[(master_frame['country_code'] == 'GBR')]\n",
    "D2_grouped_data = D2[['raised_amount_usd','main_sector']].groupby('main_sector').agg(['sum', 'count']).rename(\n",
    "    columns={'sum':'Total_amount','count' : 'Total_count'})\n",
    "D2 = D2.merge(D2_grouped_data, how='left', on ='main_sector')\n",
    "D2"
   ]
  },
  {
   "cell_type": "code",
   "execution_count": null,
   "id": "ac350d95",
   "metadata": {},
   "outputs": [],
   "source": []
  },
  {
   "cell_type": "code",
   "execution_count": 98,
   "id": "736ad3e9",
   "metadata": {},
   "outputs": [
    {
     "name": "stderr",
     "output_type": "stream",
     "text": [
      "/Users/srikanthpadmanabhuni/opt/anaconda3/lib/python3.8/site-packages/pandas/core/reshape/merge.py:648: UserWarning: merging between different levels can give an unintended result (1 levels on the left,2 on the right)\n",
      "  warnings.warn(msg, UserWarning)\n"
     ]
    },
    {
     "data": {
      "text/html": [
       "<div>\n",
       "<style scoped>\n",
       "    .dataframe tbody tr th:only-of-type {\n",
       "        vertical-align: middle;\n",
       "    }\n",
       "\n",
       "    .dataframe tbody tr th {\n",
       "        vertical-align: top;\n",
       "    }\n",
       "\n",
       "    .dataframe thead th {\n",
       "        text-align: right;\n",
       "    }\n",
       "</style>\n",
       "<table border=\"1\" class=\"dataframe\">\n",
       "  <thead>\n",
       "    <tr style=\"text-align: right;\">\n",
       "      <th></th>\n",
       "      <th>company_permalink</th>\n",
       "      <th>raised_amount_usd</th>\n",
       "      <th>name</th>\n",
       "      <th>category_list_x</th>\n",
       "      <th>country_code</th>\n",
       "      <th>primary_sector</th>\n",
       "      <th>category_list_y</th>\n",
       "      <th>main_sector</th>\n",
       "      <th>(raised_amount_usd, Total_amount)</th>\n",
       "      <th>(raised_amount_usd, Total_count)</th>\n",
       "    </tr>\n",
       "  </thead>\n",
       "  <tbody>\n",
       "    <tr>\n",
       "      <th>0</th>\n",
       "      <td>/organization/-fame</td>\n",
       "      <td>10000000.0</td>\n",
       "      <td>#fame</td>\n",
       "      <td>Media</td>\n",
       "      <td>IND</td>\n",
       "      <td>media</td>\n",
       "      <td>media</td>\n",
       "      <td>Entertainment</td>\n",
       "      <td>3.508300e+08</td>\n",
       "      <td>47</td>\n",
       "    </tr>\n",
       "    <tr>\n",
       "      <th>1</th>\n",
       "      <td>/organization/ameyo</td>\n",
       "      <td>5000000.0</td>\n",
       "      <td>Ameyo</td>\n",
       "      <td>Software</td>\n",
       "      <td>IND</td>\n",
       "      <td>software</td>\n",
       "      <td>software</td>\n",
       "      <td>Others</td>\n",
       "      <td>1.253410e+09</td>\n",
       "      <td>158</td>\n",
       "    </tr>\n",
       "    <tr>\n",
       "      <th>2</th>\n",
       "      <td>/organization/applabs</td>\n",
       "      <td>10000000.0</td>\n",
       "      <td>AppLabs</td>\n",
       "      <td>Software</td>\n",
       "      <td>IND</td>\n",
       "      <td>software</td>\n",
       "      <td>software</td>\n",
       "      <td>Others</td>\n",
       "      <td>1.253410e+09</td>\n",
       "      <td>158</td>\n",
       "    </tr>\n",
       "    <tr>\n",
       "      <th>3</th>\n",
       "      <td>/organization/appsdaily-solutions</td>\n",
       "      <td>5000000.0</td>\n",
       "      <td>Appsdaily Solutions</td>\n",
       "      <td>Software</td>\n",
       "      <td>IND</td>\n",
       "      <td>software</td>\n",
       "      <td>software</td>\n",
       "      <td>Others</td>\n",
       "      <td>1.253410e+09</td>\n",
       "      <td>158</td>\n",
       "    </tr>\n",
       "    <tr>\n",
       "      <th>4</th>\n",
       "      <td>/organization/canvera-digital-technologies</td>\n",
       "      <td>6500000.0</td>\n",
       "      <td>Canvera Digital Technologies</td>\n",
       "      <td>Software</td>\n",
       "      <td>IND</td>\n",
       "      <td>software</td>\n",
       "      <td>software</td>\n",
       "      <td>Others</td>\n",
       "      <td>1.253410e+09</td>\n",
       "      <td>158</td>\n",
       "    </tr>\n",
       "    <tr>\n",
       "      <th>...</th>\n",
       "      <td>...</td>\n",
       "      <td>...</td>\n",
       "      <td>...</td>\n",
       "      <td>...</td>\n",
       "      <td>...</td>\n",
       "      <td>...</td>\n",
       "      <td>...</td>\n",
       "      <td>...</td>\n",
       "      <td>...</td>\n",
       "      <td>...</td>\n",
       "    </tr>\n",
       "    <tr>\n",
       "      <th>488</th>\n",
       "      <td>/organization/vinculum-solutions</td>\n",
       "      <td>5000000.0</td>\n",
       "      <td>Vinculum Solutions</td>\n",
       "      <td>Retail Technology|Software</td>\n",
       "      <td>IND</td>\n",
       "      <td>retail technology</td>\n",
       "      <td>retail technology</td>\n",
       "      <td>Social, Finance, Analytics, Advertising</td>\n",
       "      <td>7.805496e+08</td>\n",
       "      <td>106</td>\n",
       "    </tr>\n",
       "    <tr>\n",
       "      <th>489</th>\n",
       "      <td>/organization/matrimony-com</td>\n",
       "      <td>11750000.0</td>\n",
       "      <td>Matrimony.com</td>\n",
       "      <td>Classifieds|Curated Web</td>\n",
       "      <td>IND</td>\n",
       "      <td>classifieds</td>\n",
       "      <td>classifieds</td>\n",
       "      <td>News, Search and Messaging</td>\n",
       "      <td>5.538345e+08</td>\n",
       "      <td>76</td>\n",
       "    </tr>\n",
       "    <tr>\n",
       "      <th>490</th>\n",
       "      <td>/organization/matrimony-com</td>\n",
       "      <td>8650000.0</td>\n",
       "      <td>Matrimony.com</td>\n",
       "      <td>Classifieds|Curated Web</td>\n",
       "      <td>IND</td>\n",
       "      <td>classifieds</td>\n",
       "      <td>classifieds</td>\n",
       "      <td>News, Search and Messaging</td>\n",
       "      <td>5.538345e+08</td>\n",
       "      <td>76</td>\n",
       "    </tr>\n",
       "    <tr>\n",
       "      <th>491</th>\n",
       "      <td>/organization/mosambee</td>\n",
       "      <td>5000000.0</td>\n",
       "      <td>Mosambee</td>\n",
       "      <td>Fruit</td>\n",
       "      <td>IND</td>\n",
       "      <td>fruit</td>\n",
       "      <td>fruit</td>\n",
       "      <td>Others</td>\n",
       "      <td>1.253410e+09</td>\n",
       "      <td>158</td>\n",
       "    </tr>\n",
       "    <tr>\n",
       "      <th>492</th>\n",
       "      <td>/organization/poolmyride</td>\n",
       "      <td>5000000.0</td>\n",
       "      <td>POOLMYRIDE</td>\n",
       "      <td>Air Pollution Control|Android|Apps|Environment...</td>\n",
       "      <td>IND</td>\n",
       "      <td>air pollution control</td>\n",
       "      <td>air pollution control</td>\n",
       "      <td>Cleantech / Semiconductors</td>\n",
       "      <td>2.103800e+08</td>\n",
       "      <td>29</td>\n",
       "    </tr>\n",
       "  </tbody>\n",
       "</table>\n",
       "<p>493 rows × 10 columns</p>\n",
       "</div>"
      ],
      "text/plain": [
       "                              company_permalink  raised_amount_usd  \\\n",
       "0                           /organization/-fame         10000000.0   \n",
       "1                           /organization/ameyo          5000000.0   \n",
       "2                         /organization/applabs         10000000.0   \n",
       "3             /organization/appsdaily-solutions          5000000.0   \n",
       "4    /organization/canvera-digital-technologies          6500000.0   \n",
       "..                                          ...                ...   \n",
       "488            /organization/vinculum-solutions          5000000.0   \n",
       "489                 /organization/matrimony-com         11750000.0   \n",
       "490                 /organization/matrimony-com          8650000.0   \n",
       "491                      /organization/mosambee          5000000.0   \n",
       "492                    /organization/poolmyride          5000000.0   \n",
       "\n",
       "                             name  \\\n",
       "0                           #fame   \n",
       "1                           Ameyo   \n",
       "2                         AppLabs   \n",
       "3             Appsdaily Solutions   \n",
       "4    Canvera Digital Technologies   \n",
       "..                            ...   \n",
       "488            Vinculum Solutions   \n",
       "489                 Matrimony.com   \n",
       "490                 Matrimony.com   \n",
       "491                      Mosambee   \n",
       "492                    POOLMYRIDE   \n",
       "\n",
       "                                       category_list_x country_code  \\\n",
       "0                                                Media          IND   \n",
       "1                                             Software          IND   \n",
       "2                                             Software          IND   \n",
       "3                                             Software          IND   \n",
       "4                                             Software          IND   \n",
       "..                                                 ...          ...   \n",
       "488                         Retail Technology|Software          IND   \n",
       "489                            Classifieds|Curated Web          IND   \n",
       "490                            Classifieds|Curated Web          IND   \n",
       "491                                              Fruit          IND   \n",
       "492  Air Pollution Control|Android|Apps|Environment...          IND   \n",
       "\n",
       "            primary_sector        category_list_y  \\\n",
       "0                    media                  media   \n",
       "1                 software               software   \n",
       "2                 software               software   \n",
       "3                 software               software   \n",
       "4                 software               software   \n",
       "..                     ...                    ...   \n",
       "488      retail technology      retail technology   \n",
       "489            classifieds            classifieds   \n",
       "490            classifieds            classifieds   \n",
       "491                  fruit                  fruit   \n",
       "492  air pollution control  air pollution control   \n",
       "\n",
       "                                 main_sector  \\\n",
       "0                              Entertainment   \n",
       "1                                     Others   \n",
       "2                                     Others   \n",
       "3                                     Others   \n",
       "4                                     Others   \n",
       "..                                       ...   \n",
       "488  Social, Finance, Analytics, Advertising   \n",
       "489               News, Search and Messaging   \n",
       "490               News, Search and Messaging   \n",
       "491                                   Others   \n",
       "492               Cleantech / Semiconductors   \n",
       "\n",
       "     (raised_amount_usd, Total_amount)  (raised_amount_usd, Total_count)  \n",
       "0                         3.508300e+08                                47  \n",
       "1                         1.253410e+09                               158  \n",
       "2                         1.253410e+09                               158  \n",
       "3                         1.253410e+09                               158  \n",
       "4                         1.253410e+09                               158  \n",
       "..                                 ...                               ...  \n",
       "488                       7.805496e+08                               106  \n",
       "489                       5.538345e+08                                76  \n",
       "490                       5.538345e+08                                76  \n",
       "491                       1.253410e+09                               158  \n",
       "492                       2.103800e+08                                29  \n",
       "\n",
       "[493 rows x 10 columns]"
      ]
     },
     "execution_count": 98,
     "metadata": {},
     "output_type": "execute_result"
    }
   ],
   "source": [
    "### From the master_frame data frame lets create a dataframe D1 for the sectors and its respective investments for 'IND'\n",
    "D3 = master_frame[(master_frame['country_code'] == 'IND')]\n",
    "D3_grouped_data = D3[['raised_amount_usd','main_sector']].groupby('main_sector').agg(['sum', 'count']).rename(\n",
    "    columns={'sum':'Total_amount','count' : 'Total_count'})\n",
    "D3 = D3.merge(D3_grouped_data, how='left', on ='main_sector')\n",
    "D3"
   ]
  },
  {
   "cell_type": "markdown",
   "id": "87d1edfb",
   "metadata": {},
   "source": [
    "### Sector-wise Investment Analysis"
   ]
  },
  {
   "cell_type": "code",
   "execution_count": 99,
   "id": "0a202da6",
   "metadata": {},
   "outputs": [
    {
     "name": "stdout",
     "output_type": "stream",
     "text": [
      "14154\n",
      "845\n",
      "493\n"
     ]
    }
   ],
   "source": [
    "#Total number of investments (count)\n",
    "print(D1.raised_amount_usd.count())\n",
    "print(D2.raised_amount_usd.count())\n",
    "print(D3.raised_amount_usd.count())"
   ]
  },
  {
   "cell_type": "code",
   "execution_count": 100,
   "id": "ff0cfad5",
   "metadata": {},
   "outputs": [
    {
     "name": "stdout",
     "output_type": "stream",
     "text": [
      "118212097294.0\n",
      "6499078691.0\n",
      "3774543602.0\n"
     ]
    }
   ],
   "source": [
    "#Total amount of investment (USD)\n",
    "print(round(D1.raised_amount_usd.sum(), 2))\n",
    "print(round(D2.raised_amount_usd.sum(), 2))\n",
    "print(round(D3.raised_amount_usd.sum(), 2))"
   ]
  },
  {
   "cell_type": "code",
   "execution_count": 101,
   "id": "2efe0f35",
   "metadata": {},
   "outputs": [
    {
     "data": {
      "text/html": [
       "<div>\n",
       "<style scoped>\n",
       "    .dataframe tbody tr th:only-of-type {\n",
       "        vertical-align: middle;\n",
       "    }\n",
       "\n",
       "    .dataframe tbody tr th {\n",
       "        vertical-align: top;\n",
       "    }\n",
       "\n",
       "    .dataframe thead tr th {\n",
       "        text-align: left;\n",
       "    }\n",
       "\n",
       "    .dataframe thead tr:last-of-type th {\n",
       "        text-align: right;\n",
       "    }\n",
       "</style>\n",
       "<table border=\"1\" class=\"dataframe\">\n",
       "  <thead>\n",
       "    <tr>\n",
       "      <th></th>\n",
       "      <th colspan=\"2\" halign=\"left\">raised_amount_usd</th>\n",
       "    </tr>\n",
       "    <tr>\n",
       "      <th></th>\n",
       "      <th>Total_amount</th>\n",
       "      <th>Total_count</th>\n",
       "    </tr>\n",
       "    <tr>\n",
       "      <th>main_sector</th>\n",
       "      <th></th>\n",
       "      <th></th>\n",
       "    </tr>\n",
       "  </thead>\n",
       "  <tbody>\n",
       "    <tr>\n",
       "      <th>Automotive &amp; Sports</th>\n",
       "      <td>1.759104e+09</td>\n",
       "      <td>228</td>\n",
       "    </tr>\n",
       "    <tr>\n",
       "      <th>Cleantech / Semiconductors</th>\n",
       "      <td>2.299343e+10</td>\n",
       "      <td>2622</td>\n",
       "    </tr>\n",
       "    <tr>\n",
       "      <th>Entertainment</th>\n",
       "      <td>5.764198e+09</td>\n",
       "      <td>724</td>\n",
       "    </tr>\n",
       "    <tr>\n",
       "      <th>Health</th>\n",
       "      <td>8.931859e+09</td>\n",
       "      <td>1053</td>\n",
       "    </tr>\n",
       "    <tr>\n",
       "      <th>Manufacturing</th>\n",
       "      <td>8.208553e+09</td>\n",
       "      <td>989</td>\n",
       "    </tr>\n",
       "    <tr>\n",
       "      <th>News, Search and Messaging</th>\n",
       "      <td>1.528157e+10</td>\n",
       "      <td>1845</td>\n",
       "    </tr>\n",
       "    <tr>\n",
       "      <th>Others</th>\n",
       "      <td>2.858601e+10</td>\n",
       "      <td>3403</td>\n",
       "    </tr>\n",
       "    <tr>\n",
       "      <th>Social, Finance, Analytics, Advertising</th>\n",
       "      <td>2.668738e+10</td>\n",
       "      <td>3290</td>\n",
       "    </tr>\n",
       "  </tbody>\n",
       "</table>\n",
       "</div>"
      ],
      "text/plain": [
       "                                        raised_amount_usd            \n",
       "                                             Total_amount Total_count\n",
       "main_sector                                                          \n",
       "Automotive & Sports                          1.759104e+09         228\n",
       "Cleantech / Semiconductors                   2.299343e+10        2622\n",
       "Entertainment                                5.764198e+09         724\n",
       "Health                                       8.931859e+09        1053\n",
       "Manufacturing                                8.208553e+09         989\n",
       "News, Search and Messaging                   1.528157e+10        1845\n",
       "Others                                       2.858601e+10        3403\n",
       "Social, Finance, Analytics, Advertising      2.668738e+10        3290"
      ]
     },
     "execution_count": 101,
     "metadata": {},
     "output_type": "execute_result"
    }
   ],
   "source": [
    "#Top sector, second-top, third-top for D1 (based on count of investments)\n",
    "#Number of investments in the top, second-top, third-top sector in D1\n",
    "D1_grouped_data"
   ]
  },
  {
   "cell_type": "code",
   "execution_count": 102,
   "id": "ad2dddda",
   "metadata": {},
   "outputs": [
    {
     "data": {
      "text/plain": [
       "<Figure size 720x720 with 0 Axes>"
      ]
     },
     "metadata": {},
     "output_type": "display_data"
    },
    {
     "data": {
      "image/png": "[encoded data removed]",
      "text/plain": [
       "<Figure size 432x288 with 1 Axes>"
      ]
     },
     "metadata": {
      "needs_background": "light"
     },
     "output_type": "display_data"
    }
   ],
   "source": [
    "### Finding top 3 sectors for D1 based on sum of investements on each sector\n",
    "plt.figure(figsize=(10, 10))\n",
    "d1_sectors_investement_sum_gr = D1[['raised_amount_usd','main_sector']].groupby('main_sector').agg(['sum'])\n",
    "d1_sectors_investement_sum = d1_sectors_investement_sum_gr.plot.barh(legend=False)\n",
    "d1_sectors_investement_sum.set(xlabel=\"Investements Sum\", ylabel = \"Main Sector\")\n",
    "plt.title(\"Total Investments on each sector by USA\")\n",
    "plt.show()"
   ]
  },
  {
   "cell_type": "markdown",
   "id": "fc555ca4",
   "metadata": {},
   "source": [
    "### From the above it is clear that for USA based on sum of investemets Top 3 sectors are `Others, Social, Finance, Analytics, Advertising, Cleantech / Semiconductors\t`"
   ]
  },
  {
   "cell_type": "code",
   "execution_count": 103,
   "id": "7e3be924",
   "metadata": {},
   "outputs": [
    {
     "data": {
      "text/plain": [
       "<Figure size 720x720 with 0 Axes>"
      ]
     },
     "metadata": {},
     "output_type": "display_data"
    },
    {
     "data": {
      "image/png": "[encoded data removed]",
      "text/plain": [
       "<Figure size 432x288 with 1 Axes>"
      ]
     },
     "metadata": {
      "needs_background": "light"
     },
     "output_type": "display_data"
    }
   ],
   "source": [
    "### Finding top 3 sectors for D1 based on count of investements on each sector\n",
    "plt.figure(figsize=(10, 10))\n",
    "d1_sectors_investement_count_gr = D1[['raised_amount_usd','main_sector']].groupby('main_sector').agg(['count'])\n",
    "d1_sectors_investement_count = d1_sectors_investement_count_gr.plot.barh(legend=False)\n",
    "d1_sectors_investement_count.set(xlabel=\"Investements Count\", ylabel = \"Main Sector\")\n",
    "plt.title(\"Investments Count on each sector by USA\")\n",
    "plt.show()"
   ]
  },
  {
   "cell_type": "markdown",
   "id": "df2c53f5",
   "metadata": {},
   "source": [
    "### From the above it is clear that for USA based on Count of investemets Top 3 sectors are `Others, Social, Finance, Analytics, Advertising, Cleantech / Semiconductors`"
   ]
  },
  {
   "cell_type": "code",
   "execution_count": null,
   "id": "5131896d",
   "metadata": {},
   "outputs": [],
   "source": []
  },
  {
   "cell_type": "code",
   "execution_count": 104,
   "id": "34362a63",
   "metadata": {},
   "outputs": [
    {
     "data": {
      "text/html": [
       "<div>\n",
       "<style scoped>\n",
       "    .dataframe tbody tr th:only-of-type {\n",
       "        vertical-align: middle;\n",
       "    }\n",
       "\n",
       "    .dataframe tbody tr th {\n",
       "        vertical-align: top;\n",
       "    }\n",
       "\n",
       "    .dataframe thead tr th {\n",
       "        text-align: left;\n",
       "    }\n",
       "\n",
       "    .dataframe thead tr:last-of-type th {\n",
       "        text-align: right;\n",
       "    }\n",
       "</style>\n",
       "<table border=\"1\" class=\"dataframe\">\n",
       "  <thead>\n",
       "    <tr>\n",
       "      <th></th>\n",
       "      <th colspan=\"2\" halign=\"left\">raised_amount_usd</th>\n",
       "    </tr>\n",
       "    <tr>\n",
       "      <th></th>\n",
       "      <th>Total_amount</th>\n",
       "      <th>Total_count</th>\n",
       "    </tr>\n",
       "    <tr>\n",
       "      <th>main_sector</th>\n",
       "      <th></th>\n",
       "      <th></th>\n",
       "    </tr>\n",
       "  </thead>\n",
       "  <tbody>\n",
       "    <tr>\n",
       "      <th>Automotive &amp; Sports</th>\n",
       "      <td>2.170516e+08</td>\n",
       "      <td>26</td>\n",
       "    </tr>\n",
       "    <tr>\n",
       "      <th>Cleantech / Semiconductors</th>\n",
       "      <td>1.283990e+09</td>\n",
       "      <td>154</td>\n",
       "    </tr>\n",
       "    <tr>\n",
       "      <th>Entertainment</th>\n",
       "      <td>6.027847e+08</td>\n",
       "      <td>80</td>\n",
       "    </tr>\n",
       "    <tr>\n",
       "      <th>Health</th>\n",
       "      <td>2.545375e+08</td>\n",
       "      <td>32</td>\n",
       "    </tr>\n",
       "    <tr>\n",
       "      <th>Manufacturing</th>\n",
       "      <td>4.119403e+08</td>\n",
       "      <td>52</td>\n",
       "    </tr>\n",
       "    <tr>\n",
       "      <th>News, Search and Messaging</th>\n",
       "      <td>7.357462e+08</td>\n",
       "      <td>97</td>\n",
       "    </tr>\n",
       "    <tr>\n",
       "      <th>Others</th>\n",
       "      <td>1.603624e+09</td>\n",
       "      <td>211</td>\n",
       "    </tr>\n",
       "    <tr>\n",
       "      <th>Social, Finance, Analytics, Advertising</th>\n",
       "      <td>1.389404e+09</td>\n",
       "      <td>193</td>\n",
       "    </tr>\n",
       "  </tbody>\n",
       "</table>\n",
       "</div>"
      ],
      "text/plain": [
       "                                        raised_amount_usd            \n",
       "                                             Total_amount Total_count\n",
       "main_sector                                                          \n",
       "Automotive & Sports                          2.170516e+08          26\n",
       "Cleantech / Semiconductors                   1.283990e+09         154\n",
       "Entertainment                                6.027847e+08          80\n",
       "Health                                       2.545375e+08          32\n",
       "Manufacturing                                4.119403e+08          52\n",
       "News, Search and Messaging                   7.357462e+08          97\n",
       "Others                                       1.603624e+09         211\n",
       "Social, Finance, Analytics, Advertising      1.389404e+09         193"
      ]
     },
     "execution_count": 104,
     "metadata": {},
     "output_type": "execute_result"
    }
   ],
   "source": [
    "#Top sector, second-top, third-top for D2 (based on count of investments)\n",
    "#Number of investments in the top, second-top, third-top sector in D2\n",
    "D2_grouped_data"
   ]
  },
  {
   "cell_type": "code",
   "execution_count": 105,
   "id": "4667ed09",
   "metadata": {},
   "outputs": [
    {
     "data": {
      "text/plain": [
       "<Figure size 720x720 with 0 Axes>"
      ]
     },
     "metadata": {},
     "output_type": "display_data"
    },
    {
     "data": {
      "image/png": "[encoded data removed]",
      "text/plain": [
       "<Figure size 432x288 with 1 Axes>"
      ]
     },
     "metadata": {
      "needs_background": "light"
     },
     "output_type": "display_data"
    }
   ],
   "source": [
    "### Finding top 3 sectors for D2 based on sum of investements on each sector\n",
    "plt.figure(figsize=(10, 10))\n",
    "d2_sectors_investement_sum_gr = D2[['raised_amount_usd','main_sector']].groupby('main_sector').agg(['sum'])\n",
    "d2_sectors_investement_sum = d2_sectors_investement_sum_gr.plot.barh(legend=False)\n",
    "d2_sectors_investement_sum.set(xlabel=\"Investements Sum\", ylabel = \"Main Sector\")\n",
    "plt.title(\"Total Investments on each sector by GBR\")\n",
    "plt.show()"
   ]
  },
  {
   "cell_type": "markdown",
   "id": "11d0fd64",
   "metadata": {},
   "source": [
    "### From the above it is clear that for GBR based on sum of investemets Top 3 sectors are `Others, Social, Finance, Analytics, Advertising, Cleantech / Semiconductors`"
   ]
  },
  {
   "cell_type": "code",
   "execution_count": 106,
   "id": "0b7e0091",
   "metadata": {},
   "outputs": [
    {
     "data": {
      "text/plain": [
       "<Figure size 720x720 with 0 Axes>"
      ]
     },
     "metadata": {},
     "output_type": "display_data"
    },
    {
     "data": {
      "image/png": "[encoded data removed]",
      "text/plain": [
       "<Figure size 432x288 with 1 Axes>"
      ]
     },
     "metadata": {
      "needs_background": "light"
     },
     "output_type": "display_data"
    }
   ],
   "source": [
    "### Finding top 3 sectors for D2 based on count of investements on each sector\n",
    "plt.figure(figsize=(10, 10))\n",
    "d2_sectors_investement_count_gr = D2[['raised_amount_usd','main_sector']].groupby('main_sector').agg(['count'])\n",
    "d2_sectors_investement_count = d2_sectors_investement_count_gr.plot.barh(legend=False)\n",
    "d2_sectors_investement_count.set(xlabel=\"Investements Count\", ylabel = \"Main Sector\")\n",
    "plt.title(\"Investments count on each sector by GBR\")\n",
    "plt.show()"
   ]
  },
  {
   "cell_type": "markdown",
   "id": "8a72fe41",
   "metadata": {},
   "source": [
    "### From the above it is clear that for GBR based on count of investemets Top 3 sectors are `Others, Social, Finance, Analytics, Advertising, Cleantech / Semiconductors`"
   ]
  },
  {
   "cell_type": "code",
   "execution_count": null,
   "id": "8c32949a",
   "metadata": {},
   "outputs": [],
   "source": []
  },
  {
   "cell_type": "code",
   "execution_count": 107,
   "id": "615759e4",
   "metadata": {},
   "outputs": [
    {
     "data": {
      "text/html": [
       "<div>\n",
       "<style scoped>\n",
       "    .dataframe tbody tr th:only-of-type {\n",
       "        vertical-align: middle;\n",
       "    }\n",
       "\n",
       "    .dataframe tbody tr th {\n",
       "        vertical-align: top;\n",
       "    }\n",
       "\n",
       "    .dataframe thead tr th {\n",
       "        text-align: left;\n",
       "    }\n",
       "\n",
       "    .dataframe thead tr:last-of-type th {\n",
       "        text-align: right;\n",
       "    }\n",
       "</style>\n",
       "<table border=\"1\" class=\"dataframe\">\n",
       "  <thead>\n",
       "    <tr>\n",
       "      <th></th>\n",
       "      <th colspan=\"2\" halign=\"left\">raised_amount_usd</th>\n",
       "    </tr>\n",
       "    <tr>\n",
       "      <th></th>\n",
       "      <th>Total_amount</th>\n",
       "      <th>Total_count</th>\n",
       "    </tr>\n",
       "    <tr>\n",
       "      <th>main_sector</th>\n",
       "      <th></th>\n",
       "      <th></th>\n",
       "    </tr>\n",
       "  </thead>\n",
       "  <tbody>\n",
       "    <tr>\n",
       "      <th>Automotive &amp; Sports</th>\n",
       "      <td>1.419000e+08</td>\n",
       "      <td>14</td>\n",
       "    </tr>\n",
       "    <tr>\n",
       "      <th>Cleantech / Semiconductors</th>\n",
       "      <td>2.103800e+08</td>\n",
       "      <td>29</td>\n",
       "    </tr>\n",
       "    <tr>\n",
       "      <th>Entertainment</th>\n",
       "      <td>3.508300e+08</td>\n",
       "      <td>47</td>\n",
       "    </tr>\n",
       "    <tr>\n",
       "      <th>Health</th>\n",
       "      <td>2.377400e+08</td>\n",
       "      <td>33</td>\n",
       "    </tr>\n",
       "    <tr>\n",
       "      <th>Manufacturing</th>\n",
       "      <td>2.459000e+08</td>\n",
       "      <td>30</td>\n",
       "    </tr>\n",
       "    <tr>\n",
       "      <th>News, Search and Messaging</th>\n",
       "      <td>5.538345e+08</td>\n",
       "      <td>76</td>\n",
       "    </tr>\n",
       "    <tr>\n",
       "      <th>Others</th>\n",
       "      <td>1.253410e+09</td>\n",
       "      <td>158</td>\n",
       "    </tr>\n",
       "    <tr>\n",
       "      <th>Social, Finance, Analytics, Advertising</th>\n",
       "      <td>7.805496e+08</td>\n",
       "      <td>106</td>\n",
       "    </tr>\n",
       "  </tbody>\n",
       "</table>\n",
       "</div>"
      ],
      "text/plain": [
       "                                        raised_amount_usd            \n",
       "                                             Total_amount Total_count\n",
       "main_sector                                                          \n",
       "Automotive & Sports                          1.419000e+08          14\n",
       "Cleantech / Semiconductors                   2.103800e+08          29\n",
       "Entertainment                                3.508300e+08          47\n",
       "Health                                       2.377400e+08          33\n",
       "Manufacturing                                2.459000e+08          30\n",
       "News, Search and Messaging                   5.538345e+08          76\n",
       "Others                                       1.253410e+09         158\n",
       "Social, Finance, Analytics, Advertising      7.805496e+08         106"
      ]
     },
     "execution_count": 107,
     "metadata": {},
     "output_type": "execute_result"
    }
   ],
   "source": [
    "#Top sector, second-top, third-top for D3 (based on count of investments)\n",
    "#Number of investments in the top, second-top, third-top sector in D3\n",
    "D3_grouped_data"
   ]
  },
  {
   "cell_type": "code",
   "execution_count": 108,
   "id": "9e2e4f9d",
   "metadata": {},
   "outputs": [
    {
     "data": {
      "text/plain": [
       "<Figure size 720x720 with 0 Axes>"
      ]
     },
     "metadata": {},
     "output_type": "display_data"
    },
    {
     "data": {
      "image/png": "[encoded data removed]",
      "text/plain": [
       "<Figure size 432x288 with 1 Axes>"
      ]
     },
     "metadata": {
      "needs_background": "light"
     },
     "output_type": "display_data"
    }
   ],
   "source": [
    "### Finding top 3 sectors for D3 based on sum of investements on each sector\n",
    "plt.figure(figsize=(10, 10))\n",
    "d3_sectors_investement_sum_gr = D3[['raised_amount_usd','main_sector']].groupby('main_sector').agg(['sum'])\n",
    "d3_sectors_investement_sum = d3_sectors_investement_sum_gr.plot.barh(legend=False)\n",
    "d3_sectors_investement_sum.set(xlabel=\"Investements Sum\", ylabel = \"Main Sector\")\n",
    "plt.title(\"Total Investments on each sector by IND\")\n",
    "plt.show()"
   ]
  },
  {
   "cell_type": "markdown",
   "id": "ff80e361",
   "metadata": {},
   "source": [
    "### From the above it is clear that for IND based on sum of investemets Top 3 sectors are `Others, Social, Finance, Analytics, Advertising, News, Search and Messaging`"
   ]
  },
  {
   "cell_type": "code",
   "execution_count": 109,
   "id": "f1aa16c8",
   "metadata": {},
   "outputs": [
    {
     "data": {
      "text/plain": [
       "<Figure size 720x720 with 0 Axes>"
      ]
     },
     "metadata": {},
     "output_type": "display_data"
    },
    {
     "data": {
      "image/png": "[encoded data removed]",
      "text/plain": [
       "<Figure size 432x288 with 1 Axes>"
      ]
     },
     "metadata": {
      "needs_background": "light"
     },
     "output_type": "display_data"
    }
   ],
   "source": [
    "### Finding top 3 sectors for D3 based on count of investements on each sector\n",
    "plt.figure(figsize=(10, 10))\n",
    "d3_sectors_investement_count_gr = D3[['raised_amount_usd','main_sector']].groupby('main_sector').agg(['count'])\n",
    "d3_sectors_investement_count = d3_sectors_investement_count_gr.plot.barh(legend=False)\n",
    "d3_sectors_investement_count.set(xlabel=\"Investements Count\", ylabel = \"Main Sector\")\n",
    "plt.title(\"Investments count on each sector by IND\")\n",
    "plt.show()"
   ]
  },
  {
   "cell_type": "markdown",
   "id": "a99c1e7c",
   "metadata": {},
   "source": [
    "### From the above it is clear that for IND based on count of investemets Top 3 sectors are `Others, Social, Finance, Analytics, Advertising, News, Search and Messaging`"
   ]
  },
  {
   "cell_type": "code",
   "execution_count": null,
   "id": "a6e556cf",
   "metadata": {},
   "outputs": [],
   "source": []
  },
  {
   "cell_type": "markdown",
   "id": "5844c36b",
   "metadata": {},
   "source": [
    "### Therefore based on No.Of investements Top3 Sectors for each country are as follows\n",
    "###\n",
    "\n",
    "    ###    -----------------------------------------------------------------------------------------------------\n",
    "    ###    | Country_Code |    Top1    |               Top2                   |          Top3          |\n",
    "    ###    -----------------------------------------------------------------------------------------------------\n",
    "    ###    |    USA       |   OTHERS   | Social, Finance, Analytics, Advertising  | Cleantech / Semiconductors |\n",
    "    ###    |    GBR       |   OTHERS   | Social, Finance, Analytics, Advertising  | Cleantech / Semiconductors |\n",
    "    ###    |    IND       |   OTHERS   | Social, Finance, Analytics, Advertising  | News, Search and Messaging |\n",
    "    ###    -----------------------------------------------------------------------------------------------------\n",
    "    \n",
    " \n",
    "### Therefore based on Total Sum.Of investements Top3 Sectors for each country are as follows\n",
    "###\n",
    "\n",
    "    ###    -----------------------------------------------------------------------------------------------------\n",
    "    ###    | Country_Code |    Top1    |               Top2                   |          Top3          |\n",
    "    ###    -----------------------------------------------------------------------------------------------------\n",
    "    ###    |    USA       |   OTHERS   | Social, Finance, Analytics, Advertising  | Cleantech / Semiconductors |\n",
    "    ###    |    GBR       |   OTHERS   | Social, Finance, Analytics, Advertising  | Cleantech / Semiconductors |\n",
    "    ###    |    IND       |   OTHERS   | Social, Finance, Analytics, Advertising  | News, Search and Messaging |\n",
    "    ###    -----------------------------------------------------------------------------------------------------"
   ]
  },
  {
   "cell_type": "code",
   "execution_count": null,
   "id": "7bcdea67",
   "metadata": {},
   "outputs": [],
   "source": []
  },
  {
   "cell_type": "code",
   "execution_count": 110,
   "id": "d8e409df",
   "metadata": {},
   "outputs": [
    {
     "name": "stdout",
     "output_type": "stream",
     "text": [
      "                           raised_amount_usd\n",
      "company_permalink                           \n",
      "/organization/virtustream         64300000.0\n",
      "                           raised_amount_usd\n",
      "company_permalink                           \n",
      "/organization/shotspotter         67933006.0\n"
     ]
    }
   ],
   "source": [
    "#For the top sector USA , which company received the highest investment?\n",
    "company_usa_others = D1[D1['main_sector']=='Others']\n",
    "company_usa_others = company_usa_others.pivot_table(values = 'raised_amount_usd', index = 'company_permalink', aggfunc = 'sum')\n",
    "company_usa_others = company_usa_others.sort_values(by = 'raised_amount_usd', ascending = False).head()\n",
    "print(company_usa_others.head(1))\n",
    "\n",
    "#For the second top sector USA , which company received the highest investment?\n",
    "company_usa_sfaa = D1[D1['main_sector']=='Social, Finance, Analytics, Advertising']\n",
    "company_usa_sfaa = company_usa_sfaa.pivot_table(values = 'raised_amount_usd', index = 'company_permalink', aggfunc = 'sum')\n",
    "company_usa_sfaa = company_usa_sfaa.sort_values(by = 'raised_amount_usd', ascending = False).head()\n",
    "print(company_usa_sfaa.head(1))"
   ]
  },
  {
   "cell_type": "code",
   "execution_count": 111,
   "id": "440599ef",
   "metadata": {},
   "outputs": [
    {
     "data": {
      "text/plain": [
       "<Figure size 720x720 with 0 Axes>"
      ]
     },
     "metadata": {},
     "output_type": "display_data"
    },
    {
     "data": {
      "image/png": "[encoded data removed]",
      "text/plain": [
       "<Figure size 432x288 with 1 Axes>"
      ]
     },
     "metadata": {
      "needs_background": "light"
     },
     "output_type": "display_data"
    }
   ],
   "source": [
    "### Finding top company invested on top sector from USA\n",
    "plt.figure(figsize=(10, 10))\n",
    "company_usa_others_plot = company_usa_others.plot.barh(legend=False)\n",
    "company_usa_others_plot.set(xlabel=\"Investements Sum in USD (Millions)\", ylabel = \"Main Sector\")\n",
    "plt.show()"
   ]
  },
  {
   "cell_type": "code",
   "execution_count": 112,
   "id": "692f164d",
   "metadata": {},
   "outputs": [
    {
     "data": {
      "text/plain": [
       "<Figure size 720x720 with 0 Axes>"
      ]
     },
     "metadata": {},
     "output_type": "display_data"
    },
    {
     "data": {
      "image/png": "[encoded data removed]",
      "text/plain": [
       "<Figure size 432x288 with 1 Axes>"
      ]
     },
     "metadata": {
      "needs_background": "light"
     },
     "output_type": "display_data"
    }
   ],
   "source": [
    "### Finding top company invested on 2nd top sector from USA\n",
    "plt.figure(figsize=(10, 10))\n",
    "company_usa_sfaa_plot = company_usa_sfaa.plot.barh(legend=False)\n",
    "company_usa_sfaa_plot.set(xlabel=\"Investements Sum in USD (Millions)\", ylabel = \"Main Sector\")\n",
    "plt.show()"
   ]
  },
  {
   "cell_type": "code",
   "execution_count": 113,
   "id": "e7ab6370",
   "metadata": {},
   "outputs": [
    {
     "name": "stdout",
     "output_type": "stream",
     "text": [
      "                                  raised_amount_usd\n",
      "company_permalink                                  \n",
      "/organization/electric-cloud             37000000.0\n",
      "/organization/notonthehighstreet         36900000.0\n",
      "                                     raised_amount_usd\n",
      "company_permalink                                     \n",
      "/organization/zopa                          37900000.0\n",
      "/organization/celltick-technologies         37500000.0\n"
     ]
    }
   ],
   "source": [
    "#For the top sector GBR , which company received the highest investment?\n",
    "company_gbr_others = D2[D2['main_sector']=='Others']\n",
    "company_gbr_others = company_gbr_others.pivot_table(values = 'raised_amount_usd', index = 'company_permalink', aggfunc = 'sum')\n",
    "company_gbr_others = company_gbr_others.sort_values(by = 'raised_amount_usd', ascending = False).head()\n",
    "print(company_gbr_others.head(2))\n",
    "\n",
    "#For the second top sector GBR , which company received the highest investment?\n",
    "company_gbr_sfaa = D2[D2['main_sector']=='Social, Finance, Analytics, Advertising']\n",
    "company_gbr_sfaa = company_gbr_sfaa.pivot_table(values = 'raised_amount_usd', index = 'company_permalink', aggfunc = 'sum')\n",
    "company_gbr_sfaa = company_gbr_sfaa.sort_values(by = 'raised_amount_usd', ascending = False).head()\n",
    "print(company_gbr_sfaa.head(2))"
   ]
  },
  {
   "cell_type": "code",
   "execution_count": 114,
   "id": "53ed8822",
   "metadata": {},
   "outputs": [
    {
     "data": {
      "text/plain": [
       "<Figure size 720x720 with 0 Axes>"
      ]
     },
     "metadata": {},
     "output_type": "display_data"
    },
    {
     "data": {
      "image/png": "[encoded data removed]",
      "text/plain": [
       "<Figure size 432x288 with 1 Axes>"
      ]
     },
     "metadata": {
      "needs_background": "light"
     },
     "output_type": "display_data"
    }
   ],
   "source": [
    "### Finding top company invested on top sector from GBR\n",
    "plt.figure(figsize=(10, 10))\n",
    "company_gbr_others_plot = company_gbr_others.plot.barh(legend=False)\n",
    "company_gbr_others_plot.set(xlabel=\"Investements Sum in USD (Millions)\", ylabel = \"Main Sector\")\n",
    "plt.show()"
   ]
  },
  {
   "cell_type": "code",
   "execution_count": 115,
   "id": "fc0d2dee",
   "metadata": {},
   "outputs": [
    {
     "data": {
      "text/plain": [
       "<Figure size 720x720 with 0 Axes>"
      ]
     },
     "metadata": {},
     "output_type": "display_data"
    },
    {
     "data": {
      "image/png": "[encoded data removed]",
      "text/plain": [
       "<Figure size 432x288 with 1 Axes>"
      ]
     },
     "metadata": {
      "needs_background": "light"
     },
     "output_type": "display_data"
    }
   ],
   "source": [
    "### Finding top company invested on 2nd top sector from GBR\n",
    "plt.figure(figsize=(10, 10))\n",
    "company_gbr_sfaa_plot = company_gbr_sfaa.plot.barh(legend=False)\n",
    "company_gbr_sfaa_plot.set(xlabel=\"Investements Sum in USD (Millions)\", ylabel = \"Main Sector\")\n",
    "plt.show()"
   ]
  },
  {
   "cell_type": "code",
   "execution_count": 116,
   "id": "ab45bd47",
   "metadata": {},
   "outputs": [
    {
     "name": "stdout",
     "output_type": "stream",
     "text": [
      "                            raised_amount_usd\n",
      "company_permalink                            \n",
      "/organization/firstcry-com         39000000.0\n",
      "/organization/myntra               38000000.0\n",
      "                               raised_amount_usd\n",
      "company_permalink                               \n",
      "/organization/manthan-systems         50700000.0\n",
      "/organization/komli-media             28000000.0\n"
     ]
    }
   ],
   "source": [
    "#For the top sector IND , which company received the highest investment?\n",
    "company_ind_others = D3[D3['main_sector']=='Others']\n",
    "company_ind_others = company_ind_others.pivot_table(values = 'raised_amount_usd', index = 'company_permalink', aggfunc = 'sum')\n",
    "company_ind_others = company_ind_others.sort_values(by = 'raised_amount_usd', ascending = False).head()\n",
    "print(company_ind_others.head(2))\n",
    "\n",
    "#For the second top sector IND , which company received the highest investment?\n",
    "company_ind_sfaa = D3[D3['main_sector']=='Social, Finance, Analytics, Advertising']\n",
    "company_ind_sfaa = company_ind_sfaa.pivot_table(values = 'raised_amount_usd', index = 'company_permalink', aggfunc = 'sum')\n",
    "company_ind_sfaa = company_ind_sfaa.sort_values(by = 'raised_amount_usd', ascending = False).head()\n",
    "print(company_ind_sfaa.head(2))"
   ]
  },
  {
   "cell_type": "code",
   "execution_count": 117,
   "id": "9e52ebf3",
   "metadata": {},
   "outputs": [
    {
     "data": {
      "text/plain": [
       "<Figure size 720x720 with 0 Axes>"
      ]
     },
     "metadata": {},
     "output_type": "display_data"
    },
    {
     "data": {
      "image/png": "[encoded data removed]",
      "text/plain": [
       "<Figure size 432x288 with 1 Axes>"
      ]
     },
     "metadata": {
      "needs_background": "light"
     },
     "output_type": "display_data"
    }
   ],
   "source": [
    "### Finding top company invested on top sector from IND\n",
    "plt.figure(figsize=(10, 10))\n",
    "company_ind_others_plot = company_ind_others.plot.barh(legend=False)\n",
    "company_ind_others_plot.set(xlabel=\"Investements Sum in USD (Millions)\", ylabel = \"Main Sector\")\n",
    "plt.show()"
   ]
  },
  {
   "cell_type": "code",
   "execution_count": 118,
   "id": "15ee53b7",
   "metadata": {},
   "outputs": [
    {
     "data": {
      "text/plain": [
       "<Figure size 720x720 with 0 Axes>"
      ]
     },
     "metadata": {},
     "output_type": "display_data"
    },
    {
     "data": {
      "image/png": "[encoded data removed]",
      "text/plain": [
       "<Figure size 432x288 with 1 Axes>"
      ]
     },
     "metadata": {
      "needs_background": "light"
     },
     "output_type": "display_data"
    }
   ],
   "source": [
    "### Finding top company invested on 2nd top sector from IND\n",
    "plt.figure(figsize=(10, 10))\n",
    "company_ind_sfaa_plot = company_ind_sfaa.plot.barh(legend=False)\n",
    "company_ind_sfaa_plot.set(xlabel=\"Investements Sum in USD (Millions)\", ylabel = \"Main Sector\")\n",
    "plt.show()"
   ]
  },
  {
   "cell_type": "code",
   "execution_count": null,
   "id": "3badc461",
   "metadata": {},
   "outputs": [],
   "source": []
  },
  {
   "cell_type": "code",
   "execution_count": 119,
   "id": "40d93d1b",
   "metadata": {},
   "outputs": [
    {
     "data": {
      "image/png": "[encoded data removed]",
      "text/plain": [
       "<Figure size 1152x1008 with 1 Axes>"
      ]
     },
     "metadata": {
      "needs_background": "light"
     },
     "output_type": "display_data"
    }
   ],
   "source": [
    "# plotting sector-wise count and sum of investments in the three countries\n",
    "plt.figure(figsize=(16,14))\n",
    "\n",
    "plt.subplot(2,1,1)\n",
    "sector_nd_amount_per_country =sb.barplot(x='main_sector', y='raised_amount_usd', hue='country_code', data=master_frame, estimator =np.sum)\n",
    "sector_nd_amount_per_country.set_xticklabels(sector_nd_amount_per_country.get_xticklabels(), rotation = 90)\n",
    "sector_nd_amount_per_country.set(xlabel=\"Main Sector\", ylabel = \"Amount in USD\")\n",
    "\n",
    "### Using log scale to see the bars very clearly to analyse the top invested sectors by country easily\n",
    "sector_nd_amount_per_country.set_yscale(\"log\")\n",
    "\n",
    "plt.title(\"Total Invested Amount (USD) of each country per sector\")\n",
    "plt.show()"
   ]
  },
  {
   "cell_type": "code",
   "execution_count": 120,
   "id": "30734c9f",
   "metadata": {},
   "outputs": [
    {
     "ename": "NameError",
     "evalue": "name 'q' is not defined",
     "output_type": "error",
     "traceback": [
      "\u001b[0;31m---------------------------------------------------------------------------\u001b[0m",
      "\u001b[0;31mNameError\u001b[0m                                 Traceback (most recent call last)",
      "\u001b[0;32m<ipython-input-120-e515e88a5fe0>\u001b[0m in \u001b[0;36m<module>\u001b[0;34m\u001b[0m\n\u001b[1;32m      2\u001b[0m \u001b[0mplt\u001b[0m\u001b[0;34m.\u001b[0m\u001b[0msubplot\u001b[0m\u001b[0;34m(\u001b[0m\u001b[0;36m2\u001b[0m\u001b[0;34m,\u001b[0m\u001b[0;36m1\u001b[0m\u001b[0;34m,\u001b[0m\u001b[0;36m1\u001b[0m\u001b[0;34m)\u001b[0m\u001b[0;34m\u001b[0m\u001b[0;34m\u001b[0m\u001b[0m\n\u001b[1;32m      3\u001b[0m \u001b[0msector_nd_count_per_country\u001b[0m \u001b[0;34m=\u001b[0m \u001b[0msb\u001b[0m\u001b[0;34m.\u001b[0m\u001b[0mcountplot\u001b[0m\u001b[0;34m(\u001b[0m\u001b[0mx\u001b[0m\u001b[0;34m=\u001b[0m\u001b[0;34m'main_sector'\u001b[0m\u001b[0;34m,\u001b[0m \u001b[0mhue\u001b[0m \u001b[0;34m=\u001b[0m\u001b[0;34m'country_code'\u001b[0m\u001b[0;34m,\u001b[0m \u001b[0mdata\u001b[0m \u001b[0;34m=\u001b[0m\u001b[0mmaster_frame\u001b[0m\u001b[0;34m)\u001b[0m\u001b[0;34m\u001b[0m\u001b[0;34m\u001b[0m\u001b[0m\n\u001b[0;32m----> 4\u001b[0;31m \u001b[0msector_nd_count_per_country\u001b[0m\u001b[0;34m.\u001b[0m\u001b[0mset_xticklabels\u001b[0m\u001b[0;34m(\u001b[0m\u001b[0mq\u001b[0m\u001b[0;34m.\u001b[0m\u001b[0mget_xticklabels\u001b[0m\u001b[0;34m(\u001b[0m\u001b[0;34m)\u001b[0m\u001b[0;34m,\u001b[0m \u001b[0mrotation\u001b[0m \u001b[0;34m=\u001b[0m \u001b[0;36m90\u001b[0m\u001b[0;34m)\u001b[0m\u001b[0;34m\u001b[0m\u001b[0;34m\u001b[0m\u001b[0m\n\u001b[0m\u001b[1;32m      5\u001b[0m \u001b[0msector_nd_count_per_country\u001b[0m\u001b[0;34m.\u001b[0m\u001b[0mset\u001b[0m\u001b[0;34m(\u001b[0m\u001b[0mxlabel\u001b[0m\u001b[0;34m=\u001b[0m\u001b[0;34m\"Main Sector\"\u001b[0m\u001b[0;34m,\u001b[0m \u001b[0mylabel\u001b[0m \u001b[0;34m=\u001b[0m \u001b[0;34m\"Count\"\u001b[0m\u001b[0;34m)\u001b[0m\u001b[0;34m\u001b[0m\u001b[0;34m\u001b[0m\u001b[0m\n\u001b[1;32m      6\u001b[0m \u001b[0mplt\u001b[0m\u001b[0;34m.\u001b[0m\u001b[0mtitle\u001b[0m\u001b[0;34m(\u001b[0m\u001b[0;34m\"Number of Investments for each country per sector\"\u001b[0m\u001b[0;34m)\u001b[0m\u001b[0;34m\u001b[0m\u001b[0;34m\u001b[0m\u001b[0m\n",
      "\u001b[0;31mNameError\u001b[0m: name 'q' is not defined"
     ]
    },
    {
     "data": {
      "image/png": "[encoded data removed]",
      "text/plain": [
       "<Figure size 1152x1008 with 1 Axes>"
      ]
     },
     "metadata": {
      "needs_background": "light"
     },
     "output_type": "display_data"
    }
   ],
   "source": [
    "plt.figure(figsize=(16,14))\n",
    "plt.subplot(2,1,1)\n",
    "sector_nd_count_per_country = sb.countplot(x='main_sector', hue ='country_code', data =master_frame)\n",
    "sector_nd_count_per_country.set_xticklabels(q.get_xticklabels(), rotation = 90)\n",
    "sector_nd_count_per_country.set(xlabel=\"Main Sector\", ylabel = \"Count\")\n",
    "plt.title(\"Number of Investments for each country per sector\")\n",
    "\n",
    "plt.show()"
   ]
  },
  {
   "cell_type": "markdown",
   "id": "d19f0d74",
   "metadata": {},
   "source": [
    "# Hence based on the analysis and observations following are derived\n",
    "\n",
    "## SparksFunds should invest in :-\n",
    "## Funding type : `Venture`\n",
    "## Countries : `USA, GBR, IND`\n",
    "## Top two sectors to invest in are \n",
    "   ###  1. `Others` \n",
    "   ###  2. `Social, Finance, Analytics, Advertising`\n",
    "### If `Others` is not considered then company can choose `Cleantech/Semiconductors`  as next option to invest since these are the top invested companies by top 3 english speaking countries"
   ]
  },
  {
   "cell_type": "code",
   "execution_count": null,
   "id": "f9ff5a0b",
   "metadata": {},
   "outputs": [],
   "source": []
  }
 ],
 "metadata": {
  "kernelspec": {
   "display_name": "Python 3",
   "language": "python",
   "name": "python3"
  },
  "language_info": {
   "codemirror_mode": {
    "name": "ipython",
    "version": 3
   },
   "file_extension": ".py",
   "mimetype": "text/x-python",
   "name": "python",
   "nbconvert_exporter": "python",
   "pygments_lexer": "ipython3",
   "version": "3.8.8"
  }
 },
 "nbformat": 4,
 "nbformat_minor": 5
}
